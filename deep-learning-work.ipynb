{
  "nbformat": 4,
  "nbformat_minor": 0,
  "metadata": {
    "colab": {
      "name": "Deep Learning Work",
      "provenance": [],
      "collapsed_sections": [],
      "include_colab_link": true
    },
    "kernelspec": {
      "name": "python3",
      "display_name": "Python 3"
    },
    "accelerator": "GPU"
  },
  "cells": [
    {
      "cell_type": "markdown",
      "metadata": {
        "id": "view-in-github",
        "colab_type": "text"
      },
      "source": [
        "<a href=\"https://colab.research.google.com/gist/sblot2/4804a903007574eaf06d6ce870e35989/deep-learning-work.ipynb\" target=\"_parent\"><img src=\"https://colab.research.google.com/assets/colab-badge.svg\" alt=\"Open In Colab\"/></a>"
      ]
    },
    {
      "cell_type": "markdown",
      "metadata": {
        "id": "DWWBqPvViwX2",
        "colab_type": "text"
      },
      "source": [
        "**Data Import**\n",
        "\n",
        "We first start by importing the packages that we will need. We then import our dataset as a csv file."
      ]
    },
    {
      "cell_type": "code",
      "metadata": {
        "id": "hPDzwiXhjDrH",
        "colab_type": "code",
        "colab": {}
      },
      "source": [
        "\n",
        "import string\n",
        "import numpy as np\n",
        "import pandas as pd\n",
        "import sklearn.feature_extraction as skprep\n",
        "from sklearn.metrics import roc_curve, auc\n",
        "from itertools import compress\n",
        "import matplotlib.pyplot as plt\n",
        "import seaborn as sns\n",
        "import random\n",
        "random.seed(250620279)\n",
        "%matplotlib inline"
      ],
      "execution_count": 0,
      "outputs": []
    },
    {
      "cell_type": "code",
      "metadata": {
        "id": "7lSAwEEtjOZF",
        "colab_type": "code",
        "outputId": "3d2c8bd4-cf88-476f-8471-3cb7f0485294",
        "colab": {
          "base_uri": "https://localhost:8080/",
          "height": 64
        }
      },
      "source": [
        "\n",
        "import tensorflow as tf\n",
        "import tensorflow.keras as keras\n",
        "from tensorflow.keras.utils import to_categorical\n",
        "from tensorflow.keras.models import Sequential, Model\n",
        "from tensorflow.keras.layers import Input, Embedding, Reshape, MaxPooling1D\n",
        "from tensorflow.keras.layers import Activation\n",
        "from tensorflow.keras.layers import Flatten, Dense, Dropout, Lambda\n",
        "from tensorflow.keras.layers import BatchNormalization\n",
        "from tensorflow.keras.optimizers import SGD, RMSprop, Adam\n",
        "from tensorflow.keras.metrics import categorical_crossentropy, categorical_accuracy\n",
        "from tensorflow.keras.layers import *\n",
        "from tensorflow.keras.preprocessing import image, sequence\n",
        "from tensorflow.keras.preprocessing.text import Tokenizer\n",
        "from tensorflow.keras.preprocessing.sequence import pad_sequences"
      ],
      "execution_count": 0,
      "outputs": [
        {
          "output_type": "display_data",
          "data": {
            "text/html": [
              "<p style=\"color: red;\">\n",
              "The default version of TensorFlow in Colab will soon switch to TensorFlow 2.x.<br>\n",
              "We recommend you <a href=\"https://www.tensorflow.org/guide/migrate\" target=\"_blank\">upgrade</a> now \n",
              "or ensure your notebook will continue to use TensorFlow 1.x via the <code>%tensorflow_version 1.x</code> magic:\n",
              "<a href=\"https://colab.research.google.com/notebooks/tensorflow_version.ipynb\" target=\"_blank\">more info</a>.</p>\n"
            ],
            "text/plain": [
              "<IPython.core.display.HTML object>"
            ]
          },
          "metadata": {
            "tags": []
          }
        }
      ]
    },
    {
      "cell_type": "code",
      "metadata": {
        "id": "FcI20xuXjlSO",
        "colab_type": "code",
        "outputId": "0a6a7118-1729-452e-f1ea-c2a08131809d",
        "colab": {
          "base_uri": "https://localhost:8080/",
          "height": 86
        }
      },
      "source": [
        "# Downloading the data using gdown\n",
        "! gdown  https://drive.google.com/uc?id=1L0mjAKUJI7-FOeov2UuHGdLhtgB7Rs85\n",
        "\n",
        "full_data = pd.read_csv('/content/Full_Data.csv')"
      ],
      "execution_count": 0,
      "outputs": [
        {
          "output_type": "stream",
          "text": [
            "Downloading...\n",
            "From: https://drive.google.com/uc?id=1L0mjAKUJI7-FOeov2UuHGdLhtgB7Rs85\n",
            "To: /content/Full_Data.csv\n",
            "38.4MB [00:00, 74.4MB/s]\n"
          ],
          "name": "stdout"
        }
      ]
    },
    {
      "cell_type": "code",
      "metadata": {
        "id": "08sznFyHrGia",
        "colab_type": "code",
        "outputId": "3336a21c-ee39-47c7-8615-e43935762677",
        "colab": {
          "base_uri": "https://localhost:8080/",
          "height": 156
        }
      },
      "source": [
        "full_data.info()"
      ],
      "execution_count": 0,
      "outputs": [
        {
          "output_type": "stream",
          "text": [
            "<class 'pandas.core.frame.DataFrame'>\n",
            "RangeIndex: 204058 entries, 0 to 204057\n",
            "Data columns (total 3 columns):\n",
            "text          204058 non-null object\n",
            "sentiment     204058 non-null int64\n",
            "confidence    204058 non-null float64\n",
            "dtypes: float64(1), int64(1), object(1)\n",
            "memory usage: 4.7+ MB\n"
          ],
          "name": "stdout"
        }
      ]
    },
    {
      "cell_type": "markdown",
      "metadata": {
        "id": "VP-_-LXuAOI8",
        "colab_type": "text"
      },
      "source": [
        "We download our first imbedding which will be the fasttext imbedding. "
      ]
    },
    {
      "cell_type": "code",
      "metadata": {
        "id": "lsrMbzfH_tGR",
        "colab_type": "code",
        "outputId": "9ba181a3-c739-4039-8742-34e35175b897",
        "colab": {
          "base_uri": "https://localhost:8080/",
          "height": 1000
        }
      },
      "source": [
        "!wget https://github.com/facebookresearch/fastText/archive/v0.9.1.zip\n",
        "  \n",
        "!unzip v0.9.1.zip"
      ],
      "execution_count": 0,
      "outputs": [
        {
          "output_type": "stream",
          "text": [
            "--2019-12-16 20:18:15--  https://github.com/facebookresearch/fastText/archive/v0.9.1.zip\n",
            "Resolving github.com (github.com)... 140.82.118.3\n",
            "Connecting to github.com (github.com)|140.82.118.3|:443... connected.\n",
            "HTTP request sent, awaiting response... 302 Found\n",
            "Location: https://codeload.github.com/facebookresearch/fastText/zip/v0.9.1 [following]\n",
            "--2019-12-16 20:18:16--  https://codeload.github.com/facebookresearch/fastText/zip/v0.9.1\n",
            "Resolving codeload.github.com (codeload.github.com)... 140.82.113.9\n",
            "Connecting to codeload.github.com (codeload.github.com)|140.82.113.9|:443... connected.\n",
            "HTTP request sent, awaiting response... 200 OK\n",
            "Length: unspecified [application/zip]\n",
            "Saving to: ‘v0.9.1.zip’\n",
            "\n",
            "v0.9.1.zip              [    <=>             ]   4.13M  5.40MB/s    in 0.8s    \n",
            "\n",
            "2019-12-16 20:18:17 (5.40 MB/s) - ‘v0.9.1.zip’ saved [4327207]\n",
            "\n",
            "Archive:  v0.9.1.zip\n",
            "b5b7d307274ce00ef52198fbc692ed3bd11d9856\n",
            "   creating: fastText-0.9.1/\n",
            "   creating: fastText-0.9.1/.circleci/\n",
            "  inflating: fastText-0.9.1/.circleci/cmake_test.sh  \n",
            "  inflating: fastText-0.9.1/.circleci/config.yml  \n",
            "  inflating: fastText-0.9.1/.circleci/gcc_test.sh  \n",
            "  inflating: fastText-0.9.1/.circleci/pip_test.sh  \n",
            "  inflating: fastText-0.9.1/.circleci/pull_data.sh  \n",
            "  inflating: fastText-0.9.1/.circleci/python_test.sh  \n",
            "  inflating: fastText-0.9.1/.circleci/run_locally.sh  \n",
            "  inflating: fastText-0.9.1/.circleci/setup_circleimg.sh  \n",
            "  inflating: fastText-0.9.1/.circleci/setup_debian.sh  \n",
            "  inflating: fastText-0.9.1/.gitignore  \n",
            "  inflating: fastText-0.9.1/CMakeLists.txt  \n",
            "  inflating: fastText-0.9.1/CODE_OF_CONDUCT.md  \n",
            "  inflating: fastText-0.9.1/CONTRIBUTING.md  \n",
            "  inflating: fastText-0.9.1/LICENSE  \n",
            "  inflating: fastText-0.9.1/MANIFEST.in  \n",
            "  inflating: fastText-0.9.1/Makefile  \n",
            "  inflating: fastText-0.9.1/README.md  \n",
            "   creating: fastText-0.9.1/alignment/\n",
            "  inflating: fastText-0.9.1/alignment/README.md  \n",
            "  inflating: fastText-0.9.1/alignment/align.py  \n",
            "  inflating: fastText-0.9.1/alignment/eval.py  \n",
            "  inflating: fastText-0.9.1/alignment/example.sh  \n",
            "  inflating: fastText-0.9.1/alignment/unsup_align.py  \n",
            "  inflating: fastText-0.9.1/alignment/utils.py  \n",
            "  inflating: fastText-0.9.1/classification-example.sh  \n",
            "  inflating: fastText-0.9.1/classification-results.sh  \n",
            "   creating: fastText-0.9.1/crawl/\n",
            "  inflating: fastText-0.9.1/crawl/README.md  \n",
            "  inflating: fastText-0.9.1/crawl/dedup.cc  \n",
            "  inflating: fastText-0.9.1/crawl/download_crawl.sh  \n",
            "  inflating: fastText-0.9.1/crawl/filter_dedup.sh  \n",
            "  inflating: fastText-0.9.1/crawl/filter_utf8.cc  \n",
            "  inflating: fastText-0.9.1/crawl/process_wet_file.sh  \n",
            "   creating: fastText-0.9.1/docs/\n",
            "  inflating: fastText-0.9.1/docs/aligned-vectors.md  \n",
            "  inflating: fastText-0.9.1/docs/api.md  \n",
            "  inflating: fastText-0.9.1/docs/cheatsheet.md  \n",
            "  inflating: fastText-0.9.1/docs/crawl-vectors.md  \n",
            "  inflating: fastText-0.9.1/docs/dataset.md  \n",
            "  inflating: fastText-0.9.1/docs/english-vectors.md  \n",
            "  inflating: fastText-0.9.1/docs/faqs.md  \n",
            "  inflating: fastText-0.9.1/docs/language-identification.md  \n",
            "  inflating: fastText-0.9.1/docs/options.md  \n",
            "  inflating: fastText-0.9.1/docs/pretrained-vectors.md  \n",
            "  inflating: fastText-0.9.1/docs/python-module.md  \n",
            "  inflating: fastText-0.9.1/docs/references.md  \n",
            "  inflating: fastText-0.9.1/docs/supervised-models.md  \n",
            "  inflating: fastText-0.9.1/docs/supervised-tutorial.md  \n",
            "  inflating: fastText-0.9.1/docs/support.md  \n",
            "  inflating: fastText-0.9.1/docs/unsupervised-tutorials.md  \n",
            "  inflating: fastText-0.9.1/eval.py  \n",
            "  inflating: fastText-0.9.1/get-wikimedia.sh  \n",
            "   creating: fastText-0.9.1/python/\n",
            "  inflating: fastText-0.9.1/python/README.md  \n",
            "  inflating: fastText-0.9.1/python/README.rst  \n",
            "   creating: fastText-0.9.1/python/benchmarks/\n",
            "  inflating: fastText-0.9.1/python/benchmarks/README.rst  \n",
            "  inflating: fastText-0.9.1/python/benchmarks/get_word_vector.py  \n",
            "   creating: fastText-0.9.1/python/doc/\n",
            "   creating: fastText-0.9.1/python/doc/examples/\n",
            "  inflating: fastText-0.9.1/python/doc/examples/FastTextEmbeddingBag.py  \n",
            "  inflating: fastText-0.9.1/python/doc/examples/bin_to_vec.py  \n",
            "  inflating: fastText-0.9.1/python/doc/examples/compute_accuracy.py  \n",
            "  inflating: fastText-0.9.1/python/doc/examples/get_vocab.py  \n",
            "  inflating: fastText-0.9.1/python/doc/examples/train_supervised.py  \n",
            "  inflating: fastText-0.9.1/python/doc/examples/train_unsupervised.py  \n",
            "   creating: fastText-0.9.1/python/fasttext_module/\n",
            "   creating: fastText-0.9.1/python/fasttext_module/fasttext/\n",
            "  inflating: fastText-0.9.1/python/fasttext_module/fasttext/FastText.py  \n",
            "  inflating: fastText-0.9.1/python/fasttext_module/fasttext/__init__.py  \n",
            "   creating: fastText-0.9.1/python/fasttext_module/fasttext/pybind/\n",
            "  inflating: fastText-0.9.1/python/fasttext_module/fasttext/pybind/fasttext_pybind.cc  \n",
            "   creating: fastText-0.9.1/python/fasttext_module/fasttext/tests/\n",
            "  inflating: fastText-0.9.1/python/fasttext_module/fasttext/tests/__init__.py  \n",
            "  inflating: fastText-0.9.1/python/fasttext_module/fasttext/tests/test_configurations.py  \n",
            "  inflating: fastText-0.9.1/python/fasttext_module/fasttext/tests/test_script.py  \n",
            "   creating: fastText-0.9.1/python/fasttext_module/fasttext/util/\n",
            "  inflating: fastText-0.9.1/python/fasttext_module/fasttext/util/__init__.py  \n",
            "  inflating: fastText-0.9.1/python/fasttext_module/fasttext/util/util.py  \n",
            "  inflating: fastText-0.9.1/quantization-example.sh  \n",
            "  inflating: fastText-0.9.1/runtests.py  \n",
            "   creating: fastText-0.9.1/scripts/\n",
            "   creating: fastText-0.9.1/scripts/kbcompletion/\n",
            "  inflating: fastText-0.9.1/scripts/kbcompletion/README.md  \n",
            "  inflating: fastText-0.9.1/scripts/kbcompletion/data.sh  \n",
            "  inflating: fastText-0.9.1/scripts/kbcompletion/eval.cpp  \n",
            "  inflating: fastText-0.9.1/scripts/kbcompletion/fb15k.sh  \n",
            "  inflating: fastText-0.9.1/scripts/kbcompletion/fb15k237.sh  \n",
            "  inflating: fastText-0.9.1/scripts/kbcompletion/svo.sh  \n",
            "  inflating: fastText-0.9.1/scripts/kbcompletion/wn18.sh  \n",
            "   creating: fastText-0.9.1/scripts/quantization/\n",
            "  inflating: fastText-0.9.1/scripts/quantization/quantization-results.sh  \n",
            " extracting: fastText-0.9.1/setup.cfg  \n",
            "  inflating: fastText-0.9.1/setup.py  \n",
            "   creating: fastText-0.9.1/src/\n",
            "  inflating: fastText-0.9.1/src/args.cc  \n",
            "  inflating: fastText-0.9.1/src/args.h  \n",
            "  inflating: fastText-0.9.1/src/densematrix.cc  \n",
            "  inflating: fastText-0.9.1/src/densematrix.h  \n",
            "  inflating: fastText-0.9.1/src/dictionary.cc  \n",
            "  inflating: fastText-0.9.1/src/dictionary.h  \n",
            "  inflating: fastText-0.9.1/src/fasttext.cc  \n",
            "  inflating: fastText-0.9.1/src/fasttext.h  \n",
            "  inflating: fastText-0.9.1/src/loss.cc  \n",
            "  inflating: fastText-0.9.1/src/loss.h  \n",
            "  inflating: fastText-0.9.1/src/main.cc  \n",
            "  inflating: fastText-0.9.1/src/matrix.cc  \n",
            "  inflating: fastText-0.9.1/src/matrix.h  \n",
            "  inflating: fastText-0.9.1/src/meter.cc  \n",
            "  inflating: fastText-0.9.1/src/meter.h  \n",
            "  inflating: fastText-0.9.1/src/model.cc  \n",
            "  inflating: fastText-0.9.1/src/model.h  \n",
            "  inflating: fastText-0.9.1/src/productquantizer.cc  \n",
            "  inflating: fastText-0.9.1/src/productquantizer.h  \n",
            "  inflating: fastText-0.9.1/src/quantmatrix.cc  \n",
            "  inflating: fastText-0.9.1/src/quantmatrix.h  \n",
            "  inflating: fastText-0.9.1/src/real.h  \n",
            "  inflating: fastText-0.9.1/src/utils.cc  \n",
            "  inflating: fastText-0.9.1/src/utils.h  \n",
            "  inflating: fastText-0.9.1/src/vector.cc  \n",
            "  inflating: fastText-0.9.1/src/vector.h  \n",
            "   creating: fastText-0.9.1/tests/\n",
            "  inflating: fastText-0.9.1/tests/fetch_test_data.sh  \n",
            "   creating: fastText-0.9.1/website/\n",
            "  inflating: fastText-0.9.1/website/README.md  \n",
            "   creating: fastText-0.9.1/website/blog/\n",
            "  inflating: fastText-0.9.1/website/blog/2016-08-18-blog-post.md  \n",
            "  inflating: fastText-0.9.1/website/blog/2017-05-02-blog-post.md  \n",
            "  inflating: fastText-0.9.1/website/blog/2017-10-02-blog-post.md  \n",
            "  inflating: fastText-0.9.1/website/blog/2019-06-25-blog-post.md  \n",
            "   creating: fastText-0.9.1/website/core/\n",
            "  inflating: fastText-0.9.1/website/core/Footer.js  \n",
            "  inflating: fastText-0.9.1/website/package.json  \n",
            "   creating: fastText-0.9.1/website/pages/\n",
            "   creating: fastText-0.9.1/website/pages/en/\n",
            "  inflating: fastText-0.9.1/website/pages/en/index.js  \n",
            "  inflating: fastText-0.9.1/website/sidebars.json  \n",
            "  inflating: fastText-0.9.1/website/siteConfig.js  \n",
            "   creating: fastText-0.9.1/website/static/\n",
            "   creating: fastText-0.9.1/website/static/docs/\n",
            "   creating: fastText-0.9.1/website/static/docs/en/\n",
            "   creating: fastText-0.9.1/website/static/docs/en/html/\n",
            " extracting: fastText-0.9.1/website/static/docs/en/html/.classfasttext_1_1QMatrix-members.html.i4eKqy  \n",
            "  inflating: fastText-0.9.1/website/static/docs/en/html/annotated.html  \n",
            "  inflating: fastText-0.9.1/website/static/docs/en/html/annotated_dup.js  \n",
            "  inflating: fastText-0.9.1/website/static/docs/en/html/args_8cc.html  \n",
            "  inflating: fastText-0.9.1/website/static/docs/en/html/args_8h.html  \n",
            "  inflating: fastText-0.9.1/website/static/docs/en/html/args_8h.js  \n",
            "  inflating: fastText-0.9.1/website/static/docs/en/html/args_8h_source.html  \n",
            " extracting: fastText-0.9.1/website/static/docs/en/html/bc_s.png  \n",
            "  inflating: fastText-0.9.1/website/static/docs/en/html/bdwn.png  \n",
            "  inflating: fastText-0.9.1/website/static/docs/en/html/classes.html  \n",
            "  inflating: fastText-0.9.1/website/static/docs/en/html/classfasttext_1_1Args-members.html  \n",
            "  inflating: fastText-0.9.1/website/static/docs/en/html/classfasttext_1_1Args.html  \n",
            "  inflating: fastText-0.9.1/website/static/docs/en/html/classfasttext_1_1Args.js  \n",
            "  inflating: fastText-0.9.1/website/static/docs/en/html/classfasttext_1_1Dictionary-members.html  \n",
            "  inflating: fastText-0.9.1/website/static/docs/en/html/classfasttext_1_1Dictionary.html  \n",
            "  inflating: fastText-0.9.1/website/static/docs/en/html/classfasttext_1_1Dictionary.js  \n",
            "  inflating: fastText-0.9.1/website/static/docs/en/html/classfasttext_1_1FastText-members.html  \n",
            "  inflating: fastText-0.9.1/website/static/docs/en/html/classfasttext_1_1FastText.html  \n",
            "  inflating: fastText-0.9.1/website/static/docs/en/html/classfasttext_1_1FastText.js  \n",
            "  inflating: fastText-0.9.1/website/static/docs/en/html/classfasttext_1_1Matrix-members.html  \n",
            "  inflating: fastText-0.9.1/website/static/docs/en/html/classfasttext_1_1Matrix.html  \n",
            "  inflating: fastText-0.9.1/website/static/docs/en/html/classfasttext_1_1Matrix.js  \n",
            "  inflating: fastText-0.9.1/website/static/docs/en/html/classfasttext_1_1Model-members.html  \n",
            "  inflating: fastText-0.9.1/website/static/docs/en/html/classfasttext_1_1Model.html  \n",
            "  inflating: fastText-0.9.1/website/static/docs/en/html/classfasttext_1_1Model.js  \n",
            "  inflating: fastText-0.9.1/website/static/docs/en/html/classfasttext_1_1ProductQuantizer-members.html  \n",
            "  inflating: fastText-0.9.1/website/static/docs/en/html/classfasttext_1_1ProductQuantizer.html  \n",
            "  inflating: fastText-0.9.1/website/static/docs/en/html/classfasttext_1_1ProductQuantizer.js  \n",
            "  inflating: fastText-0.9.1/website/static/docs/en/html/classfasttext_1_1QMatrix-members.html  \n",
            "  inflating: fastText-0.9.1/website/static/docs/en/html/classfasttext_1_1QMatrix.html  \n",
            "  inflating: fastText-0.9.1/website/static/docs/en/html/classfasttext_1_1QMatrix.js  \n",
            "  inflating: fastText-0.9.1/website/static/docs/en/html/classfasttext_1_1Vector-members.html  \n",
            "  inflating: fastText-0.9.1/website/static/docs/en/html/classfasttext_1_1Vector.html  \n",
            "  inflating: fastText-0.9.1/website/static/docs/en/html/classfasttext_1_1Vector.js  \n",
            "  inflating: fastText-0.9.1/website/static/docs/en/html/closed.png  \n",
            "  inflating: fastText-0.9.1/website/static/docs/en/html/dictionary_8cc.html  \n",
            "  inflating: fastText-0.9.1/website/static/docs/en/html/dictionary_8h.html  \n",
            "  inflating: fastText-0.9.1/website/static/docs/en/html/dictionary_8h.js  \n",
            "  inflating: fastText-0.9.1/website/static/docs/en/html/dictionary_8h_source.html  \n",
            "  inflating: fastText-0.9.1/website/static/docs/en/html/dir_68267d1309a1af8e8297ef4c3efbcdba.html  \n",
            "  inflating: fastText-0.9.1/website/static/docs/en/html/dir_68267d1309a1af8e8297ef4c3efbcdba.js  \n",
            " extracting: fastText-0.9.1/website/static/docs/en/html/doc.png  \n",
            "  inflating: fastText-0.9.1/website/static/docs/en/html/doxygen.css  \n",
            " extracting: fastText-0.9.1/website/static/docs/en/html/doxygen.png  \n",
            "  inflating: fastText-0.9.1/website/static/docs/en/html/dynsections.js  \n",
            "  inflating: fastText-0.9.1/website/static/docs/en/html/fasttext_8cc.html  \n",
            "  inflating: fastText-0.9.1/website/static/docs/en/html/fasttext_8h.html  \n",
            "  inflating: fastText-0.9.1/website/static/docs/en/html/fasttext_8h.js  \n",
            "  inflating: fastText-0.9.1/website/static/docs/en/html/fasttext_8h_source.html  \n",
            "  inflating: fastText-0.9.1/website/static/docs/en/html/favicon.png  \n",
            "  inflating: fastText-0.9.1/website/static/docs/en/html/files.html  \n",
            "  inflating: fastText-0.9.1/website/static/docs/en/html/files.js  \n",
            " extracting: fastText-0.9.1/website/static/docs/en/html/folderclosed.png  \n",
            " extracting: fastText-0.9.1/website/static/docs/en/html/folderopen.png  \n",
            "  inflating: fastText-0.9.1/website/static/docs/en/html/functions.html  \n",
            "  inflating: fastText-0.9.1/website/static/docs/en/html/functions_0x7e.html  \n",
            "  inflating: fastText-0.9.1/website/static/docs/en/html/functions_b.html  \n",
            "  inflating: fastText-0.9.1/website/static/docs/en/html/functions_c.html  \n",
            "  inflating: fastText-0.9.1/website/static/docs/en/html/functions_d.html  \n",
            "  inflating: fastText-0.9.1/website/static/docs/en/html/functions_dup.js  \n",
            "  inflating: fastText-0.9.1/website/static/docs/en/html/functions_e.html  \n",
            "  inflating: fastText-0.9.1/website/static/docs/en/html/functions_f.html  \n",
            "  inflating: fastText-0.9.1/website/static/docs/en/html/functions_func.html  \n",
            "  inflating: fastText-0.9.1/website/static/docs/en/html/functions_g.html  \n",
            "  inflating: fastText-0.9.1/website/static/docs/en/html/functions_h.html  \n",
            "  inflating: fastText-0.9.1/website/static/docs/en/html/functions_i.html  \n",
            "  inflating: fastText-0.9.1/website/static/docs/en/html/functions_k.html  \n",
            "  inflating: fastText-0.9.1/website/static/docs/en/html/functions_l.html  \n",
            "  inflating: fastText-0.9.1/website/static/docs/en/html/functions_m.html  \n",
            "  inflating: fastText-0.9.1/website/static/docs/en/html/functions_n.html  \n",
            "  inflating: fastText-0.9.1/website/static/docs/en/html/functions_o.html  \n",
            "  inflating: fastText-0.9.1/website/static/docs/en/html/functions_p.html  \n",
            "  inflating: fastText-0.9.1/website/static/docs/en/html/functions_q.html  \n",
            "  inflating: fastText-0.9.1/website/static/docs/en/html/functions_r.html  \n",
            "  inflating: fastText-0.9.1/website/static/docs/en/html/functions_s.html  \n",
            "  inflating: fastText-0.9.1/website/static/docs/en/html/functions_t.html  \n",
            "  inflating: fastText-0.9.1/website/static/docs/en/html/functions_u.html  \n",
            "  inflating: fastText-0.9.1/website/static/docs/en/html/functions_v.html  \n",
            "  inflating: fastText-0.9.1/website/static/docs/en/html/functions_vars.html  \n",
            "  inflating: fastText-0.9.1/website/static/docs/en/html/functions_w.html  \n",
            "  inflating: fastText-0.9.1/website/static/docs/en/html/functions_z.html  \n",
            "  inflating: fastText-0.9.1/website/static/docs/en/html/globals.html  \n",
            "  inflating: fastText-0.9.1/website/static/docs/en/html/globals_defs.html  \n",
            "  inflating: fastText-0.9.1/website/static/docs/en/html/globals_func.html  \n",
            "  inflating: fastText-0.9.1/website/static/docs/en/html/index.html  \n",
            "  inflating: fastText-0.9.1/website/static/docs/en/html/jquery.js  \n",
            "  inflating: fastText-0.9.1/website/static/docs/en/html/main_8cc.html  \n",
            "  inflating: fastText-0.9.1/website/static/docs/en/html/main_8cc.js  \n",
            "  inflating: fastText-0.9.1/website/static/docs/en/html/matrix_8cc.html  \n",
            "  inflating: fastText-0.9.1/website/static/docs/en/html/matrix_8h.html  \n",
            "  inflating: fastText-0.9.1/website/static/docs/en/html/matrix_8h_source.html  \n",
            "  inflating: fastText-0.9.1/website/static/docs/en/html/menu.js  \n",
            "  inflating: fastText-0.9.1/website/static/docs/en/html/menudata.js  \n",
            "  inflating: fastText-0.9.1/website/static/docs/en/html/model_8cc.html  \n",
            "  inflating: fastText-0.9.1/website/static/docs/en/html/model_8h.html  \n",
            "  inflating: fastText-0.9.1/website/static/docs/en/html/model_8h.js  \n",
            "  inflating: fastText-0.9.1/website/static/docs/en/html/model_8h_source.html  \n",
            "  inflating: fastText-0.9.1/website/static/docs/en/html/namespacefasttext.html  \n",
            "  inflating: fastText-0.9.1/website/static/docs/en/html/namespacefasttext.js  \n",
            "  inflating: fastText-0.9.1/website/static/docs/en/html/namespacefasttext_1_1utils.html  \n",
            "  inflating: fastText-0.9.1/website/static/docs/en/html/namespacemembers.html  \n",
            "  inflating: fastText-0.9.1/website/static/docs/en/html/namespacemembers_enum.html  \n",
            "  inflating: fastText-0.9.1/website/static/docs/en/html/namespacemembers_func.html  \n",
            "  inflating: fastText-0.9.1/website/static/docs/en/html/namespacemembers_type.html  \n",
            "  inflating: fastText-0.9.1/website/static/docs/en/html/namespaces.html  \n",
            "  inflating: fastText-0.9.1/website/static/docs/en/html/namespaces.js  \n",
            " extracting: fastText-0.9.1/website/static/docs/en/html/nav_f.png  \n",
            "  inflating: fastText-0.9.1/website/static/docs/en/html/nav_g.png  \n",
            "  inflating: fastText-0.9.1/website/static/docs/en/html/nav_h.png  \n",
            "  inflating: fastText-0.9.1/website/static/docs/en/html/navtree.css  \n",
            "  inflating: fastText-0.9.1/website/static/docs/en/html/navtree.js  \n",
            "  inflating: fastText-0.9.1/website/static/docs/en/html/navtreedata.js  \n",
            "  inflating: fastText-0.9.1/website/static/docs/en/html/navtreeindex0.js  \n",
            "  inflating: fastText-0.9.1/website/static/docs/en/html/navtreeindex1.js  \n",
            "  inflating: fastText-0.9.1/website/static/docs/en/html/open.png  \n",
            "  inflating: fastText-0.9.1/website/static/docs/en/html/productquantizer_8cc.html  \n",
            "  inflating: fastText-0.9.1/website/static/docs/en/html/productquantizer_8cc.js  \n",
            "  inflating: fastText-0.9.1/website/static/docs/en/html/productquantizer_8h.html  \n",
            "  inflating: fastText-0.9.1/website/static/docs/en/html/productquantizer_8h_source.html  \n",
            "  inflating: fastText-0.9.1/website/static/docs/en/html/qmatrix_8cc.html  \n",
            "  inflating: fastText-0.9.1/website/static/docs/en/html/qmatrix_8h.html  \n",
            "  inflating: fastText-0.9.1/website/static/docs/en/html/qmatrix_8h_source.html  \n",
            "  inflating: fastText-0.9.1/website/static/docs/en/html/real_8h.html  \n",
            "  inflating: fastText-0.9.1/website/static/docs/en/html/real_8h.js  \n",
            "  inflating: fastText-0.9.1/website/static/docs/en/html/real_8h_source.html  \n",
            "  inflating: fastText-0.9.1/website/static/docs/en/html/resize.js  \n",
            "   creating: fastText-0.9.1/website/static/docs/en/html/search/\n",
            " extracting: fastText-0.9.1/website/static/docs/en/html/search/.files_7.html.StRRNc  \n",
            " extracting: fastText-0.9.1/website/static/docs/en/html/search/.variables_a.html.1MGQ27  \n",
            "  inflating: fastText-0.9.1/website/static/docs/en/html/search/all_0.html  \n",
            "  inflating: fastText-0.9.1/website/static/docs/en/html/search/all_0.js  \n",
            "  inflating: fastText-0.9.1/website/static/docs/en/html/search/all_1.html  \n",
            "  inflating: fastText-0.9.1/website/static/docs/en/html/search/all_1.js  \n",
            "  inflating: fastText-0.9.1/website/static/docs/en/html/search/all_10.html  \n",
            "  inflating: fastText-0.9.1/website/static/docs/en/html/search/all_10.js  \n",
            "  inflating: fastText-0.9.1/website/static/docs/en/html/search/all_11.html  \n",
            "  inflating: fastText-0.9.1/website/static/docs/en/html/search/all_11.js  \n",
            "  inflating: fastText-0.9.1/website/static/docs/en/html/search/all_12.html  \n",
            "  inflating: fastText-0.9.1/website/static/docs/en/html/search/all_12.js  \n",
            "  inflating: fastText-0.9.1/website/static/docs/en/html/search/all_13.html  \n",
            "  inflating: fastText-0.9.1/website/static/docs/en/html/search/all_13.js  \n",
            "  inflating: fastText-0.9.1/website/static/docs/en/html/search/all_14.html  \n",
            "  inflating: fastText-0.9.1/website/static/docs/en/html/search/all_14.js  \n",
            "  inflating: fastText-0.9.1/website/static/docs/en/html/search/all_15.html  \n",
            "  inflating: fastText-0.9.1/website/static/docs/en/html/search/all_15.js  \n",
            "  inflating: fastText-0.9.1/website/static/docs/en/html/search/all_16.html  \n",
            "  inflating: fastText-0.9.1/website/static/docs/en/html/search/all_16.js  \n",
            "  inflating: fastText-0.9.1/website/static/docs/en/html/search/all_17.html  \n",
            "  inflating: fastText-0.9.1/website/static/docs/en/html/search/all_17.js  \n",
            "  inflating: fastText-0.9.1/website/static/docs/en/html/search/all_2.html  \n",
            "  inflating: fastText-0.9.1/website/static/docs/en/html/search/all_2.js  \n",
            "  inflating: fastText-0.9.1/website/static/docs/en/html/search/all_3.html  \n",
            "  inflating: fastText-0.9.1/website/static/docs/en/html/search/all_3.js  \n",
            "  inflating: fastText-0.9.1/website/static/docs/en/html/search/all_4.html  \n",
            "  inflating: fastText-0.9.1/website/static/docs/en/html/search/all_4.js  \n",
            "  inflating: fastText-0.9.1/website/static/docs/en/html/search/all_5.html  \n",
            "  inflating: fastText-0.9.1/website/static/docs/en/html/search/all_5.js  \n",
            "  inflating: fastText-0.9.1/website/static/docs/en/html/search/all_6.html  \n",
            "  inflating: fastText-0.9.1/website/static/docs/en/html/search/all_6.js  \n",
            "  inflating: fastText-0.9.1/website/static/docs/en/html/search/all_7.html  \n",
            "  inflating: fastText-0.9.1/website/static/docs/en/html/search/all_7.js  \n",
            "  inflating: fastText-0.9.1/website/static/docs/en/html/search/all_8.html  \n",
            "  inflating: fastText-0.9.1/website/static/docs/en/html/search/all_8.js  \n",
            "  inflating: fastText-0.9.1/website/static/docs/en/html/search/all_9.html  \n",
            "  inflating: fastText-0.9.1/website/static/docs/en/html/search/all_9.js  \n",
            "  inflating: fastText-0.9.1/website/static/docs/en/html/search/all_a.html  \n",
            "  inflating: fastText-0.9.1/website/static/docs/en/html/search/all_a.js  \n",
            "  inflating: fastText-0.9.1/website/static/docs/en/html/search/all_b.html  \n",
            "  inflating: fastText-0.9.1/website/static/docs/en/html/search/all_b.js  \n",
            "  inflating: fastText-0.9.1/website/static/docs/en/html/search/all_c.html  \n",
            "  inflating: fastText-0.9.1/website/static/docs/en/html/search/all_c.js  \n",
            "  inflating: fastText-0.9.1/website/static/docs/en/html/search/all_d.html  \n",
            "  inflating: fastText-0.9.1/website/static/docs/en/html/search/all_d.js  \n",
            "  inflating: fastText-0.9.1/website/static/docs/en/html/search/all_e.html  \n",
            "  inflating: fastText-0.9.1/website/static/docs/en/html/search/all_e.js  \n",
            "  inflating: fastText-0.9.1/website/static/docs/en/html/search/all_f.html  \n",
            "  inflating: fastText-0.9.1/website/static/docs/en/html/search/all_f.js  \n",
            "  inflating: fastText-0.9.1/website/static/docs/en/html/search/classes_0.html  \n",
            "  inflating: fastText-0.9.1/website/static/docs/en/html/search/classes_0.js  \n",
            "  inflating: fastText-0.9.1/website/static/docs/en/html/search/classes_1.html  \n",
            "  inflating: fastText-0.9.1/website/static/docs/en/html/search/classes_1.js  \n",
            "  inflating: fastText-0.9.1/website/static/docs/en/html/search/classes_2.html  \n",
            "  inflating: fastText-0.9.1/website/static/docs/en/html/search/classes_2.js  \n",
            "  inflating: fastText-0.9.1/website/static/docs/en/html/search/classes_3.html  \n",
            "  inflating: fastText-0.9.1/website/static/docs/en/html/search/classes_3.js  \n",
            "  inflating: fastText-0.9.1/website/static/docs/en/html/search/classes_4.html  \n",
            "  inflating: fastText-0.9.1/website/static/docs/en/html/search/classes_4.js  \n",
            "  inflating: fastText-0.9.1/website/static/docs/en/html/search/classes_5.html  \n",
            "  inflating: fastText-0.9.1/website/static/docs/en/html/search/classes_5.js  \n",
            "  inflating: fastText-0.9.1/website/static/docs/en/html/search/classes_6.html  \n",
            "  inflating: fastText-0.9.1/website/static/docs/en/html/search/classes_6.js  \n",
            "  inflating: fastText-0.9.1/website/static/docs/en/html/search/classes_7.html  \n",
            "  inflating: fastText-0.9.1/website/static/docs/en/html/search/classes_7.js  \n",
            "  inflating: fastText-0.9.1/website/static/docs/en/html/search/classes_8.html  \n",
            "  inflating: fastText-0.9.1/website/static/docs/en/html/search/classes_8.js  \n",
            " extracting: fastText-0.9.1/website/static/docs/en/html/search/close.png  \n",
            "  inflating: fastText-0.9.1/website/static/docs/en/html/search/defines_0.html  \n",
            "  inflating: fastText-0.9.1/website/static/docs/en/html/search/defines_0.js  \n",
            "  inflating: fastText-0.9.1/website/static/docs/en/html/search/defines_1.html  \n",
            "  inflating: fastText-0.9.1/website/static/docs/en/html/search/defines_1.js  \n",
            "  inflating: fastText-0.9.1/website/static/docs/en/html/search/defines_2.html  \n",
            "  inflating: fastText-0.9.1/website/static/docs/en/html/search/defines_2.js  \n",
            "  inflating: fastText-0.9.1/website/static/docs/en/html/search/defines_3.html  \n",
            "  inflating: fastText-0.9.1/website/static/docs/en/html/search/defines_3.js  \n",
            "  inflating: fastText-0.9.1/website/static/docs/en/html/search/enums_0.html  \n",
            "  inflating: fastText-0.9.1/website/static/docs/en/html/search/enums_0.js  \n",
            "  inflating: fastText-0.9.1/website/static/docs/en/html/search/enums_1.html  \n",
            "  inflating: fastText-0.9.1/website/static/docs/en/html/search/enums_1.js  \n",
            "  inflating: fastText-0.9.1/website/static/docs/en/html/search/enums_2.html  \n",
            "  inflating: fastText-0.9.1/website/static/docs/en/html/search/enums_2.js  \n",
            "  inflating: fastText-0.9.1/website/static/docs/en/html/search/enumvalues_0.html  \n",
            "  inflating: fastText-0.9.1/website/static/docs/en/html/search/enumvalues_0.js  \n",
            "  inflating: fastText-0.9.1/website/static/docs/en/html/search/enumvalues_1.html  \n",
            "  inflating: fastText-0.9.1/website/static/docs/en/html/search/enumvalues_1.js  \n",
            "  inflating: fastText-0.9.1/website/static/docs/en/html/search/enumvalues_2.html  \n",
            "  inflating: fastText-0.9.1/website/static/docs/en/html/search/enumvalues_2.js  \n",
            "  inflating: fastText-0.9.1/website/static/docs/en/html/search/enumvalues_3.html  \n",
            "  inflating: fastText-0.9.1/website/static/docs/en/html/search/enumvalues_3.js  \n",
            "  inflating: fastText-0.9.1/website/static/docs/en/html/search/enumvalues_4.html  \n",
            "  inflating: fastText-0.9.1/website/static/docs/en/html/search/enumvalues_4.js  \n",
            "  inflating: fastText-0.9.1/website/static/docs/en/html/search/enumvalues_5.html  \n",
            "  inflating: fastText-0.9.1/website/static/docs/en/html/search/enumvalues_5.js  \n",
            "  inflating: fastText-0.9.1/website/static/docs/en/html/search/files_0.html  \n",
            "  inflating: fastText-0.9.1/website/static/docs/en/html/search/files_0.js  \n",
            "  inflating: fastText-0.9.1/website/static/docs/en/html/search/files_1.html  \n",
            "  inflating: fastText-0.9.1/website/static/docs/en/html/search/files_1.js  \n",
            "  inflating: fastText-0.9.1/website/static/docs/en/html/search/files_2.html  \n",
            "  inflating: fastText-0.9.1/website/static/docs/en/html/search/files_2.js  \n",
            "  inflating: fastText-0.9.1/website/static/docs/en/html/search/files_3.html  \n",
            "  inflating: fastText-0.9.1/website/static/docs/en/html/search/files_3.js  \n",
            "  inflating: fastText-0.9.1/website/static/docs/en/html/search/files_4.html  \n",
            "  inflating: fastText-0.9.1/website/static/docs/en/html/search/files_4.js  \n",
            "  inflating: fastText-0.9.1/website/static/docs/en/html/search/files_5.html  \n",
            "  inflating: fastText-0.9.1/website/static/docs/en/html/search/files_5.js  \n",
            "  inflating: fastText-0.9.1/website/static/docs/en/html/search/files_6.html  \n",
            "  inflating: fastText-0.9.1/website/static/docs/en/html/search/files_6.js  \n",
            "  inflating: fastText-0.9.1/website/static/docs/en/html/search/files_7.html  \n",
            "  inflating: fastText-0.9.1/website/static/docs/en/html/search/files_7.js  \n",
            "  inflating: fastText-0.9.1/website/static/docs/en/html/search/files_8.html  \n",
            "  inflating: fastText-0.9.1/website/static/docs/en/html/search/files_8.js  \n",
            "  inflating: fastText-0.9.1/website/static/docs/en/html/search/functions_0.html  \n",
            "  inflating: fastText-0.9.1/website/static/docs/en/html/search/functions_0.js  \n",
            "  inflating: fastText-0.9.1/website/static/docs/en/html/search/functions_1.html  \n",
            "  inflating: fastText-0.9.1/website/static/docs/en/html/search/functions_1.js  \n",
            "  inflating: fastText-0.9.1/website/static/docs/en/html/search/functions_10.html  \n",
            "  inflating: fastText-0.9.1/website/static/docs/en/html/search/functions_10.js  \n",
            "  inflating: fastText-0.9.1/website/static/docs/en/html/search/functions_11.html  \n",
            "  inflating: fastText-0.9.1/website/static/docs/en/html/search/functions_11.js  \n",
            "  inflating: fastText-0.9.1/website/static/docs/en/html/search/functions_12.html  \n",
            "  inflating: fastText-0.9.1/website/static/docs/en/html/search/functions_12.js  \n",
            "  inflating: fastText-0.9.1/website/static/docs/en/html/search/functions_13.html  \n",
            "  inflating: fastText-0.9.1/website/static/docs/en/html/search/functions_13.js  \n",
            "  inflating: fastText-0.9.1/website/static/docs/en/html/search/functions_14.html  \n",
            "  inflating: fastText-0.9.1/website/static/docs/en/html/search/functions_14.js  \n",
            "  inflating: fastText-0.9.1/website/static/docs/en/html/search/functions_15.html  \n",
            "  inflating: fastText-0.9.1/website/static/docs/en/html/search/functions_15.js  \n",
            "  inflating: fastText-0.9.1/website/static/docs/en/html/search/functions_16.html  \n",
            "  inflating: fastText-0.9.1/website/static/docs/en/html/search/functions_16.js  \n",
            "  inflating: fastText-0.9.1/website/static/docs/en/html/search/functions_17.html  \n",
            "  inflating: fastText-0.9.1/website/static/docs/en/html/search/functions_17.js  \n",
            "  inflating: fastText-0.9.1/website/static/docs/en/html/search/functions_2.html  \n",
            "  inflating: fastText-0.9.1/website/static/docs/en/html/search/functions_2.js  \n",
            "  inflating: fastText-0.9.1/website/static/docs/en/html/search/functions_3.html  \n",
            "  inflating: fastText-0.9.1/website/static/docs/en/html/search/functions_3.js  \n",
            "  inflating: fastText-0.9.1/website/static/docs/en/html/search/functions_4.html  \n",
            "  inflating: fastText-0.9.1/website/static/docs/en/html/search/functions_4.js  \n",
            "  inflating: fastText-0.9.1/website/static/docs/en/html/search/functions_5.html  \n",
            "  inflating: fastText-0.9.1/website/static/docs/en/html/search/functions_5.js  \n",
            "  inflating: fastText-0.9.1/website/static/docs/en/html/search/functions_6.html  \n",
            "  inflating: fastText-0.9.1/website/static/docs/en/html/search/functions_6.js  \n",
            "  inflating: fastText-0.9.1/website/static/docs/en/html/search/functions_7.html  \n",
            "  inflating: fastText-0.9.1/website/static/docs/en/html/search/functions_7.js  \n",
            "  inflating: fastText-0.9.1/website/static/docs/en/html/search/functions_8.html  \n",
            "  inflating: fastText-0.9.1/website/static/docs/en/html/search/functions_8.js  \n",
            "  inflating: fastText-0.9.1/website/static/docs/en/html/search/functions_9.html  \n",
            "  inflating: fastText-0.9.1/website/static/docs/en/html/search/functions_9.js  \n",
            "  inflating: fastText-0.9.1/website/static/docs/en/html/search/functions_a.html  \n",
            "  inflating: fastText-0.9.1/website/static/docs/en/html/search/functions_a.js  \n",
            "  inflating: fastText-0.9.1/website/static/docs/en/html/search/functions_b.html  \n",
            "  inflating: fastText-0.9.1/website/static/docs/en/html/search/functions_b.js  \n",
            "  inflating: fastText-0.9.1/website/static/docs/en/html/search/functions_c.html  \n",
            "  inflating: fastText-0.9.1/website/static/docs/en/html/search/functions_c.js  \n",
            "  inflating: fastText-0.9.1/website/static/docs/en/html/search/functions_d.html  \n",
            "  inflating: fastText-0.9.1/website/static/docs/en/html/search/functions_d.js  \n",
            "  inflating: fastText-0.9.1/website/static/docs/en/html/search/functions_e.html  \n",
            "  inflating: fastText-0.9.1/website/static/docs/en/html/search/functions_e.js  \n",
            "  inflating: fastText-0.9.1/website/static/docs/en/html/search/functions_f.html  \n",
            "  inflating: fastText-0.9.1/website/static/docs/en/html/search/functions_f.js  \n",
            " extracting: fastText-0.9.1/website/static/docs/en/html/search/mag_sel.png  \n",
            "  inflating: fastText-0.9.1/website/static/docs/en/html/search/namespaces_0.html  \n",
            "  inflating: fastText-0.9.1/website/static/docs/en/html/search/namespaces_0.js  \n",
            "  inflating: fastText-0.9.1/website/static/docs/en/html/search/nomatches.html  \n",
            "  inflating: fastText-0.9.1/website/static/docs/en/html/search/search.css  \n",
            "  inflating: fastText-0.9.1/website/static/docs/en/html/search/search.js  \n",
            " extracting: fastText-0.9.1/website/static/docs/en/html/search/search_l.png  \n",
            "  inflating: fastText-0.9.1/website/static/docs/en/html/search/search_m.png  \n",
            " extracting: fastText-0.9.1/website/static/docs/en/html/search/search_r.png  \n",
            "  inflating: fastText-0.9.1/website/static/docs/en/html/search/searchdata.js  \n",
            "  inflating: fastText-0.9.1/website/static/docs/en/html/search/typedefs_0.html  \n",
            "  inflating: fastText-0.9.1/website/static/docs/en/html/search/typedefs_0.js  \n",
            "  inflating: fastText-0.9.1/website/static/docs/en/html/search/typedefs_1.html  \n",
            "  inflating: fastText-0.9.1/website/static/docs/en/html/search/typedefs_1.js  \n",
            "  inflating: fastText-0.9.1/website/static/docs/en/html/search/variables_0.html  \n",
            "  inflating: fastText-0.9.1/website/static/docs/en/html/search/variables_0.js  \n",
            "  inflating: fastText-0.9.1/website/static/docs/en/html/search/variables_1.html  \n",
            "  inflating: fastText-0.9.1/website/static/docs/en/html/search/variables_1.js  \n",
            "  inflating: fastText-0.9.1/website/static/docs/en/html/search/variables_10.html  \n",
            "  inflating: fastText-0.9.1/website/static/docs/en/html/search/variables_10.js  \n",
            "  inflating: fastText-0.9.1/website/static/docs/en/html/search/variables_11.html  \n",
            "  inflating: fastText-0.9.1/website/static/docs/en/html/search/variables_11.js  \n",
            "  inflating: fastText-0.9.1/website/static/docs/en/html/search/variables_12.html  \n",
            "  inflating: fastText-0.9.1/website/static/docs/en/html/search/variables_12.js  \n",
            "  inflating: fastText-0.9.1/website/static/docs/en/html/search/variables_13.html  \n",
            "  inflating: fastText-0.9.1/website/static/docs/en/html/search/variables_13.js  \n",
            "  inflating: fastText-0.9.1/website/static/docs/en/html/search/variables_2.html  \n",
            "  inflating: fastText-0.9.1/website/static/docs/en/html/search/variables_2.js  \n",
            "  inflating: fastText-0.9.1/website/static/docs/en/html/search/variables_3.html  \n",
            "  inflating: fastText-0.9.1/website/static/docs/en/html/search/variables_3.js  \n",
            "  inflating: fastText-0.9.1/website/static/docs/en/html/search/variables_4.html  \n",
            "  inflating: fastText-0.9.1/website/static/docs/en/html/search/variables_4.js  \n",
            "  inflating: fastText-0.9.1/website/static/docs/en/html/search/variables_5.html  \n",
            "  inflating: fastText-0.9.1/website/static/docs/en/html/search/variables_5.js  \n",
            "  inflating: fastText-0.9.1/website/static/docs/en/html/search/variables_6.html  \n",
            "  inflating: fastText-0.9.1/website/static/docs/en/html/search/variables_6.js  \n",
            "  inflating: fastText-0.9.1/website/static/docs/en/html/search/variables_7.html  \n",
            "  inflating: fastText-0.9.1/website/static/docs/en/html/search/variables_7.js  \n",
            "  inflating: fastText-0.9.1/website/static/docs/en/html/search/variables_8.html  \n",
            "  inflating: fastText-0.9.1/website/static/docs/en/html/search/variables_8.js  \n",
            "  inflating: fastText-0.9.1/website/static/docs/en/html/search/variables_9.html  \n",
            "  inflating: fastText-0.9.1/website/static/docs/en/html/search/variables_9.js  \n",
            "  inflating: fastText-0.9.1/website/static/docs/en/html/search/variables_a.html  \n",
            "  inflating: fastText-0.9.1/website/static/docs/en/html/search/variables_a.js  \n",
            "  inflating: fastText-0.9.1/website/static/docs/en/html/search/variables_b.html  \n",
            "  inflating: fastText-0.9.1/website/static/docs/en/html/search/variables_b.js  \n",
            "  inflating: fastText-0.9.1/website/static/docs/en/html/search/variables_c.html  \n",
            "  inflating: fastText-0.9.1/website/static/docs/en/html/search/variables_c.js  \n",
            "  inflating: fastText-0.9.1/website/static/docs/en/html/search/variables_d.html  \n",
            "  inflating: fastText-0.9.1/website/static/docs/en/html/search/variables_d.js  \n",
            "  inflating: fastText-0.9.1/website/static/docs/en/html/search/variables_e.html  \n",
            "  inflating: fastText-0.9.1/website/static/docs/en/html/search/variables_e.js  \n",
            "  inflating: fastText-0.9.1/website/static/docs/en/html/search/variables_f.html  \n",
            "  inflating: fastText-0.9.1/website/static/docs/en/html/search/variables_f.js  \n",
            "  inflating: fastText-0.9.1/website/static/docs/en/html/splitbar.png  \n",
            "  inflating: fastText-0.9.1/website/static/docs/en/html/structfasttext_1_1Node-members.html  \n",
            "  inflating: fastText-0.9.1/website/static/docs/en/html/structfasttext_1_1Node.html  \n",
            "  inflating: fastText-0.9.1/website/static/docs/en/html/structfasttext_1_1Node.js  \n",
            "  inflating: fastText-0.9.1/website/static/docs/en/html/structfasttext_1_1entry-members.html  \n",
            "  inflating: fastText-0.9.1/website/static/docs/en/html/structfasttext_1_1entry.html  \n",
            "  inflating: fastText-0.9.1/website/static/docs/en/html/structfasttext_1_1entry.js  \n",
            " extracting: fastText-0.9.1/website/static/docs/en/html/sync_off.png  \n",
            " extracting: fastText-0.9.1/website/static/docs/en/html/sync_on.png  \n",
            " extracting: fastText-0.9.1/website/static/docs/en/html/tab_a.png  \n",
            " extracting: fastText-0.9.1/website/static/docs/en/html/tab_b.png  \n",
            " extracting: fastText-0.9.1/website/static/docs/en/html/tab_h.png  \n",
            " extracting: fastText-0.9.1/website/static/docs/en/html/tab_s.png  \n",
            "  inflating: fastText-0.9.1/website/static/docs/en/html/tabs.css  \n",
            "  inflating: fastText-0.9.1/website/static/docs/en/html/utils_8cc.html  \n",
            "  inflating: fastText-0.9.1/website/static/docs/en/html/utils_8cc.js  \n",
            "  inflating: fastText-0.9.1/website/static/docs/en/html/utils_8h.html  \n",
            "  inflating: fastText-0.9.1/website/static/docs/en/html/utils_8h.js  \n",
            "  inflating: fastText-0.9.1/website/static/docs/en/html/utils_8h_source.html  \n",
            "  inflating: fastText-0.9.1/website/static/docs/en/html/vector_8cc.html  \n",
            "  inflating: fastText-0.9.1/website/static/docs/en/html/vector_8cc.js  \n",
            "  inflating: fastText-0.9.1/website/static/docs/en/html/vector_8h.html  \n",
            "  inflating: fastText-0.9.1/website/static/docs/en/html/vector_8h.js  \n",
            "  inflating: fastText-0.9.1/website/static/docs/en/html/vector_8h_source.html  \n",
            "  inflating: fastText-0.9.1/website/static/fasttext.css  \n",
            "   creating: fastText-0.9.1/website/static/img/\n",
            "   creating: fastText-0.9.1/website/static/img/authors/\n",
            "  inflating: fastText-0.9.1/website/static/img/authors/armand_joulin.jpg  \n",
            "  inflating: fastText-0.9.1/website/static/img/authors/christian_puhrsch.png  \n",
            "  inflating: fastText-0.9.1/website/static/img/authors/edouard_grave.jpeg  \n",
            "  inflating: fastText-0.9.1/website/static/img/authors/piotr_bojanowski.jpg  \n",
            "  inflating: fastText-0.9.1/website/static/img/authors/tomas_mikolov.jpg  \n",
            "   creating: fastText-0.9.1/website/static/img/blog/\n",
            "  inflating: fastText-0.9.1/website/static/img/blog/2016-08-18-blog-post-img1.png  \n",
            "  inflating: fastText-0.9.1/website/static/img/blog/2016-08-18-blog-post-img2.png  \n",
            "  inflating: fastText-0.9.1/website/static/img/blog/2017-05-02-blog-post-img1.jpg  \n",
            "  inflating: fastText-0.9.1/website/static/img/blog/2017-05-02-blog-post-img2.jpg  \n",
            "  inflating: fastText-0.9.1/website/static/img/blog/2017-10-02-blog-post-img1.png  \n",
            "  inflating: fastText-0.9.1/website/static/img/cbo_vs_skipgram.png  \n",
            "  inflating: fastText-0.9.1/website/static/img/fasttext-icon-api.png  \n",
            "  inflating: fastText-0.9.1/website/static/img/fasttext-icon-bg-web.png  \n",
            "  inflating: fastText-0.9.1/website/static/img/fasttext-icon-color-square.png  \n",
            "  inflating: fastText-0.9.1/website/static/img/fasttext-icon-color-web.png  \n",
            "  inflating: fastText-0.9.1/website/static/img/fasttext-icon-faq.png  \n",
            "  inflating: fastText-0.9.1/website/static/img/fasttext-icon-tutorial.png  \n",
            "  inflating: fastText-0.9.1/website/static/img/fasttext-icon-white-web.png  \n",
            "  inflating: fastText-0.9.1/website/static/img/fasttext-logo-color-web.png  \n",
            "  inflating: fastText-0.9.1/website/static/img/fasttext-logo-white-web.png  \n",
            "  inflating: fastText-0.9.1/website/static/img/logo-color.png  \n",
            "  inflating: fastText-0.9.1/website/static/img/model-black.png  \n",
            "  inflating: fastText-0.9.1/website/static/img/model-blue.png  \n",
            "  inflating: fastText-0.9.1/website/static/img/model-red.png  \n",
            "  inflating: fastText-0.9.1/website/static/img/ogimage.png  \n",
            "  inflating: fastText-0.9.1/website/static/img/oss_logo.png  \n",
            "  inflating: fastText-0.9.1/wikifil.pl  \n",
            "  inflating: fastText-0.9.1/word-vector-example.sh  \n"
          ],
          "name": "stdout"
        }
      ]
    },
    {
      "cell_type": "markdown",
      "metadata": {
        "id": "Uipo2y3rAabR",
        "colab_type": "text"
      },
      "source": [
        "We then compile the library as follows:"
      ]
    },
    {
      "cell_type": "code",
      "metadata": {
        "id": "YtJCr9bR_wAK",
        "colab_type": "code",
        "outputId": "6bc120ed-2443-415f-b598-265d80d30f54",
        "colab": {
          "base_uri": "https://localhost:8080/",
          "height": 523
        }
      },
      "source": [
        "%cd fastText-0.9.1\n",
        "\n",
        "!make"
      ],
      "execution_count": 0,
      "outputs": [
        {
          "output_type": "stream",
          "text": [
            "/content/fastText-0.9.1\n",
            "c++ -pthread -std=c++0x -march=native -O3 -funroll-loops -DNDEBUG -c src/args.cc\n",
            "c++ -pthread -std=c++0x -march=native -O3 -funroll-loops -DNDEBUG -c src/matrix.cc\n",
            "c++ -pthread -std=c++0x -march=native -O3 -funroll-loops -DNDEBUG -c src/dictionary.cc\n",
            "c++ -pthread -std=c++0x -march=native -O3 -funroll-loops -DNDEBUG -c src/loss.cc\n",
            "c++ -pthread -std=c++0x -march=native -O3 -funroll-loops -DNDEBUG -c src/productquantizer.cc\n",
            "c++ -pthread -std=c++0x -march=native -O3 -funroll-loops -DNDEBUG -c src/densematrix.cc\n",
            "c++ -pthread -std=c++0x -march=native -O3 -funroll-loops -DNDEBUG -c src/quantmatrix.cc\n",
            "c++ -pthread -std=c++0x -march=native -O3 -funroll-loops -DNDEBUG -c src/vector.cc\n",
            "c++ -pthread -std=c++0x -march=native -O3 -funroll-loops -DNDEBUG -c src/model.cc\n",
            "c++ -pthread -std=c++0x -march=native -O3 -funroll-loops -DNDEBUG -c src/utils.cc\n",
            "c++ -pthread -std=c++0x -march=native -O3 -funroll-loops -DNDEBUG -c src/meter.cc\n",
            "c++ -pthread -std=c++0x -march=native -O3 -funroll-loops -DNDEBUG -c src/fasttext.cc\n",
            "\u001b[01m\u001b[Ksrc/fasttext.cc:\u001b[m\u001b[K In member function ‘\u001b[01m\u001b[Kvoid fasttext::FastText::quantize(const fasttext::Args&)\u001b[m\u001b[K’:\n",
            "\u001b[01m\u001b[Ksrc/fasttext.cc:323:45:\u001b[m\u001b[K \u001b[01;35m\u001b[Kwarning: \u001b[m\u001b[K‘\u001b[01m\u001b[Kstd::vector<int> fasttext::FastText::selectEmbeddings(int32_t) const\u001b[m\u001b[K’ is deprecated: selectEmbeddings is being deprecated. [\u001b[01;35m\u001b[K-Wdeprecated-declarations\u001b[m\u001b[K]\n",
            "     auto idx = selectEmbeddings(qargs.cutoff\u001b[01;35m\u001b[K)\u001b[m\u001b[K;\n",
            "                                             \u001b[01;35m\u001b[K^\u001b[m\u001b[K\n",
            "\u001b[01m\u001b[Ksrc/fasttext.cc:293:22:\u001b[m\u001b[K \u001b[01;36m\u001b[Knote: \u001b[m\u001b[Kdeclared here\n",
            " std::vector<int32_t> \u001b[01;36m\u001b[KFastText\u001b[m\u001b[K::selectEmbeddings(int32_t cutoff) const {\n",
            "                      \u001b[01;36m\u001b[K^~~~~~~~\u001b[m\u001b[K\n",
            "\u001b[01m\u001b[Ksrc/fasttext.cc:\u001b[m\u001b[K In member function ‘\u001b[01m\u001b[Kvoid fasttext::FastText::lazyComputeWordVectors()\u001b[m\u001b[K’:\n",
            "\u001b[01m\u001b[Ksrc/fasttext.cc:551:40:\u001b[m\u001b[K \u001b[01;35m\u001b[Kwarning: \u001b[m\u001b[K‘\u001b[01m\u001b[Kvoid fasttext::FastText::precomputeWordVectors(fasttext::DenseMatrix&)\u001b[m\u001b[K’ is deprecated: precomputeWordVectors is being deprecated. [\u001b[01;35m\u001b[K-Wdeprecated-declarations\u001b[m\u001b[K]\n",
            "     precomputeWordVectors(*wordVectors_\u001b[01;35m\u001b[K)\u001b[m\u001b[K;\n",
            "                                        \u001b[01;35m\u001b[K^\u001b[m\u001b[K\n",
            "\u001b[01m\u001b[Ksrc/fasttext.cc:534:6:\u001b[m\u001b[K \u001b[01;36m\u001b[Knote: \u001b[m\u001b[Kdeclared here\n",
            " void \u001b[01;36m\u001b[KFastText\u001b[m\u001b[K::precomputeWordVectors(DenseMatrix& wordVectors) {\n",
            "      \u001b[01;36m\u001b[K^~~~~~~~\u001b[m\u001b[K\n",
            "c++ -pthread -std=c++0x -march=native -O3 -funroll-loops -DNDEBUG args.o matrix.o dictionary.o loss.o productquantizer.o densematrix.o quantmatrix.o vector.o model.o utils.o meter.o fasttext.o src/main.cc -o fasttext\n"
          ],
          "name": "stdout"
        }
      ]
    },
    {
      "cell_type": "markdown",
      "metadata": {
        "id": "JS9UBjUeAw3_",
        "colab_type": "text"
      },
      "source": [
        "We now move to downloading our embedding vectors. We choose the vectors trained over Wikipedia "
      ]
    },
    {
      "cell_type": "code",
      "metadata": {
        "id": "2niCBmWp_1D1",
        "colab_type": "code",
        "outputId": "402ed438-8533-4076-ddb8-50730447c140",
        "colab": {
          "base_uri": "https://localhost:8080/",
          "height": 225
        }
      },
      "source": [
        "!wget https://dl.fbaipublicfiles.com/fasttext/vectors-crawl/cc.en.300.bin.gz\n",
        "  \n",
        "!gunzip -v -f cc.en.300.bin.gz"
      ],
      "execution_count": 0,
      "outputs": [
        {
          "output_type": "stream",
          "text": [
            "--2019-12-16 20:18:36--  https://dl.fbaipublicfiles.com/fasttext/vectors-crawl/cc.en.300.bin.gz\n",
            "Resolving dl.fbaipublicfiles.com (dl.fbaipublicfiles.com)... 104.20.22.166, 104.20.6.166, 2606:4700:10::6814:6a6, ...\n",
            "Connecting to dl.fbaipublicfiles.com (dl.fbaipublicfiles.com)|104.20.22.166|:443... connected.\n",
            "HTTP request sent, awaiting response... 200 OK\n",
            "Length: 4503593528 (4.2G) [application/octet-stream]\n",
            "Saving to: ‘cc.en.300.bin.gz’\n",
            "\n",
            "cc.en.300.bin.gz    100%[===================>]   4.19G  9.50MB/s    in 7m 28s  \n",
            "\n",
            "2019-12-16 20:26:06 (9.58 MB/s) - ‘cc.en.300.bin.gz’ saved [4503593528/4503593528]\n",
            "\n",
            "cc.en.300.bin.gz:\t 37.8% -- replaced with cc.en.300.bin\n"
          ],
          "name": "stdout"
        }
      ]
    },
    {
      "cell_type": "markdown",
      "metadata": {
        "id": "htJS9ziKtfMr",
        "colab_type": "text"
      },
      "source": [
        "**Data Preprocessing**\n",
        "\n",
        "We take our csv file and convert it into a dataframe"
      ]
    },
    {
      "cell_type": "code",
      "metadata": {
        "id": "P_QYkfVstlmw",
        "colab_type": "code",
        "outputId": "3ead9f67-6bbb-4b23-bc6f-bab9ef43d9e8",
        "colab": {
          "base_uri": "https://localhost:8080/",
          "height": 206
        }
      },
      "source": [
        "data1 = pd.DataFrame(full_data)\n",
        "data1.head()"
      ],
      "execution_count": 0,
      "outputs": [
        {
          "output_type": "execute_result",
          "data": {
            "text/html": [
              "<div>\n",
              "<style scoped>\n",
              "    .dataframe tbody tr th:only-of-type {\n",
              "        vertical-align: middle;\n",
              "    }\n",
              "\n",
              "    .dataframe tbody tr th {\n",
              "        vertical-align: top;\n",
              "    }\n",
              "\n",
              "    .dataframe thead th {\n",
              "        text-align: right;\n",
              "    }\n",
              "</style>\n",
              "<table border=\"1\" class=\"dataframe\">\n",
              "  <thead>\n",
              "    <tr style=\"text-align: right;\">\n",
              "      <th></th>\n",
              "      <th>text</th>\n",
              "      <th>sentiment</th>\n",
              "      <th>confidence</th>\n",
              "    </tr>\n",
              "  </thead>\n",
              "  <tbody>\n",
              "    <tr>\n",
              "      <th>0</th>\n",
              "      <td>trying to wait a patient as i can lol</td>\n",
              "      <td>1</td>\n",
              "      <td>0.3</td>\n",
              "    </tr>\n",
              "    <tr>\n",
              "      <th>1</th>\n",
              "      <td>Good morning Fotopro Team,  I noticed in some ...</td>\n",
              "      <td>1</td>\n",
              "      <td>0.6</td>\n",
              "    </tr>\n",
              "    <tr>\n",
              "      <th>2</th>\n",
              "      <td>these still on track? ahead? behind?</td>\n",
              "      <td>1</td>\n",
              "      <td>0.2</td>\n",
              "    </tr>\n",
              "    <tr>\n",
              "      <th>3</th>\n",
              "      <td>any update on delivery?</td>\n",
              "      <td>1</td>\n",
              "      <td>0.0</td>\n",
              "    </tr>\n",
              "    <tr>\n",
              "      <th>4</th>\n",
              "      <td>product so nice had to get it twice</td>\n",
              "      <td>1</td>\n",
              "      <td>0.5</td>\n",
              "    </tr>\n",
              "  </tbody>\n",
              "</table>\n",
              "</div>"
            ],
            "text/plain": [
              "                                                text  sentiment  confidence\n",
              "0              trying to wait a patient as i can lol          1         0.3\n",
              "1  Good morning Fotopro Team,  I noticed in some ...          1         0.6\n",
              "2               these still on track? ahead? behind?          1         0.2\n",
              "3                            any update on delivery?          1         0.0\n",
              "4                product so nice had to get it twice          1         0.5"
            ]
          },
          "metadata": {
            "tags": []
          },
          "execution_count": 8
        }
      ]
    },
    {
      "cell_type": "code",
      "metadata": {
        "id": "9tosEUl0_8z7",
        "colab_type": "code",
        "outputId": "9adc787d-d0fc-4c95-8312-02c577dcbc56",
        "colab": {
          "base_uri": "https://localhost:8080/",
          "height": 34
        }
      },
      "source": [
        "\n",
        "%cd /content"
      ],
      "execution_count": 0,
      "outputs": [
        {
          "output_type": "stream",
          "text": [
            "/content\n"
          ],
          "name": "stdout"
        }
      ]
    },
    {
      "cell_type": "markdown",
      "metadata": {
        "id": "FhegfuSE570V",
        "colab_type": "text"
      },
      "source": [
        "We first note that URLs will  not serve any purpose in predicting sentiments. We therefore remove them"
      ]
    },
    {
      "cell_type": "code",
      "metadata": {
        "id": "c3sMCxZN6JPY",
        "colab_type": "code",
        "colab": {}
      },
      "source": [
        "import re\n",
        "data1.iloc[:,0] = [re.sub(r'\\b(?:(?:https?|ftp)://)?\\w[\\w-]*(?:\\.[\\w-]+)+\\S*', '', j) for j in data1.iloc[:,0]]"
      ],
      "execution_count": 0,
      "outputs": []
    },
    {
      "cell_type": "markdown",
      "metadata": {
        "id": "iyOSa225m2rz",
        "colab_type": "text"
      },
      "source": [
        "We then clean our data by removing all of the special characters"
      ]
    },
    {
      "cell_type": "code",
      "metadata": {
        "id": "lwyL94Llvmo4",
        "colab_type": "code",
        "colab": {}
      },
      "source": [
        "import string\n",
        "from string import digits \n",
        "\n",
        "table = str.maketrans(' ', ' ', string.punctuation)\n",
        "\n",
        "data1.iloc[:,0] = [j.translate(table) for j in data1.iloc[:,0]]\n",
        "data1.iloc[:,0] = [j.replace('\\x96',' ') for j in data1.iloc[:,0]]\n",
        "data1.iloc[:,0] = [\" \".join(j.split()) for j in data1.iloc[:,0]]\n"
      ],
      "execution_count": 0,
      "outputs": []
    },
    {
      "cell_type": "code",
      "metadata": {
        "id": "p93TmXeOvnlm",
        "colab_type": "code",
        "outputId": "ae034c44-9157-4f68-ca0e-dc47614fd676",
        "colab": {
          "base_uri": "https://localhost:8080/",
          "height": 206
        }
      },
      "source": [
        "data1.head()"
      ],
      "execution_count": 0,
      "outputs": [
        {
          "output_type": "execute_result",
          "data": {
            "text/html": [
              "<div>\n",
              "<style scoped>\n",
              "    .dataframe tbody tr th:only-of-type {\n",
              "        vertical-align: middle;\n",
              "    }\n",
              "\n",
              "    .dataframe tbody tr th {\n",
              "        vertical-align: top;\n",
              "    }\n",
              "\n",
              "    .dataframe thead th {\n",
              "        text-align: right;\n",
              "    }\n",
              "</style>\n",
              "<table border=\"1\" class=\"dataframe\">\n",
              "  <thead>\n",
              "    <tr style=\"text-align: right;\">\n",
              "      <th></th>\n",
              "      <th>text</th>\n",
              "      <th>sentiment</th>\n",
              "      <th>confidence</th>\n",
              "      <th>Num_Count</th>\n",
              "      <th>Phrase_Length</th>\n",
              "    </tr>\n",
              "  </thead>\n",
              "  <tbody>\n",
              "    <tr>\n",
              "      <th>0</th>\n",
              "      <td>trying wait patient as i can lol</td>\n",
              "      <td>1</td>\n",
              "      <td>0.3</td>\n",
              "      <td>0</td>\n",
              "      <td>9</td>\n",
              "    </tr>\n",
              "    <tr>\n",
              "      <th>1</th>\n",
              "      <td>good morning fotopro team noticed in some comm...</td>\n",
              "      <td>1</td>\n",
              "      <td>0.6</td>\n",
              "      <td>1</td>\n",
              "      <td>33</td>\n",
              "    </tr>\n",
              "    <tr>\n",
              "      <th>2</th>\n",
              "      <td>these still on track ahead behind</td>\n",
              "      <td>1</td>\n",
              "      <td>0.2</td>\n",
              "      <td>0</td>\n",
              "      <td>6</td>\n",
              "    </tr>\n",
              "    <tr>\n",
              "      <th>3</th>\n",
              "      <td>any update on delivery</td>\n",
              "      <td>1</td>\n",
              "      <td>0.0</td>\n",
              "      <td>0</td>\n",
              "      <td>4</td>\n",
              "    </tr>\n",
              "    <tr>\n",
              "      <th>4</th>\n",
              "      <td>product so nice had get twice</td>\n",
              "      <td>1</td>\n",
              "      <td>0.5</td>\n",
              "      <td>0</td>\n",
              "      <td>8</td>\n",
              "    </tr>\n",
              "  </tbody>\n",
              "</table>\n",
              "</div>"
            ],
            "text/plain": [
              "                                                text  ...  Phrase_Length\n",
              "0                   trying wait patient as i can lol  ...              9\n",
              "1  good morning fotopro team noticed in some comm...  ...             33\n",
              "2                  these still on track ahead behind  ...              6\n",
              "3                             any update on delivery  ...              4\n",
              "4                      product so nice had get twice  ...              8\n",
              "\n",
              "[5 rows x 5 columns]"
            ]
          },
          "metadata": {
            "tags": []
          },
          "execution_count": 50
        }
      ]
    },
    {
      "cell_type": "markdown",
      "metadata": {
        "id": "SXxZxtlBThGS",
        "colab_type": "text"
      },
      "source": [
        "Counting the number of digits per sentence\n"
      ]
    },
    {
      "cell_type": "code",
      "metadata": {
        "id": "EfRushEwTlyy",
        "colab_type": "code",
        "outputId": "abc17653-a32a-4ec2-b8d0-d0132a21e744",
        "colab": {
          "base_uri": "https://localhost:8080/",
          "height": 173
        }
      },
      "source": [
        "def num_count(phrase):\n",
        "  num = sum(word.isdigit() for word in phrase)\n",
        "  return num\n",
        "\n",
        "data1['Num_Count'] = data1.apply(lambda x: num_count(x['text']), axis = 1)\n",
        "\n",
        "\n",
        "data1.Num_Count.describe()\n",
        "\n"
      ],
      "execution_count": 0,
      "outputs": [
        {
          "output_type": "execute_result",
          "data": {
            "text/plain": [
              "count    204058.000000\n",
              "mean          0.857119\n",
              "std           2.529920\n",
              "min           0.000000\n",
              "25%           0.000000\n",
              "50%           0.000000\n",
              "75%           0.000000\n",
              "max         128.000000\n",
              "Name: Num_Count, dtype: float64"
            ]
          },
          "metadata": {
            "tags": []
          },
          "execution_count": 12
        }
      ]
    },
    {
      "cell_type": "code",
      "metadata": {
        "id": "ksZEjtnRy9pf",
        "colab_type": "code",
        "outputId": "d02806ac-ab22-405b-901e-aca1777bbb66",
        "colab": {
          "base_uri": "https://localhost:8080/",
          "height": 298
        }
      },
      "source": [
        "data1['Num_Count'].plot(\n",
        "    kind = 'hist')\n",
        "\n",
        "plt.title(\"Histogram of amount of numbers per sentence\")"
      ],
      "execution_count": 0,
      "outputs": [
        {
          "output_type": "execute_result",
          "data": {
            "text/plain": [
              "Text(0.5, 1.0, 'Histogram of amount of numbers per sentence')"
            ]
          },
          "metadata": {
            "tags": []
          },
          "execution_count": 13
        },
        {
          "output_type": "display_data",
          "data": {
            "image/png": "[encoded data removed]",
            "text/plain": [
              "<Figure size 432x288 with 1 Axes>"
            ]
          },
          "metadata": {
            "tags": []
          }
        }
      ]
    },
    {
      "cell_type": "markdown",
      "metadata": {
        "id": "4RR08jIb05po",
        "colab_type": "text"
      },
      "source": [
        "We remove the digit from the sentences"
      ]
    },
    {
      "cell_type": "code",
      "metadata": {
        "id": "UPiEeoSy08tg",
        "colab_type": "code",
        "colab": {}
      },
      "source": [
        "table = str.maketrans(' ', ' ', digits)\n",
        "\n",
        "data1.iloc[:,0] = [j.translate(table) for j in data1.iloc[:,0]]\n",
        "data1.iloc[:,0] = [j.replace('\\x96',' ') for j in data1.iloc[:,0]]\n",
        "\n",
        "data1.iloc[:,0] = [\" \".join(j.split()) for j in data1.iloc[:,0]]"
      ],
      "execution_count": 0,
      "outputs": []
    },
    {
      "cell_type": "code",
      "metadata": {
        "id": "yD3N0Pqi1FtK",
        "colab_type": "code",
        "outputId": "cf109056-9fa8-4ae5-d661-1110f23ab9ea",
        "colab": {
          "base_uri": "https://localhost:8080/",
          "height": 191
        }
      },
      "source": [
        "data1.info()"
      ],
      "execution_count": 0,
      "outputs": [
        {
          "output_type": "stream",
          "text": [
            "<class 'pandas.core.frame.DataFrame'>\n",
            "RangeIndex: 204058 entries, 0 to 204057\n",
            "Data columns (total 5 columns):\n",
            "text             204058 non-null object\n",
            "sentiment        204058 non-null int64\n",
            "confidence       204058 non-null float64\n",
            "Num_Count        204058 non-null int64\n",
            "Phrase_Length    204058 non-null int64\n",
            "dtypes: float64(1), int64(3), object(1)\n",
            "memory usage: 7.8+ MB\n"
          ],
          "name": "stdout"
        }
      ]
    },
    {
      "cell_type": "code",
      "metadata": {
        "id": "ruMFWdQmQd-I",
        "colab_type": "code",
        "outputId": "260da07a-fb8e-42b1-af56-0a2f5e02e8d7",
        "colab": {
          "base_uri": "https://localhost:8080/",
          "height": 317
        }
      },
      "source": [
        "import seaborn as sns\n",
        "import numpy as np\n",
        "%matplotlib inline\n",
        "\n",
        "\n",
        "wordDist = [len(w.split()) for w in data1.iloc[:,0]]\n",
        "print('Avg. no of words: ' + str(np.round(np.mean(wordDist), 2)))\n",
        "print('Std. deviation: ' + str(np.round(np.std(wordDist), 2)))\n",
        "print('Max words: ' + str(np.max(wordDist)))\n",
        "\n",
        "\n",
        "distIMDB = sns.distplot(wordDist)\n",
        "\n",
        "\n",
        "distIMDB.figure.savefig(\"wordDist.pdf\", format = \"pdf\")"
      ],
      "execution_count": 0,
      "outputs": [
        {
          "output_type": "stream",
          "text": [
            "Avg. no of words: 29.88\n",
            "Std. deviation: 28.31\n",
            "Max words: 1243\n"
          ],
          "name": "stdout"
        },
        {
          "output_type": "display_data",
          "data": {
            "image/png": "[encoded data removed]",
            "text/plain": [
              "<Figure size 432x288 with 1 Axes>"
            ]
          },
          "metadata": {
            "tags": []
          }
        }
      ]
    },
    {
      "cell_type": "code",
      "metadata": {
        "id": "5lu5mzIWxuEl",
        "colab_type": "code",
        "outputId": "12c7eaf7-fda3-40b4-ee49-e4016970f4e9",
        "colab": {
          "base_uri": "https://localhost:8080/",
          "height": 296
        }
      },
      "source": [
        "import seaborn as sns\n",
        "\n",
        "sns.countplot(x='sentiment', data=data1)"
      ],
      "execution_count": 0,
      "outputs": [
        {
          "output_type": "execute_result",
          "data": {
            "text/plain": [
              "<matplotlib.axes._subplots.AxesSubplot at 0x7f70769f6128>"
            ]
          },
          "metadata": {
            "tags": []
          },
          "execution_count": 16
        },
        {
          "output_type": "display_data",
          "data": {
            "image/png": "[encoded data removed]",
            "text/plain": [
              "<Figure size 432x288 with 1 Axes>"
            ]
          },
          "metadata": {
            "tags": []
          }
        }
      ]
    },
    {
      "cell_type": "markdown",
      "metadata": {
        "id": "XftOUBxiNuDr",
        "colab_type": "text"
      },
      "source": [
        "**Inferences from Data**"
      ]
    },
    {
      "cell_type": "markdown",
      "metadata": {
        "id": "-RfVmjfQQjEm",
        "colab_type": "text"
      },
      "source": [
        "Counting the number of words per sentence"
      ]
    },
    {
      "cell_type": "code",
      "metadata": {
        "id": "KwxLnCjdNyRs",
        "colab_type": "code",
        "outputId": "2d0f3b10-3321-4bae-8720-622773c697c1",
        "colab": {
          "base_uri": "https://localhost:8080/",
          "height": 173
        }
      },
      "source": [
        "def phrase_len(phrase):\n",
        "  out = len(str(phrase).split(\" \"))\n",
        "  return out\n",
        "\n",
        "data1['Phrase_Length'] = data1.apply(lambda x: phrase_len(x['text']), axis = 1)\n",
        "data1.head()\n",
        "\n",
        "\n",
        "data1.Phrase_Length.describe()\n"
      ],
      "execution_count": 0,
      "outputs": [
        {
          "output_type": "execute_result",
          "data": {
            "text/plain": [
              "count    204058.000000\n",
              "mean         29.882176\n",
              "std          28.309064\n",
              "min           1.000000\n",
              "25%          12.000000\n",
              "50%          22.000000\n",
              "75%          39.000000\n",
              "max        1243.000000\n",
              "Name: Phrase_Length, dtype: float64"
            ]
          },
          "metadata": {
            "tags": []
          },
          "execution_count": 17
        }
      ]
    },
    {
      "cell_type": "markdown",
      "metadata": {
        "id": "IqHuqqYnSbd1",
        "colab_type": "text"
      },
      "source": [
        "Counting the number of characters per sentence"
      ]
    },
    {
      "cell_type": "code",
      "metadata": {
        "id": "7hFF7-pERQLF",
        "colab_type": "code",
        "outputId": "91e0b60a-a6e0-45d5-b469-09e56183b82e",
        "colab": {
          "base_uri": "https://localhost:8080/",
          "height": 173
        }
      },
      "source": [
        "def char_num(phrase):\n",
        "  space_num = phrase.count(' ')\n",
        "  out = len(phrase) - space_num\n",
        "  return out\n",
        "\n",
        "data1['Char_Num'] = data1.apply(lambda x: char_num(x['text']), axis = 1)\n",
        "data1\n",
        "\n",
        "data1.Char_Num.describe()\n"
      ],
      "execution_count": 0,
      "outputs": [
        {
          "output_type": "execute_result",
          "data": {
            "text/plain": [
              "count    204058.000000\n",
              "mean        128.859849\n",
              "std         123.445343\n",
              "min           0.000000\n",
              "25%          50.000000\n",
              "50%          93.000000\n",
              "75%         168.000000\n",
              "max        5415.000000\n",
              "Name: Char_Num, dtype: float64"
            ]
          },
          "metadata": {
            "tags": []
          },
          "execution_count": 18
        }
      ]
    },
    {
      "cell_type": "code",
      "metadata": {
        "id": "WZRCsw_xZfl8",
        "colab_type": "code",
        "outputId": "e3895d36-be9d-4906-dc7f-8621bb2029d0",
        "colab": {
          "base_uri": "https://localhost:8080/",
          "height": 208
        }
      },
      "source": [
        "num1 = pd.Series(' '.join(data1['text']).split()).value_counts()[:10]\n",
        "num1\n"
      ],
      "execution_count": 0,
      "outputs": [
        {
          "output_type": "execute_result",
          "data": {
            "text/plain": [
              "the    266399\n",
              "to     187024\n",
              "I      152468\n",
              "and    128655\n",
              "a      120531\n",
              "you     99485\n",
              "for     84939\n",
              "of      79891\n",
              "it      76226\n",
              "is      74191\n",
              "dtype: int64"
            ]
          },
          "metadata": {
            "tags": []
          },
          "execution_count": 19
        }
      ]
    },
    {
      "cell_type": "code",
      "metadata": {
        "id": "ryhEfvTf5tHJ",
        "colab_type": "code",
        "outputId": "d21e33c2-051d-4174-c808-6f7631bbf71b",
        "colab": {
          "base_uri": "https://localhost:8080/",
          "height": 208
        }
      },
      "source": [
        "num2 = pd.Series(' '.join(data1['text']).split()).value_counts()[-10:]\n",
        "num2 "
      ],
      "execution_count": 0,
      "outputs": [
        {
          "output_type": "execute_result",
          "data": {
            "text/plain": [
              "bikeshelf        1\n",
              "gursikh          1\n",
              "Hillery          1\n",
              "configuarion     1\n",
              "appearanceno     1\n",
              "conductor’s      1\n",
              "shipusereturn    1\n",
              "quipped          1\n",
              "Goofy            1\n",
              "Stoopid          1\n",
              "dtype: int64"
            ]
          },
          "metadata": {
            "tags": []
          },
          "execution_count": 20
        }
      ]
    },
    {
      "cell_type": "markdown",
      "metadata": {
        "id": "h4ojUaIUW0oY",
        "colab_type": "text"
      },
      "source": [
        "Counting the number of uppercase characters per sentence\n"
      ]
    },
    {
      "cell_type": "code",
      "metadata": {
        "id": "d38x90c8W323",
        "colab_type": "code",
        "outputId": "9c45363b-ca33-4d81-baa8-8a76bbfd5674",
        "colab": {
          "base_uri": "https://localhost:8080/",
          "height": 173
        }
      },
      "source": [
        "def upper_count(phrase):\n",
        "  upper = sum(word.isupper() for word in phrase)\n",
        "  return upper\n",
        "\n",
        "upper_count(\"Sankara IS handSSome 3daD\")\n",
        "\n",
        "data1['Upper_Count'] = data1.apply(lambda x: upper_count(x['text']), axis = 1)\n",
        "\n",
        "data1\n",
        "data1.Upper_Count.describe()\n"
      ],
      "execution_count": 0,
      "outputs": [
        {
          "output_type": "execute_result",
          "data": {
            "text/plain": [
              "count    204058.000000\n",
              "mean          5.461511\n",
              "std          14.617812\n",
              "min           0.000000\n",
              "25%           2.000000\n",
              "50%           4.000000\n",
              "75%           7.000000\n",
              "max        5415.000000\n",
              "Name: Upper_Count, dtype: float64"
            ]
          },
          "metadata": {
            "tags": []
          },
          "execution_count": 21
        }
      ]
    },
    {
      "cell_type": "code",
      "metadata": {
        "id": "4Lec68Ub70UR",
        "colab_type": "code",
        "outputId": "4d5945a0-afda-4532-a444-fcc714d41028",
        "colab": {
          "base_uri": "https://localhost:8080/",
          "height": 34
        }
      },
      "source": [
        "upper_count(\"SankaraDA\")"
      ],
      "execution_count": 0,
      "outputs": [
        {
          "output_type": "execute_result",
          "data": {
            "text/plain": [
              "3"
            ]
          },
          "metadata": {
            "tags": []
          },
          "execution_count": 23
        }
      ]
    },
    {
      "cell_type": "markdown",
      "metadata": {
        "id": "mH4CX7g9XgZJ",
        "colab_type": "text"
      },
      "source": [
        "Counting the number of lowercase characters per sentence"
      ]
    },
    {
      "cell_type": "code",
      "metadata": {
        "id": "z7NdSc6eXx1q",
        "colab_type": "code",
        "outputId": "dccea613-ce56-43a2-c56c-7436040c5df1",
        "colab": {
          "base_uri": "https://localhost:8080/",
          "height": 173
        }
      },
      "source": [
        "def lower_count(phrase):\n",
        "  lower = sum(word.islower() for word in phrase)\n",
        "  return lower\n",
        "\n",
        "data1['Lower_Count'] = data1.apply(lambda x: lower_count(x['text']), axis = 1)\n",
        "\n",
        "data1\n",
        "data1.Lower_Count.describe()\n"
      ],
      "execution_count": 0,
      "outputs": [
        {
          "output_type": "execute_result",
          "data": {
            "text/plain": [
              "count    204058.000000\n",
              "mean        123.274672\n",
              "std         119.019976\n",
              "min           0.000000\n",
              "25%          47.000000\n",
              "50%          89.000000\n",
              "75%         161.000000\n",
              "max        5320.000000\n",
              "Name: Lower_Count, dtype: float64"
            ]
          },
          "metadata": {
            "tags": []
          },
          "execution_count": 22
        }
      ]
    },
    {
      "cell_type": "code",
      "metadata": {
        "id": "qaOsv1UY8jBl",
        "colab_type": "code",
        "outputId": "5f612509-1848-4f89-f998-d854d4d90652",
        "colab": {
          "base_uri": "https://localhost:8080/",
          "height": 34
        }
      },
      "source": [
        "lower_count(\"Sankara IS handSSome 3daD\")\n"
      ],
      "execution_count": 0,
      "outputs": [
        {
          "output_type": "execute_result",
          "data": {
            "text/plain": [
              "15"
            ]
          },
          "metadata": {
            "tags": []
          },
          "execution_count": 23
        }
      ]
    },
    {
      "cell_type": "markdown",
      "metadata": {
        "id": "0T905c4oZd6l",
        "colab_type": "text"
      },
      "source": [
        "Most frequent words"
      ]
    },
    {
      "cell_type": "markdown",
      "metadata": {
        "id": "U4XiucnsCxH1",
        "colab_type": "text"
      },
      "source": [
        "**Data Processing**\n",
        "\n",
        "We modify our text variable by removing the words that are the most repeated and the words that are the least repeated"
      ]
    },
    {
      "cell_type": "code",
      "metadata": {
        "id": "D7rmoHsRDDkb",
        "colab_type": "code",
        "colab": {}
      },
      "source": [
        "num_1 = list(num1.index)\n",
        "num_1\n",
        "\n",
        "data1['text'] = data1['text'].apply(lambda x: \" \".join(x for x in x.split() if x not in num_1))\n",
        "\n"
      ],
      "execution_count": 0,
      "outputs": []
    },
    {
      "cell_type": "code",
      "metadata": {
        "id": "r-De_t4BEYaU",
        "colab_type": "code",
        "colab": {}
      },
      "source": [
        "num_2 = list(num2.index)\n",
        "num_2\n",
        "\n",
        "data1['text'] = data1['text'].apply(lambda x: \" \".join(x for x in x.split() if x not in num_2))"
      ],
      "execution_count": 0,
      "outputs": []
    },
    {
      "cell_type": "markdown",
      "metadata": {
        "id": "FEVZL251nk9J",
        "colab_type": "text"
      },
      "source": [
        "For simplicity, we then convert all of the characters into lower case characters"
      ]
    },
    {
      "cell_type": "code",
      "metadata": {
        "id": "VL2cyPh-nrn3",
        "colab_type": "code",
        "outputId": "c2cac6a3-6d3c-427f-fef4-e8bcb0d49ef3",
        "colab": {
          "base_uri": "https://localhost:8080/",
          "height": 206
        }
      },
      "source": [
        "data1.head()"
      ],
      "execution_count": 0,
      "outputs": [
        {
          "output_type": "execute_result",
          "data": {
            "text/html": [
              "<div>\n",
              "<style scoped>\n",
              "    .dataframe tbody tr th:only-of-type {\n",
              "        vertical-align: middle;\n",
              "    }\n",
              "\n",
              "    .dataframe tbody tr th {\n",
              "        vertical-align: top;\n",
              "    }\n",
              "\n",
              "    .dataframe thead th {\n",
              "        text-align: right;\n",
              "    }\n",
              "</style>\n",
              "<table border=\"1\" class=\"dataframe\">\n",
              "  <thead>\n",
              "    <tr style=\"text-align: right;\">\n",
              "      <th></th>\n",
              "      <th>text</th>\n",
              "      <th>sentiment</th>\n",
              "      <th>confidence</th>\n",
              "      <th>Num_Count</th>\n",
              "      <th>Phrase_Length</th>\n",
              "      <th>Char_Num</th>\n",
              "      <th>Upper_Count</th>\n",
              "      <th>Lower_Count</th>\n",
              "    </tr>\n",
              "  </thead>\n",
              "  <tbody>\n",
              "    <tr>\n",
              "      <th>0</th>\n",
              "      <td>trying wait patient as i can lol</td>\n",
              "      <td>1</td>\n",
              "      <td>0.3</td>\n",
              "      <td>0</td>\n",
              "      <td>9</td>\n",
              "      <td>29</td>\n",
              "      <td>0</td>\n",
              "      <td>29</td>\n",
              "    </tr>\n",
              "    <tr>\n",
              "      <th>1</th>\n",
              "      <td>Good morning Fotopro Team noticed in some comm...</td>\n",
              "      <td>1</td>\n",
              "      <td>0.6</td>\n",
              "      <td>1</td>\n",
              "      <td>33</td>\n",
              "      <td>141</td>\n",
              "      <td>7</td>\n",
              "      <td>134</td>\n",
              "    </tr>\n",
              "    <tr>\n",
              "      <th>2</th>\n",
              "      <td>these still on track ahead behind</td>\n",
              "      <td>1</td>\n",
              "      <td>0.2</td>\n",
              "      <td>0</td>\n",
              "      <td>6</td>\n",
              "      <td>28</td>\n",
              "      <td>0</td>\n",
              "      <td>28</td>\n",
              "    </tr>\n",
              "    <tr>\n",
              "      <th>3</th>\n",
              "      <td>any update on delivery</td>\n",
              "      <td>1</td>\n",
              "      <td>0.0</td>\n",
              "      <td>0</td>\n",
              "      <td>4</td>\n",
              "      <td>19</td>\n",
              "      <td>0</td>\n",
              "      <td>19</td>\n",
              "    </tr>\n",
              "    <tr>\n",
              "      <th>4</th>\n",
              "      <td>product so nice had get twice</td>\n",
              "      <td>1</td>\n",
              "      <td>0.5</td>\n",
              "      <td>0</td>\n",
              "      <td>8</td>\n",
              "      <td>28</td>\n",
              "      <td>0</td>\n",
              "      <td>28</td>\n",
              "    </tr>\n",
              "  </tbody>\n",
              "</table>\n",
              "</div>"
            ],
            "text/plain": [
              "                                                text  ...  Lower_Count\n",
              "0                   trying wait patient as i can lol  ...           29\n",
              "1  Good morning Fotopro Team noticed in some comm...  ...          134\n",
              "2                  these still on track ahead behind  ...           28\n",
              "3                             any update on delivery  ...           19\n",
              "4                      product so nice had get twice  ...           28\n",
              "\n",
              "[5 rows x 8 columns]"
            ]
          },
          "metadata": {
            "tags": []
          },
          "execution_count": 28
        }
      ]
    },
    {
      "cell_type": "code",
      "metadata": {
        "id": "_PmGGZrNnwG4",
        "colab_type": "code",
        "colab": {}
      },
      "source": [
        "data1['text'] = data1['text'].apply(lambda x: \" \".join(x.lower() for x in x.split()))\n"
      ],
      "execution_count": 0,
      "outputs": []
    },
    {
      "cell_type": "code",
      "metadata": {
        "id": "JSPNp-0poZST",
        "colab_type": "code",
        "outputId": "2273ad5a-ec55-4d0a-c008-d1acafc28f5e",
        "colab": {
          "base_uri": "https://localhost:8080/",
          "height": 206
        }
      },
      "source": [
        "data1.head()"
      ],
      "execution_count": 0,
      "outputs": [
        {
          "output_type": "execute_result",
          "data": {
            "text/html": [
              "<div>\n",
              "<style scoped>\n",
              "    .dataframe tbody tr th:only-of-type {\n",
              "        vertical-align: middle;\n",
              "    }\n",
              "\n",
              "    .dataframe tbody tr th {\n",
              "        vertical-align: top;\n",
              "    }\n",
              "\n",
              "    .dataframe thead th {\n",
              "        text-align: right;\n",
              "    }\n",
              "</style>\n",
              "<table border=\"1\" class=\"dataframe\">\n",
              "  <thead>\n",
              "    <tr style=\"text-align: right;\">\n",
              "      <th></th>\n",
              "      <th>text</th>\n",
              "      <th>sentiment</th>\n",
              "      <th>confidence</th>\n",
              "      <th>Num_Count</th>\n",
              "      <th>Phrase_Length</th>\n",
              "      <th>Char_Num</th>\n",
              "      <th>Upper_Count</th>\n",
              "      <th>Lower_Count</th>\n",
              "    </tr>\n",
              "  </thead>\n",
              "  <tbody>\n",
              "    <tr>\n",
              "      <th>0</th>\n",
              "      <td>trying wait patient as i can lol</td>\n",
              "      <td>1</td>\n",
              "      <td>0.3</td>\n",
              "      <td>0</td>\n",
              "      <td>9</td>\n",
              "      <td>29</td>\n",
              "      <td>0</td>\n",
              "      <td>29</td>\n",
              "    </tr>\n",
              "    <tr>\n",
              "      <th>1</th>\n",
              "      <td>good morning fotopro team noticed in some comm...</td>\n",
              "      <td>1</td>\n",
              "      <td>0.6</td>\n",
              "      <td>1</td>\n",
              "      <td>33</td>\n",
              "      <td>141</td>\n",
              "      <td>7</td>\n",
              "      <td>134</td>\n",
              "    </tr>\n",
              "    <tr>\n",
              "      <th>2</th>\n",
              "      <td>these still on track ahead behind</td>\n",
              "      <td>1</td>\n",
              "      <td>0.2</td>\n",
              "      <td>0</td>\n",
              "      <td>6</td>\n",
              "      <td>28</td>\n",
              "      <td>0</td>\n",
              "      <td>28</td>\n",
              "    </tr>\n",
              "    <tr>\n",
              "      <th>3</th>\n",
              "      <td>any update on delivery</td>\n",
              "      <td>1</td>\n",
              "      <td>0.0</td>\n",
              "      <td>0</td>\n",
              "      <td>4</td>\n",
              "      <td>19</td>\n",
              "      <td>0</td>\n",
              "      <td>19</td>\n",
              "    </tr>\n",
              "    <tr>\n",
              "      <th>4</th>\n",
              "      <td>product so nice had get twice</td>\n",
              "      <td>1</td>\n",
              "      <td>0.5</td>\n",
              "      <td>0</td>\n",
              "      <td>8</td>\n",
              "      <td>28</td>\n",
              "      <td>0</td>\n",
              "      <td>28</td>\n",
              "    </tr>\n",
              "  </tbody>\n",
              "</table>\n",
              "</div>"
            ],
            "text/plain": [
              "                                                text  ...  Lower_Count\n",
              "0                   trying wait patient as i can lol  ...           29\n",
              "1  good morning fotopro team noticed in some comm...  ...          134\n",
              "2                  these still on track ahead behind  ...           28\n",
              "3                             any update on delivery  ...           19\n",
              "4                      product so nice had get twice  ...           28\n",
              "\n",
              "[5 rows x 8 columns]"
            ]
          },
          "metadata": {
            "tags": []
          },
          "execution_count": 30
        }
      ]
    },
    {
      "cell_type": "code",
      "metadata": {
        "id": "Zk_NdUBlokwV",
        "colab_type": "code",
        "outputId": "4e64c454-b39f-42a7-8964-698d9272c7e9",
        "colab": {
          "base_uri": "https://localhost:8080/",
          "height": 424
        }
      },
      "source": [
        "data1"
      ],
      "execution_count": 0,
      "outputs": [
        {
          "output_type": "execute_result",
          "data": {
            "text/html": [
              "<div>\n",
              "<style scoped>\n",
              "    .dataframe tbody tr th:only-of-type {\n",
              "        vertical-align: middle;\n",
              "    }\n",
              "\n",
              "    .dataframe tbody tr th {\n",
              "        vertical-align: top;\n",
              "    }\n",
              "\n",
              "    .dataframe thead th {\n",
              "        text-align: right;\n",
              "    }\n",
              "</style>\n",
              "<table border=\"1\" class=\"dataframe\">\n",
              "  <thead>\n",
              "    <tr style=\"text-align: right;\">\n",
              "      <th></th>\n",
              "      <th>text</th>\n",
              "      <th>sentiment</th>\n",
              "      <th>confidence</th>\n",
              "      <th>Num_Count</th>\n",
              "      <th>Phrase_Length</th>\n",
              "      <th>Char_Num</th>\n",
              "      <th>Upper_Count</th>\n",
              "      <th>Lower_Count</th>\n",
              "    </tr>\n",
              "  </thead>\n",
              "  <tbody>\n",
              "    <tr>\n",
              "      <th>0</th>\n",
              "      <td>trying wait patient as i can lol</td>\n",
              "      <td>1</td>\n",
              "      <td>0.3</td>\n",
              "      <td>0</td>\n",
              "      <td>9</td>\n",
              "      <td>29</td>\n",
              "      <td>0</td>\n",
              "      <td>29</td>\n",
              "    </tr>\n",
              "    <tr>\n",
              "      <th>1</th>\n",
              "      <td>good morning fotopro team noticed in some comm...</td>\n",
              "      <td>1</td>\n",
              "      <td>0.6</td>\n",
              "      <td>1</td>\n",
              "      <td>33</td>\n",
              "      <td>141</td>\n",
              "      <td>7</td>\n",
              "      <td>134</td>\n",
              "    </tr>\n",
              "    <tr>\n",
              "      <th>2</th>\n",
              "      <td>these still on track ahead behind</td>\n",
              "      <td>1</td>\n",
              "      <td>0.2</td>\n",
              "      <td>0</td>\n",
              "      <td>6</td>\n",
              "      <td>28</td>\n",
              "      <td>0</td>\n",
              "      <td>28</td>\n",
              "    </tr>\n",
              "    <tr>\n",
              "      <th>3</th>\n",
              "      <td>any update on delivery</td>\n",
              "      <td>1</td>\n",
              "      <td>0.0</td>\n",
              "      <td>0</td>\n",
              "      <td>4</td>\n",
              "      <td>19</td>\n",
              "      <td>0</td>\n",
              "      <td>19</td>\n",
              "    </tr>\n",
              "    <tr>\n",
              "      <th>4</th>\n",
              "      <td>product so nice had get twice</td>\n",
              "      <td>1</td>\n",
              "      <td>0.5</td>\n",
              "      <td>0</td>\n",
              "      <td>8</td>\n",
              "      <td>28</td>\n",
              "      <td>0</td>\n",
              "      <td>28</td>\n",
              "    </tr>\n",
              "    <tr>\n",
              "      <th>...</th>\n",
              "      <td>...</td>\n",
              "      <td>...</td>\n",
              "      <td>...</td>\n",
              "      <td>...</td>\n",
              "      <td>...</td>\n",
              "      <td>...</td>\n",
              "      <td>...</td>\n",
              "      <td>...</td>\n",
              "    </tr>\n",
              "    <tr>\n",
              "      <th>204053</th>\n",
              "      <td>im curious if youve looked at working with par...</td>\n",
              "      <td>1</td>\n",
              "      <td>0.7</td>\n",
              "      <td>1</td>\n",
              "      <td>39</td>\n",
              "      <td>188</td>\n",
              "      <td>8</td>\n",
              "      <td>180</td>\n",
              "    </tr>\n",
              "    <tr>\n",
              "      <th>204054</th>\n",
              "      <td>looking forward another awesome campaign kevin...</td>\n",
              "      <td>1</td>\n",
              "      <td>1.7</td>\n",
              "      <td>0</td>\n",
              "      <td>15</td>\n",
              "      <td>70</td>\n",
              "      <td>5</td>\n",
              "      <td>65</td>\n",
              "    </tr>\n",
              "    <tr>\n",
              "      <th>204055</th>\n",
              "      <td>nice thanks all answers cheers</td>\n",
              "      <td>1</td>\n",
              "      <td>1.4</td>\n",
              "      <td>0</td>\n",
              "      <td>6</td>\n",
              "      <td>29</td>\n",
              "      <td>3</td>\n",
              "      <td>26</td>\n",
              "    </tr>\n",
              "    <tr>\n",
              "      <th>204056</th>\n",
              "      <td>wink was still amazing was less enthusiast abo...</td>\n",
              "      <td>1</td>\n",
              "      <td>1.7</td>\n",
              "      <td>0</td>\n",
              "      <td>42</td>\n",
              "      <td>177</td>\n",
              "      <td>9</td>\n",
              "      <td>168</td>\n",
              "    </tr>\n",
              "    <tr>\n",
              "      <th>204057</th>\n",
              "      <td>good luck bring us more projects</td>\n",
              "      <td>1</td>\n",
              "      <td>0.7</td>\n",
              "      <td>0</td>\n",
              "      <td>7</td>\n",
              "      <td>30</td>\n",
              "      <td>1</td>\n",
              "      <td>29</td>\n",
              "    </tr>\n",
              "  </tbody>\n",
              "</table>\n",
              "<p>204058 rows × 8 columns</p>\n",
              "</div>"
            ],
            "text/plain": [
              "                                                     text  ...  Lower_Count\n",
              "0                        trying wait patient as i can lol  ...           29\n",
              "1       good morning fotopro team noticed in some comm...  ...          134\n",
              "2                       these still on track ahead behind  ...           28\n",
              "3                                  any update on delivery  ...           19\n",
              "4                           product so nice had get twice  ...           28\n",
              "...                                                   ...  ...          ...\n",
              "204053  im curious if youve looked at working with par...  ...          180\n",
              "204054  looking forward another awesome campaign kevin...  ...           65\n",
              "204055                     nice thanks all answers cheers  ...           26\n",
              "204056  wink was still amazing was less enthusiast abo...  ...          168\n",
              "204057                   good luck bring us more projects  ...           29\n",
              "\n",
              "[204058 rows x 8 columns]"
            ]
          },
          "metadata": {
            "tags": []
          },
          "execution_count": 31
        }
      ]
    },
    {
      "cell_type": "code",
      "metadata": {
        "id": "F4ArrTOA0clc",
        "colab_type": "code",
        "outputId": "aba67c3c-7462-43c7-c55f-793a88934bec",
        "colab": {
          "base_uri": "https://localhost:8080/",
          "height": 206
        }
      },
      "source": [
        "confidence_avg = np.mean(data1['confidence'])\n",
        "confidence_avg\n",
        "\n",
        "data2 = data1[data1['confidence']>confidence_avg]\n",
        "data2.head()"
      ],
      "execution_count": 0,
      "outputs": [
        {
          "output_type": "execute_result",
          "data": {
            "text/html": [
              "<div>\n",
              "<style scoped>\n",
              "    .dataframe tbody tr th:only-of-type {\n",
              "        vertical-align: middle;\n",
              "    }\n",
              "\n",
              "    .dataframe tbody tr th {\n",
              "        vertical-align: top;\n",
              "    }\n",
              "\n",
              "    .dataframe thead th {\n",
              "        text-align: right;\n",
              "    }\n",
              "</style>\n",
              "<table border=\"1\" class=\"dataframe\">\n",
              "  <thead>\n",
              "    <tr style=\"text-align: right;\">\n",
              "      <th></th>\n",
              "      <th>text</th>\n",
              "      <th>sentiment</th>\n",
              "      <th>confidence</th>\n",
              "      <th>Num_Count</th>\n",
              "      <th>Phrase_Length</th>\n",
              "      <th>Char_Num</th>\n",
              "      <th>Upper_Count</th>\n",
              "      <th>Lower_Count</th>\n",
              "    </tr>\n",
              "  </thead>\n",
              "  <tbody>\n",
              "    <tr>\n",
              "      <th>7</th>\n",
              "      <td>looking forward many uses this product am an e...</td>\n",
              "      <td>1</td>\n",
              "      <td>1.1</td>\n",
              "      <td>0</td>\n",
              "      <td>33</td>\n",
              "      <td>136</td>\n",
              "      <td>1</td>\n",
              "      <td>135</td>\n",
              "    </tr>\n",
              "    <tr>\n",
              "      <th>8</th>\n",
              "      <td>hi looking forward getting this product what s...</td>\n",
              "      <td>1</td>\n",
              "      <td>1.2</td>\n",
              "      <td>0</td>\n",
              "      <td>78</td>\n",
              "      <td>315</td>\n",
              "      <td>10</td>\n",
              "      <td>305</td>\n",
              "    </tr>\n",
              "    <tr>\n",
              "      <th>19</th>\n",
              "      <td>imran thank so much we are all so excited</td>\n",
              "      <td>1</td>\n",
              "      <td>1.3</td>\n",
              "      <td>0</td>\n",
              "      <td>10</td>\n",
              "      <td>36</td>\n",
              "      <td>3</td>\n",
              "      <td>33</td>\n",
              "    </tr>\n",
              "    <tr>\n",
              "      <th>29</th>\n",
              "      <td>received stencils in france there were no addi...</td>\n",
              "      <td>1</td>\n",
              "      <td>2.0</td>\n",
              "      <td>0</td>\n",
              "      <td>25</td>\n",
              "      <td>117</td>\n",
              "      <td>4</td>\n",
              "      <td>113</td>\n",
              "    </tr>\n",
              "    <tr>\n",
              "      <th>31</th>\n",
              "      <td>hi its great just received mine im pretty exit...</td>\n",
              "      <td>1</td>\n",
              "      <td>2.0</td>\n",
              "      <td>0</td>\n",
              "      <td>39</td>\n",
              "      <td>154</td>\n",
              "      <td>8</td>\n",
              "      <td>146</td>\n",
              "    </tr>\n",
              "  </tbody>\n",
              "</table>\n",
              "</div>"
            ],
            "text/plain": [
              "                                                 text  ...  Lower_Count\n",
              "7   looking forward many uses this product am an e...  ...          135\n",
              "8   hi looking forward getting this product what s...  ...          305\n",
              "19          imran thank so much we are all so excited  ...           33\n",
              "29  received stencils in france there were no addi...  ...          113\n",
              "31  hi its great just received mine im pretty exit...  ...          146\n",
              "\n",
              "[5 rows x 8 columns]"
            ]
          },
          "metadata": {
            "tags": []
          },
          "execution_count": 26
        }
      ]
    },
    {
      "cell_type": "markdown",
      "metadata": {
        "id": "i4_Us_U0ysXS",
        "colab_type": "text"
      },
      "source": [
        "**Embedding**"
      ]
    },
    {
      "cell_type": "markdown",
      "metadata": {
        "id": "rThKx-QIxSGU",
        "colab_type": "text"
      },
      "source": [
        "FastText"
      ]
    },
    {
      "cell_type": "code",
      "metadata": {
        "id": "42_EJ18O631d",
        "colab_type": "code",
        "colab": {}
      },
      "source": [
        "import codecs\n",
        "\n",
        "tokenizer = Tokenizer() \n",
        "tokenizer.fit_on_texts(data2.iloc[:,0])\n",
        "\n",
        "Vals = list(tokenizer.word_index.keys())\n",
        "\n",
        "file = codecs.open('data2.csv', \"w\", \"utf-8\")\n",
        "\n",
        "for item in Vals:\n",
        "    file.write(\"%s\\r\\n\" % item)\n",
        "    \n",
        "file.close()\n"
      ],
      "execution_count": 0,
      "outputs": []
    },
    {
      "cell_type": "code",
      "metadata": {
        "id": "q2mgYChhfQL5",
        "colab_type": "code",
        "outputId": "8b56d72b-fffb-4cf0-f226-386180614d9f",
        "colab": {
          "base_uri": "https://localhost:8080/",
          "height": 72
        }
      },
      "source": [
        "!./fastText-0.9.1/fasttext print-sentence-vectors fastText-0.9.1/cc.en.300.bin < data2.csv > Embeddingdata2.tsv"
      ],
      "execution_count": 0,
      "outputs": [
        {
          "output_type": "stream",
          "text": [
            "tcmalloc: large alloc 4800004096 bytes == 0x562aba04a000 @  0x7fc7f15c0887 0x562aa57b585f 0x562aa57c0ae4 0x562aa57c15d1 0x562aa57cd113 0x562aa5796ef8 0x7fc7f065db97 0x562aa5796f8a\n",
            "tcmalloc: large alloc 2400002048 bytes == 0x562bd81ee000 @  0x7fc7f15c0887 0x562aa57b585f 0x562aa57c0b28 0x562aa57c15d1 0x562aa57cd113 0x562aa5796ef8 0x7fc7f065db97 0x562aa5796f8a\n"
          ],
          "name": "stdout"
        }
      ]
    },
    {
      "cell_type": "code",
      "metadata": {
        "id": "NYY_RwQhFFp8",
        "colab_type": "code",
        "outputId": "46a8ac8f-9408-4d5a-d2fc-dc14b221cefc",
        "colab": {
          "base_uri": "https://localhost:8080/",
          "height": 211
        }
      },
      "source": [
        "! head Embeddingdata2.tsv"
      ],
      "execution_count": 0,
      "outputs": [
        {
          "output_type": "stream",
          "text": [
            "-0.004642 -0.083334 0.023629 -0.0081147 -0.021058 -0.012022 0.053491 0.0088438 -0.015699 0.0063386 0.003375 0.0080384 0.022835 -0.004325 0.0033066 0.012692 0.0016189 -0.021336 0.0020341 -0.087373 -0.014415 0.015928 0.031882 0.01003 -0.013861 -0.023968 -0.010219 0.011827 0.0060535 0.034185 0.037853 -0.022722 -0.0017498 -0.093172 -0.075882 -0.030392 0.0010724 0.25866 0.032114 -0.011374 -0.026876 0.034429 -0.0031979 -0.013366 -0.048258 -0.028378 -0.018881 0.055234 -0.010601 -0.0067363 -0.010446 0.020596 -0.054133 -0.012393 -0.016917 -0.091089 -0.068308 -0.066598 0.029001 -0.011575 -0.012718 -0.00012912 0.015652 -0.04296 0.001718 -0.015983 0.027766 -0.04565 -0.02121 0.0046424 -0.034501 -0.015068 0.028977 -0.0075556 -0.01386 -0.03578 0.025365 -0.001923 0.022577 -0.12622 -0.016148 -0.0045215 0.0013893 0.0090513 0.00058227 -0.025249 0.0062074 -0.0041683 -0.0087896 -0.00073717 -0.013128 -0.010763 0.033185 0.00026065 -0.12259 0.0047229 -0.16711 -0.018613 -0.010696 -0.0049714 0.022441 -0.0024658 -0.01704 -0.063422 0.0076292 0.0013604 -0.010004 0.0018826 0.024179 0.023858 0.0095349 -0.058355 0.0033834 0.17511 0.0043067 0.010978 -0.014705 0.016427 0.0072786 -0.026239 -0.01814 -0.0018037 0.0050159 -0.0064485 -0.060502 -0.028461 0.010803 -0.042157 -0.0058141 0.072472 -0.0050068 0.0067264 0.022495 -0.00010817 -0.10004 -0.019146 -0.035023 0.049813 0.00029956 0.072432 -0.026505 -0.00085354 -0.010069 -0.011111 0.081053 0.013697 -0.2714 0.0039618 -0.015622 0.017797 -0.1429 0.002039 0.079026 -0.0017404 0.0015332 0.00043251 0.17521 -0.081993 0.01868 0.020417 0.017618 -0.014525 -0.067709 0.0025434 0.010786 -0.010641 -0.0028229 -0.058573 -0.0034925 -0.041394 -0.0043289 0.0088174 0.016302 -0.026132 0.026635 0.014674 -0.0070017 0.11253 0.0017758 -0.028481 0.035161 0.043507 -0.016345 0.095137 -0.018014 0.076895 -0.025459 -0.029947 0.037165 0.033324 -0.036169 0.011259 -0.042125 0.0017757 0.0071502 -0.0027534 -0.020526 0.025357 -0.042226 -0.023806 0.0027406 0.2201 -0.0055476 0.015368 0.0020897 -0.002462 -0.0088384 -0.0026383 0.015936 -0.087757 0.05723 0.035018 0.0079871 0.035969 -0.02257 -0.0037654 0.040565 -0.023316 -0.038478 0.060298 -0.008625 0.035541 0.027084 -0.023667 -0.074065 0.022587 0.019347 0.012515 0.082973 -0.021683 0.012118 0.004754 -0.039883 0.017792 0.010895 0.050549 0.002339 -0.039531 0.0022015 -0.014929 -0.0088301 0.22685 0.013018 -0.020141 0.45296 -0.013587 0.00066438 0.035167 0.039083 -0.13369 0.014615 0.03428 0.024015 -0.027176 0.0056762 -0.026264 -0.026458 -0.009339 -0.033494 0.050249 0.012013 -0.060192 -0.043855 -0.037103 -0.0067188 -0.017627 -0.019906 0.02614 0.10352 0.10058 -0.031418 -0.039564 0.056768 0.086873 -0.044542 -0.10561 0.065429 -0.15438 0.040658 -0.17038 0.015563 -0.070061 -0.057571 -0.039804 0.00079867 -0.014347 -0.011357 -0.0046626 -0.017151 0.029062 0.034751 0.026898 -0.010675 0.032168 -0.0034654 0.003083 -0.0064799 0.045288 0.0014906 0.01088 \n",
            "-0.035324 0.036819 0.044501 0.10225 -0.10234 -0.039556 -0.0010241 -0.045159 -0.04212 -0.026889 -0.014005 0.0050125 0.016242 -0.0090026 -0.033018 -0.021603 0.014128 0.051987 -0.028838 0.116 0.044055 -0.0072457 -0.009969 0.020125 -0.10343 -0.022551 0.022268 -0.0054127 -0.019477 -0.026316 -0.0073256 -0.011943 0.0031161 -0.11151 0.016422 0.0075351 0.028466 -0.027187 0.010568 -0.009197 0.015711 0.0086635 -0.0035875 0.06083 0.08685 0.045138 0.0014927 0.058659 -0.0039749 0.012492 0.014364 -0.012559 -0.054978 -0.0184 -0.0043481 -0.0094465 -0.01464 -0.065716 -0.053864 -0.0097456 -0.054083 -0.04074 -0.029828 0.03105 -0.022813 0.007441 -0.045276 -0.0077026 -0.021871 -0.021099 -0.10593 -0.064104 0.041583 -0.039057 -0.032503 -0.04435 0.01936 0.019834 0.090434 -0.0079844 -0.031462 -0.0060813 -0.079119 0.038714 -0.10368 5.0769e-05 0.018309 -0.10659 0.071963 0.01083 -0.0051717 -0.0097051 0.052846 -0.020978 0.17088 -0.0014402 -0.013824 -0.015274 -0.027994 -0.00060721 0.027649 0.013185 0.02182 -0.12646 0.018897 0.0040205 -0.0051397 -0.036053 -0.044332 0.011917 0.021565 -0.023206 -0.016955 0.074584 -0.0013053 -0.061557 -0.056741 -0.0089993 0.021446 -0.028105 0.022522 0.031128 0.031326 0.0041926 0.041936 0.076266 -0.0032395 -0.052214 0.0031022 0.057256 -0.028515 -0.012571 0.012997 -0.032345 0.036623 0.0086366 -0.1011 -0.049677 0.015847 -0.0045245 -0.035086 0.0038808 0.029432 0.014145 -0.10485 -0.0027314 -0.27392 0.03135 -0.023059 -0.0072869 0.0062171 0.011469 0.020585 0.014131 0.0054726 0.022376 0.13263 -0.029254 0.018703 0.0507 -0.0025141 -0.00021838 0.089654 -0.032825 0.0082004 -0.043702 0.0069722 -0.028005 0.073722 0.025122 -0.0098245 -0.027047 0.065158 -0.029428 0.016023 0.018564 -0.0017295 -0.0453 -0.0018307 -0.0031369 -0.022514 0.096844 -0.050293 0.020012 0.012507 0.04245 -0.010138 -0.025034 -0.037821 -0.011205 -0.017931 0.046747 -0.038975 0.039445 0.026455 0.012813 -0.0063446 -0.0040015 0.0087445 0.056518 -0.062763 0.0093892 0.022341 -0.028684 -0.036711 0.015071 -0.14191 0.0065656 -0.04324 0.033387 0.045266 0.033305 -0.10977 -0.028677 0.01938 -0.046248 0.11995 0.022183 0.0094941 0.049575 0.069356 -0.017253 -0.019307 0.11473 0.011975 -0.052205 0.015271 0.04606 0.084617 -0.050156 -0.017713 -0.050005 0.074332 0.0062721 0.025517 -0.27053 0.0076178 0.053526 -0.029355 0.027286 0.0099893 0.060307 -0.055298 -0.17408 0.34325 0.0096781 0.010448 -0.031536 0.0198 0.034067 0.020293 -0.012967 -0.029179 0.0089903 0.0091248 0.051789 -0.067939 -0.043091 -0.017711 0.010766 -0.029545 -0.027942 -0.0018103 0.012851 -0.11935 -0.012127 -0.0018053 0.0096483 0.050897 -0.11352 0.0058055 -0.030047 -0.031991 -0.065641 0.060043 -0.0042116 -0.12882 0.005639 -0.089158 -0.0030579 -0.050518 -0.017923 -0.22339 -0.036676 0.016329 -0.043196 0.011481 -0.045469 -0.046277 -0.013552 0.034787 -0.022374 -0.10231 0.023897 0.00088244 0.0086674 -0.0038793 0.21608 0.026943 0.043907 \n",
            "0.051831 -0.0082765 -0.063624 0.011771 0.011986 -0.010644 0.018433 0.018789 -0.03641 -0.003334 0.032369 -0.057444 -0.0083108 -0.039912 -0.028866 0.10252 -0.028312 0.015421 -0.030213 -0.053344 0.019847 0.015994 0.01135 -0.031546 0.082863 -0.041706 -0.046461 -0.0014064 -0.022555 0.15418 -0.012666 -0.042745 -0.031784 -0.013719 0.043648 -0.076699 -0.023332 -0.017283 -0.014847 -0.015437 -0.0066853 0.025483 -0.025772 0.17133 -0.061474 -0.00029865 0.0091759 0.016033 -0.058256 -0.033013 0.021924 0.0085556 -0.03276 0.0049223 -0.053937 -0.077734 -0.070964 0.080274 -0.066385 0.03956 -0.025664 -0.0017839 0.014268 -0.035536 -0.028861 0.038719 -0.02908 -0.013596 0.018565 -0.042062 0.040178 -0.0031427 -0.013035 -0.049878 0.036989 -0.045577 -0.028603 -0.027863 0.074212 0.14354 -0.023706 -0.056596 -0.010631 0.030941 0.033203 -0.009654 0.0061456 0.067985 -0.033578 -0.053759 -0.054004 -0.02545 0.27677 -0.029978 -0.023868 -0.034945 0.11581 0.058273 0.012501 -0.0039922 0.043515 0.028662 -0.0077017 0.064703 0.047514 0.021146 0.0027188 0.024869 0.05224 0.011615 0.02112 -0.098227 0.017314 0.075625 -0.032551 -0.012924 -0.038213 0.054983 0.023238 0.020686 0.028768 0.025345 0.028005 -0.0032541 0.006115 0.12388 0.0015985 0.0091774 0.004329 0.071908 -0.0087791 0.0019335 0.025725 0.044615 -0.01998 -0.081657 0.0377 -0.0083164 -0.026919 0.018999 -0.028733 -0.012649 -0.019522 0.02192 0.081949 -0.01471 -0.17175 -0.033235 -0.0090343 0.055506 -0.1766 -0.0099262 0.066383 0.039602 -0.0062272 0.021179 0.10155 -0.019322 0.019095 0.043914 0.018437 0.041274 0.053148 -0.0044262 0.032578 -0.029387 0.011733 -0.028184 0.03076 -0.022345 0.024819 -0.017656 -0.031788 0.0081164 0.044427 -0.038095 0.054457 -0.0059633 0.052489 0.022214 0.062524 0.017092 0.014309 0.048347 0.024785 0.14336 -0.051432 -0.012228 0.019042 0.031307 0.0022238 0.028167 -0.0017271 -0.097506 -0.011827 -0.10014 -0.059099 -0.0064335 0.040961 0.053781 -0.03197 0.26101 0.016619 -0.024318 -0.046564 0.044168 -0.025721 -0.040944 0.03805 0.086465 -0.014934 -0.01145 0.0060862 0.028801 -0.021128 0.011734 0.018228 0.013446 0.046864 -0.043174 0.03589 -0.016773 -0.040282 -0.18951 -0.034913 -0.019729 -0.026021 -0.036842 -0.029748 -0.015 0.032989 0.041202 -0.11387 -0.057077 0.0019925 -0.024443 -0.0028671 0.0077293 0.080264 -0.054659 0.00048411 0.034076 -0.039318 -0.028927 0.3058 -0.012254 -0.011765 -0.010095 -0.016806 -0.062386 0.025002 0.047364 -0.032493 -0.038801 0.026153 -0.014734 0.064039 0.020674 -0.044473 0.076969 0.006254 -0.087479 0.020171 -1.4256e-06 0.093167 -0.03111 -0.070706 -0.014756 -0.0087232 -0.072056 -0.048199 0.0026606 0.02119 -0.045485 -0.0075639 -0.087872 0.045948 -0.044376 -0.0094167 -0.084187 0.038946 -0.059073 -0.14421 0.011163 0.027712 0.017487 0.050801 -0.17047 0.020039 -0.01578 0.02703 -0.014372 -0.10714 0.02996 -0.011949 0.00023695 0.018871 0.18251 -0.069199 0.010729 \n",
            "-0.024316 0.10093 0.063159 0.16436 -0.0098596 -0.016402 -0.045917 -0.038624 0.0078168 0.015913 -0.041978 0.00072367 -0.030461 -0.0032812 -0.047413 0.039005 0.010226 -0.019428 -0.0044954 0.011859 0.028065 0.01735 -0.01724 -0.04075 -0.0095944 -0.024026 0.019966 0.033824 -0.042875 0.0099262 -0.022239 0.011155 -0.0066098 -0.2408 -0.014698 0.018685 0.015654 0.027766 -0.014526 -0.02169 -0.010941 0.046887 0.0049483 0.0027765 0.030689 0.11873 -0.010676 0.15817 0.011467 0.0296 0.017403 -0.018808 -0.040814 -0.013879 0.028875 0.0042163 0.012122 -0.026735 -0.089226 -0.0067556 -0.01004 -0.0065134 -0.053296 0.028406 0.042341 0.050176 -0.0040829 -0.040696 0.046998 0.0004477 -0.021619 0.0030052 0.039673 -0.058371 -0.0017997 -0.00039234 0.063407 0.039573 0.088685 -0.024078 -0.052918 -0.033068 -0.0090028 0.069987 -0.0037509 -0.033515 0.046126 -0.057919 0.056173 0.25576 0.033019 0.0093637 0.073929 -0.010834 0.0070703 0.032445 -0.1069 -0.023142 -0.0083157 0.0069735 0.039402 -0.014236 0.00068778 -0.033208 -0.0037186 -0.0033701 0.055767 -0.015277 0.0015595 0.0011159 0.073213 0.029209 -0.017845 0.020714 -0.025264 -0.04933 -0.005041 0.0045859 0.0066419 0.018602 -0.055681 0.0037495 -0.002374 -0.015622 -0.0079604 0.081635 -0.012677 -0.10357 -0.02186 0.039522 -0.0062953 0.0098028 0.026124 0.14662 0.023923 -0.025794 0.00031862 -0.052266 0.0051891 -0.010374 -0.035349 0.043242 -0.015423 0.0067421 -0.10409 0.040985 -0.28606 -0.0059206 -0.00088057 -0.013947 -0.073424 0.0081679 0.047239 0.088604 -0.038708 0.034067 0.19337 0.0092482 -0.011249 0.015104 0.020004 0.043025 0.012414 -0.014821 -0.033699 0.012797 -0.0021995 0.032865 0.040453 -0.036512 0.016736 0.002885 0.019729 -0.033361 -0.01159 -0.0057356 -0.058362 0.0062706 -0.013322 0.0041882 0.0072939 0.077113 -0.0035811 0.057839 0.056024 -0.020025 0.08744 -0.051887 0.015204 0.029261 -0.029979 0.020811 -0.0088965 -0.04127 -0.012844 0.012806 -0.070426 0.069846 0.038517 0.083288 -0.13088 0.12472 0.040057 -0.015217 -0.051154 -0.017731 0.027574 -0.038552 0.011118 0.022292 -0.064566 0.054828 0.038189 -0.0031992 0.010227 -0.012774 0.01078 -0.035326 0.032666 -0.0033844 0.068383 0.023112 0.0032812 0.049398 -0.014668 -0.090787 0.00085558 0.014483 0.14862 -0.0092635 0.013349 -0.00078617 -0.050109 -0.00896 0.011971 -0.041479 0.0017336 0.022979 -0.059901 -0.0069391 -0.039977 0.072387 -0.10718 -0.088925 0.22443 -0.017161 0.019552 0.042696 -0.024647 -0.054272 0.040426 -0.00045724 0.00092732 -0.0087598 0.026281 0.075251 -0.018126 -0.048909 0.0044435 -0.00023964 -0.043933 -0.030878 0.044237 0.086187 -0.057242 -0.021891 0.0099703 0.016443 0.032068 -0.056676 0.042816 -0.049059 0.067174 -0.064978 -0.0076353 0.051348 -0.17981 -0.089315 -0.015666 -0.11943 -0.0053712 -0.0885 -0.13857 0.020192 0.010481 -0.032713 0.019485 -0.093972 -0.023863 -0.020584 0.097033 0.021279 -0.12351 0.0036432 0.030531 0.034935 -0.011335 0.23643 -0.032778 0.030381 \n",
            "-0.004955 0.031584 0.014314 0.13914 -0.13055 -0.045248 0.028588 -0.0203 -0.012828 -0.054478 -0.0055729 0.020397 -0.054217 -0.003356 0.018501 0.0049104 0.040757 -0.012242 -0.054108 0.021051 0.036678 0.014022 0.0038597 -0.064751 -0.053208 -0.062652 -0.010987 0.018452 0.015949 0.013004 0.028509 -0.02719 -0.032398 0.047762 -0.057441 -0.046621 -0.070701 -0.019178 -0.041371 -0.026952 0.016084 0.011012 -0.029226 0.051147 0.077764 0.095107 0.019351 0.002052 0.0031627 -0.0019049 0.00148 -0.018647 0.026583 -0.008306 0.0010329 0.026028 0.0099383 -0.01476 -0.12852 -0.0048111 -0.048449 -0.021697 -0.0037605 -0.033484 -0.010424 -0.029176 -0.049563 -0.014019 0.027601 -0.016138 -0.14522 -0.011206 0.020986 0.014173 0.032044 -0.011613 -0.0055603 0.048497 -0.070405 0.14215 -0.050498 -0.011717 -0.029342 0.032713 0.10551 0.00089712 -0.010154 -0.017253 0.030004 0.04412 0.0085472 0.00051443 0.10092 -0.0091305 0.078234 0.04909 0.12164 0.031249 -0.016328 -0.00034714 0.046959 0.037303 0.01795 -0.13185 0.013556 -0.037993 -0.0025413 -0.011822 -0.0060636 0.015917 0.044242 -0.049188 -0.029424 -0.0427 -0.026892 -0.062453 -0.05397 -0.0010642 0.028496 -0.0058256 0.0098826 0.010329 0.040362 0.024656 0.039429 0.064198 0.0035479 -0.045725 -0.016786 -0.0066803 -0.013634 -0.012368 -0.072351 0.15749 0.046626 -0.030635 -0.13132 0.054506 -0.0077638 0.010843 -0.020423 5.3403e-05 0.063642 0.006738 0.097657 0.058965 -0.24459 0.005407 -0.02266 0.019873 -0.10992 0.0086807 0.055932 0.017361 0.0072775 0.013699 0.048773 -0.01467 0.02069 0.0071945 0.014016 -0.0096115 0.00047435 -0.051002 -0.0030955 -0.0044303 -0.027898 0.043119 0.004801 -0.016742 -0.0041913 -0.0098655 0.044001 -0.035633 0.00099297 0.014583 -0.036874 -0.040924 0.030343 -0.020648 0.019269 0.025529 0.078707 -0.086149 0.067086 0.012091 0.076869 -0.074484 -0.052465 0.0053819 -0.024195 -0.0077748 0.0021313 -0.0095398 0.027155 0.010888 -0.054337 0.099712 -0.017309 0.11456 -0.090461 0.056318 0.01678 -0.017288 -0.030628 0.0080516 -0.010441 -0.028358 -0.021004 0.04777 -0.018208 0.020962 -0.012811 -0.032567 0.050047 -0.0083838 0.010119 -0.023448 0.00061983 0.022592 0.08852 -0.00075467 0.028828 0.083001 -0.017244 0.012944 -0.0041305 -0.012126 0.12328 -0.012589 0.0069226 -0.053715 -0.025136 0.015958 0.031327 -0.099468 -0.025596 -0.033129 0.011036 0.02173 -0.033364 -0.077136 -0.074573 -0.1147 0.28315 0.0091929 0.025797 -0.011246 -0.016829 0.1304 -0.017039 0.18771 -0.019143 -0.050434 0.00091119 0.029384 -0.07508 -0.053523 0.062281 0.030181 -0.013656 0.18027 0.0086902 0.031587 -0.083584 0.026869 -0.01612 0.0070252 0.016843 0.0071541 -0.018975 -0.037776 -0.12935 0.11545 0.0015688 0.022331 0.15731 0.18764 0.035922 0.14962 -0.10871 -0.016544 -0.1801 0.022396 0.023182 -0.014658 0.016149 -0.13234 -0.027277 -0.045909 -0.016469 0.011825 -0.063886 -0.091359 0.0028451 0.022979 -0.022206 0.05092 -0.0067904 0.01207 \n",
            "-0.016891 0.16321 0.039007 0.054239 -0.012139 -0.0018551 0.081935 -0.0058932 0.0054378 -0.0047688 -0.0024187 0.010717 -0.0045534 -0.0014647 -0.012406 0.011986 0.011935 -0.0079373 -0.033177 -0.082854 0.045711 0.039236 0.030441 -0.034378 0.18268 -0.018292 -0.030894 0.016715 0.0043685 0.049918 -0.00082088 -0.026156 -0.015617 -0.1388 0.014803 0.0080795 -0.054756 0.12199 -0.037134 0.0029145 0.002123 0.022859 0.022649 0.020968 0.037683 -0.020846 -0.029999 0.098562 -0.010338 0.015869 -0.017082 0.010364 -0.014136 -0.021277 0.012032 -0.0031841 -0.05815 -0.025222 -0.032911 -0.0038196 0.013351 -0.0028644 -0.038266 -0.076572 -0.020361 -0.0099941 -0.019406 -0.034748 0.032991 0.012582 0.038016 0.047665 0.02447 -0.03802 0.010892 -0.018118 0.044761 0.028564 0.034127 -0.027596 -0.00026655 -0.042186 -0.0088073 0.013559 -0.013644 0.0035897 0.015369 0.12722 0.014014 -0.044111 -0.054345 -0.011536 0.042792 -0.024581 -0.062765 -0.019617 0.011849 0.003968 0.012795 -0.020233 0.027507 0.016502 0.023816 0.10024 -0.013619 0.049442 0.0066541 0.0137 0.013674 -0.0052885 -0.094468 0.016144 0.01327 0.12804 -0.010388 0.0044762 -0.011596 -0.019532 -0.019357 0.021403 0.11138 -0.010324 0.044558 0.0081378 0.022144 -0.0045937 0.028048 0.14626 -0.0072185 0.035995 -0.025861 -0.033846 0.022099 -0.0087795 -0.052345 0.0058477 -0.074696 -0.01552 0.0078111 0.032883 -0.057867 -0.015612 -0.022025 0.0059014 0.09319 -0.12697 -0.26972 0.036274 -0.014158 -0.002511 -0.13744 0.022811 0.085412 0.026544 -0.0057397 -0.017431 0.15987 0.14918 0.024623 0.028758 0.045011 0.024506 -0.057885 -0.0042142 0.016567 0.00069296 0.05448 0.0072145 0.011577 -0.00569 0.021934 -0.00054216 -0.0076785 -0.022782 -0.0047479 -0.032634 -0.016333 -0.11977 0.014864 -0.013605 0.03645 0.034728 0.09852 0.073073 -0.010178 0.048152 -0.10614 -0.017037 -0.041126 0.046902 -0.020046 -0.012368 0.022036 -0.024348 0.0096395 -0.015656 -0.025816 -0.066584 0.051762 -0.07547 -0.0012179 0.24811 0.022628 -0.04625 0.020846 -0.035427 -0.072416 0.056004 0.039446 0.010456 -0.08705 0.016956 0.048156 0.049989 0.043079 0.0019612 -0.018287 0.048627 0.02224 -0.063917 -0.00062211 0.0044333 0.016167 0.011932 0.04991 0.049423 -0.028969 -0.012874 -0.0061639 -0.017864 0.012683 0.023937 0.007803 0.023709 -0.00069847 0.010581 0.010418 0.087131 -0.05013 -0.0009764 -0.044795 0.17584 0.042724 -0.0049894 0.38757 -0.050105 0.052992 0.073081 -0.046462 -0.086975 -0.015275 0.16321 0.025231 -0.0082147 0.0011966 0.014298 -0.035194 0.031836 -0.062019 -0.014721 -0.0012467 -0.019169 -0.026027 -0.020386 0.055106 -0.0338 0.017906 0.036221 -0.080721 0.092944 0.014107 -0.02517 -0.019112 -0.001096 0.015102 -0.10235 0.12123 -0.067973 0.023157 -0.12488 0.05387 -0.024075 -0.069967 0.0069415 0.0050425 -0.00986 0.0086828 -0.031002 -0.021863 0.040321 -0.030491 0.0008338 -0.053934 -0.052158 -0.023924 0.016683 0.025066 -0.0099373 -0.018846 -0.01799 \n",
            "-0.063201 -0.007899 0.0091272 -0.018714 -0.094402 0.030548 -0.042309 -0.039876 0.010108 0.025486 0.0036179 -0.014371 -0.032499 0.0055862 0.030293 0.077825 0.0019339 -0.046809 -0.056915 0.077016 0.0016236 0.056663 -0.030598 -0.08169 -0.03594 -0.1101 0.047584 0.033775 -0.033953 0.12434 -0.01689 -0.051105 -0.055363 0.0071016 0.014024 0.039556 0.029683 -0.013118 -0.04073 -0.033521 0.078129 -0.018461 -0.018274 0.12486 0.078072 0.057201 0.060169 0.10656 0.021862 0.040473 -0.0037789 -0.044605 0.013341 -0.060226 -0.056247 -0.040959 -0.030955 0.03997 -0.069045 0.028844 -0.0073655 -0.0054979 -0.0095253 -0.090632 0.0037781 0.013539 0.029322 -0.022772 -0.014016 -0.0049031 -0.029521 -0.015665 0.044941 0.0097227 0.077032 -0.027626 -0.05238 0.0089792 -0.066752 0.0056361 0.029265 -0.0016044 0.006535 0.030934 0.03549 -0.053903 -0.030311 -0.024908 -0.00046206 0.0017756 0.0088767 -0.049989 0.25816 0.034395 0.084597 -0.076505 -0.013662 -0.066043 0.011978 -0.040448 -0.017479 -0.025158 -0.0050011 -0.16534 -0.014305 0.0062029 0.028346 -0.10542 -0.0324 0.041889 -0.010359 -0.05354 0.019435 0.071853 0.0044755 0.049094 -0.011132 -0.015223 -0.057694 0.028467 -0.0048367 -0.0245 -0.02707 -0.012028 0.052655 -0.060902 0.070506 -0.061347 -0.014672 0.041549 -0.070414 -0.073967 0.023012 -0.041924 0.066369 -0.054013 -0.12612 0.0062096 -0.013983 0.014715 -0.06366 0.0040758 0.001884 -0.0072678 0.078088 0.064909 -0.24157 0.027875 -0.00088623 -0.043217 0.05027 0.024369 0.063131 0.0027459 0.031558 -0.048622 0.073356 0.038503 -0.088688 0.11153 -0.018294 -0.01166 0.022562 -0.031966 0.0082272 -0.034248 0.010595 -0.025697 0.0050583 0.0084404 -0.020697 -0.02717 0.10489 -0.0065482 -0.031634 0.010926 0.0051563 -0.038951 0.019044 -0.039397 -0.010435 0.15408 0.026002 0.099163 0.10535 0.029777 0.041449 -0.089031 -0.05254 0.022247 0.0060497 -0.026654 -0.042432 0.068299 -0.047864 -0.021021 -0.02595 0.010836 0.018978 -0.0046385 0.026145 0.0049859 -0.012793 -0.056803 0.067674 -0.037911 0.039512 -0.0065772 -0.017529 -0.021739 0.043661 0.00093347 -0.099939 0.02909 0.01886 0.0061833 -0.0098552 0.024456 0.040957 0.013599 -0.034732 0.021038 0.0074031 0.05402 -0.083386 -0.065915 -0.018886 0.011874 -0.027415 -0.029934 0.01403 -0.041411 -0.024342 0.012938 0.0028336 -0.094825 -0.022881 -0.029316 0.020438 -0.038293 0.028482 -0.021519 0.01115 -0.04496 0.28 -0.011227 0.019666 0.032853 0.032215 0.060887 0.045484 0.020073 -0.017139 -0.059559 9.627e-05 0.049847 0.027943 -0.016856 0.026296 0.077487 0.0092065 0.095545 -0.020877 -0.020044 -0.036943 0.053478 0.013185 0.025557 -0.055589 -0.098032 0.045387 -0.028594 -0.0070174 0.00064659 0.066532 0.00064421 -0.044327 0.036321 0.051477 0.0040328 -0.042994 0.017137 -0.28561 0.081137 0.026734 -0.096268 0.00019148 -0.0065378 0.018684 0.023898 0.041799 -0.0029407 -0.12942 -0.065736 -0.010751 0.06259 0.018591 0.23087 -0.037374 0.07337 \n",
            "0.014396 -0.11151 -0.024017 0.00024737 -0.055644 -0.00080643 0.073412 -0.0096031 -0.061141 -0.0065576 -0.013473 0.0041886 -0.10278 0.028809 -0.03087 -0.078218 0.0068773 -0.0030607 0.0013606 -0.049486 -0.06289 -0.0016078 -0.0038066 0.075363 0.073762 -0.042709 0.012336 0.0097611 0.050926 -0.047347 0.034726 0.011197 0.062153 0.043484 0.023341 0.028013 0.050988 0.015186 0.00029456 0.012532 0.026171 0.0021194 -0.095099 0.041019 -0.014589 -0.0081537 0.0009765 0.046193 -0.01194 0.035386 0.066526 0.030762 -0.077513 0.0072738 0.011841 -0.078361 0.11203 0.039286 -0.11744 -0.048302 0.047228 -0.010519 -0.0048837 0.0083914 -0.021685 -0.077672 -0.033331 -0.0020641 -0.0013566 -0.0072524 -0.071325 -0.035287 0.017393 -0.083518 -0.029869 -0.0068373 0.023648 0.050754 0.10825 -0.012286 -0.023427 0.011274 0.022354 0.019256 0.09381 0.011899 0.026297 0.074391 0.0068742 0.012161 0.011924 0.020462 -0.01511 0.0085294 -0.00064195 0.10138 0.048332 -0.0065434 0.0061041 0.007974 0.02869 0.012932 -0.039512 -0.017543 -0.0042413 -0.050214 -0.0052086 0.031289 -0.00065421 0.020278 0.048293 -0.11038 -0.034366 0.057716 0.035704 -0.043624 -0.0032279 -0.010165 0.026335 -0.039858 0.055595 0.030577 -0.095863 0.010676 0.0059273 0.048152 -0.0032614 -0.040644 -0.018225 -0.029674 -0.01147 -0.00027208 -0.068387 0.063901 0.031307 -0.019123 -0.070763 -0.069932 0.014785 -0.10074 -0.01168 0.027755 0.01777 -0.007226 0.098537 0.039063 -0.25615 0.036313 0.043467 -0.019828 -0.072223 0.0056101 0.017272 0.0074101 0.016265 0.036539 0.17158 -0.0023523 -0.047145 -0.01141 0.021328 -0.0059969 0.039345 0.0022625 0.0022797 -0.041151 0.035189 0.0075007 0.081849 -0.055552 0.045539 -0.016287 0.016322 -0.0023598 -0.094844 0.040271 -0.022607 0.11917 0.027349 -0.090609 0.00028252 -0.050168 -0.060888 -0.012679 0.0086431 -0.032348 -0.074846 -0.031222 -0.0064405 -0.088546 -0.018776 -0.023238 0.014664 0.013849 -0.0065474 0.011023 -0.01862 0.060748 0.0088807 -0.0021481 -0.04397 0.13248 0.048135 -0.023729 -0.032387 -0.004635 0.034588 -0.0035709 -0.0070666 0.071446 -0.13193 0.021161 0.081175 0.014553 -0.028203 0.023642 0.035806 0.00027479 -0.025961 -0.01592 0.12248 0.018965 -0.0017049 0.12122 0.033374 -0.042374 0.01858 0.0092996 -0.046938 -0.011187 -0.012919 0.0028137 0.10544 0.0099614 0.0019824 0.067427 -0.0014461 0.018368 -0.0026066 -0.0047716 0.0094661 0.064018 0.084388 -0.12543 0.37738 0.028323 0.064428 -0.00088399 0.011255 -0.099988 0.020472 0.049825 0.023397 -0.026685 -0.0051186 0.0096296 -0.057453 0.001246 0.038373 0.025842 0.024516 0.003089 -0.012723 -0.023831 0.11085 0.10249 -0.0026947 0.079386 -0.113 -0.081918 -0.020518 0.0098559 -0.096299 -0.15235 0.012611 -0.077094 0.17028 -0.14965 -0.19829 -0.020725 0.048595 -0.0048871 -0.069633 -0.010467 0.0054524 0.026342 0.0067526 -0.073902 -0.010089 -0.020985 0.057222 0.021781 0.023717 -0.01657 -0.010329 0.0071195 -0.030791 -0.025589 -0.02995 0.013858 \n",
            "-0.027771 -0.023614 -0.013759 0.042368 -0.064415 -0.023493 -0.075766 -0.0026479 0.027075 -0.00025448 -0.0037985 -0.024473 -0.015444 -0.0018128 -0.053533 0.066242 0.012343 0.013153 -0.0081096 0.15907 -0.020318 0.016711 0.011223 -0.00089262 0.033952 -0.052532 0.01979 0.011465 -0.03011 0.099598 -0.0016973 -0.024534 0.017905 0.085731 0.0077344 0.0086958 -0.028834 -0.044754 -0.035331 0.0018382 -0.040201 0.01828 -0.072511 0.015248 0.056234 -0.037694 -0.016497 0.079319 0.031436 -0.0267 -0.014982 -0.0019699 -0.023957 -0.044463 -0.0035988 0.039877 -0.010976 -0.093428 -0.035545 -0.0054787 -0.053811 -0.0066605 -0.0070614 -0.14242 -0.096051 -0.003099 0.0076033 0.0074684 0.03945 -0.051788 -0.068996 0.00013001 0.035289 -0.0046832 0.012209 -0.01975 0.024228 0.031718 -0.091839 -0.072309 0.024794 0.0092329 0.011619 0.026237 0.12297 -0.00019178 0.091273 0.0077894 0.052778 -0.070997 -0.058063 -0.02315 0.1156 -0.022109 -0.081115 -0.017429 -0.21278 0.020031 -0.012071 -0.039969 -0.03524 0.018887 0.022661 -0.12888 -0.012554 0.023041 -0.027321 0.016501 -0.026012 0.016242 -0.022111 -0.0059639 0.0071833 -0.12688 0.00016029 -0.020063 -0.0030428 -0.0064227 -0.012663 -0.030187 0.063187 -0.034581 -0.0071048 -0.013855 0.0057384 0.010308 -0.030381 -0.081299 -0.019543 0.040449 -0.015717 -0.028759 0.069666 0.091462 0.03197 0.015124 -0.2021 -0.046731 0.036622 0.064229 0.026552 -0.024679 -0.02077 -0.0085029 0.051066 -0.02806 -0.22452 0.01283 -0.0051139 -0.019278 -0.16195 0.03423 0.028388 -0.0073799 0.011286 0.014713 -0.0046404 0.018377 0.043156 0.036037 0.028211 0.02969 0.060835 0.0051122 -0.0041399 -0.020972 0.018085 -0.037168 -0.034811 -0.018247 0.023921 -0.0059663 0.029695 0.0021785 0.0042644 -0.029763 -0.018935 -0.10048 5.5447e-05 -0.028611 0.029366 0.017057 -0.027149 -0.081409 0.033606 -0.0014243 -0.077335 0.0072048 0.0093428 0.018905 0.0022015 0.0030166 -0.010022 -0.025617 0.031994 0.025016 0.060752 -0.013835 -0.014075 0.072374 -0.030166 0.16647 -0.012592 -0.044108 0.042368 0.020206 -0.092379 -0.018586 -0.021593 -0.13696 0.0086739 -0.026262 -0.084634 0.02525 0.061806 -0.027979 0.034668 -0.0030037 0.004725 -0.058499 0.0044603 0.015362 0.052837 0.1299 -0.052873 0.04113 0.012711 0.024478 -0.02358 -0.0083261 0.00038355 0.027148 -0.018966 -0.040768 0.025702 -0.099245 0.010615 -0.043011 0.0056267 0.013604 -0.014936 -0.067397 0.087573 -0.081407 0.37367 -0.020206 0.0061511 0.012685 -0.075404 0.039876 0.044814 0.097522 0.019514 -0.027585 0.0071736 0.030567 -0.020594 -0.056517 0.0082499 0.017096 0.026274 0.19979 -0.0095227 0.026079 -0.079683 -0.028366 0.055111 0.037095 0.050644 -0.019978 -0.058407 -0.077242 0.0097716 0.13546 -0.012666 -0.06013 -0.094653 0.056305 0.059004 0.038854 -0.020696 -0.00088124 -0.15196 -0.033206 0.0058697 -0.051083 0.041172 -0.025908 -0.026027 -0.01242 -0.034966 -0.041629 -0.086528 -0.026666 0.04335 0.0031889 0.048474 0.10162 -0.042624 0.0094771 \n",
            "0.073495 0.0012531 0.026944 0.11191 -0.11778 -0.047825 0.0078186 0.048018 0.075381 -0.065232 -0.014276 -0.033605 -0.038113 0.067397 -0.022687 0.029306 0.065402 0.029874 0.0056223 -0.077757 -0.027032 -0.022334 -0.0035551 -0.0027388 0.049924 0.026515 -0.0055944 0.030684 -0.036527 0.097248 0.017309 0.0095167 -0.026182 -0.092749 0.014933 -0.038718 0.0016599 0.065136 -0.047527 0.0096022 0.02497 -0.011485 -0.04526 0.086086 -0.003086 -0.012238 -0.00086806 0.022384 0.13264 -0.0020959 -0.0070408 0.0081492 -0.069032 -0.039876 -0.014126 -0.004418 -0.035872 0.0060753 -0.073289 -0.0044989 -0.00032859 0.0067416 0.0089091 -0.026151 0.033412 0.020389 0.085724 0.023834 0.097054 -0.02187 0.030142 0.018861 -0.036897 -0.0056429 0.030039 0.010761 0.030488 0.017927 0.040694 0.18956 -0.0048912 0.020799 -0.034943 0.0087323 0.0204 0.019603 -0.0099893 0.029231 -0.012554 -0.025382 -0.042776 -0.066562 0.25363 -0.037365 -0.022063 0.018743 0.09965 0.088218 0.034451 0.043194 -0.019851 0.014269 0.056576 0.071063 -0.069351 0.022882 -0.0088247 -0.025997 0.014025 0.095131 0.022026 -0.06718 -0.01559 0.15481 -0.032333 -0.0069949 -0.028371 -0.010388 0.031453 -0.037208 -0.0098302 0.0053767 0.0042419 0.0052801 0.033767 -0.00055282 -0.02027 0.0067156 -0.033675 0.045473 0.033937 -0.096159 0.013229 0.088293 -0.04475 -0.016027 0.046763 -0.0091914 0.017165 -0.040844 -0.067374 -0.030728 0.040208 -0.018188 0.036102 0.063313 -0.21497 -0.0069362 -0.031263 -0.055123 -0.13672 0.047606 0.055481 0.072782 -0.043312 -0.0077473 0.12869 0.045156 0.028289 -0.014062 0.067872 0.051249 0.055686 -0.02686 -0.00056193 -0.017564 0.005453 0.025173 0.078162 -0.028253 0.070859 0.014227 -0.03066 -0.034375 0.023267 -0.042504 0.0076052 -0.020271 0.0017371 -0.029798 -0.027596 -0.042122 0.010184 -0.044463 0.058731 -0.14161 -0.0051475 0.0072537 0.01782 -0.060851 -0.050164 -0.018437 -0.030071 0.044553 -0.047748 0.068432 0.08023 0.058638 0.026892 0.078478 -0.066178 0.18731 0.0036016 0.0059059 -0.098652 -0.006156 -0.084737 -0.048029 0.004924 0.12547 -0.0064881 -0.049496 -0.010057 0.044631 0.06494 0.015673 -0.0087754 -0.022201 0.017513 -0.020131 0.037791 0.01862 -0.011825 -0.11542 -0.015662 -0.055923 0.084152 -0.078612 0.040488 -0.032265 -0.0096286 0.009006 -0.11916 -0.0061648 -0.024316 -0.012469 -0.053284 0.067545 0.042764 -0.047122 0.024064 0.0090698 -0.014113 -0.08548 0.24926 -0.017634 -0.022753 -0.00032503 0.04397 -0.056857 0.0071291 0.028521 -0.012629 -0.11809 -0.016851 0.0048974 -0.0056547 0.018995 0.073512 -0.010886 -0.022824 -0.0731 0.037324 0.06428 0.069959 -0.022999 0.050787 -0.013128 -0.029162 -0.049687 -0.068599 -0.039112 -0.032228 -0.0011504 -0.012531 -0.033103 0.050963 -0.060285 0.013068 -0.056152 0.0028156 -0.090259 -0.16226 -0.053175 -0.039895 0.032096 -0.040573 -0.14738 0.082013 -0.037399 0.0091058 -0.00025797 -0.064619 0.041102 -0.047976 -0.019168 0.042514 0.16528 -0.037049 -0.090004 \n"
          ],
          "name": "stdout"
        }
      ]
    },
    {
      "cell_type": "markdown",
      "metadata": {
        "id": "Ptpl4zCoFZCC",
        "colab_type": "text"
      },
      "source": [
        "We replace the space generated words with commas"
      ]
    },
    {
      "cell_type": "code",
      "metadata": {
        "id": "D9uZ0fsZFc9Y",
        "colab_type": "code",
        "colab": {}
      },
      "source": [
        "import fileinput\n",
        "\n",
        "with fileinput.FileInput('Embeddingdata2.tsv', inplace=True, backup='.bak') as file:\n",
        "    for line in file:\n",
        "        print(line.replace(' ', ','), end='')"
      ],
      "execution_count": 0,
      "outputs": []
    },
    {
      "cell_type": "markdown",
      "metadata": {
        "id": "YzZo_iVhFk69",
        "colab_type": "text"
      },
      "source": [
        "We now add a first line with variable names as follows"
      ]
    },
    {
      "cell_type": "code",
      "metadata": {
        "id": "Mx3uLS3jFppA",
        "colab_type": "code",
        "colab": {}
      },
      "source": [
        "import numpy as np\n",
        "import os\n",
        "\n",
        "firstLine = ','.join(['D'+str(i) for i in np.arange(1, 301)]) + '\\n'\n",
        "\n",
        "with open('Embeddingdata2.tsv', 'r') as original: \n",
        "  data_2 = original.read()\n",
        "\n",
        "with open('Embeddingdata2.csv', 'w') as modified: \n",
        "  modified.write(firstLine + data_2)"
      ],
      "execution_count": 0,
      "outputs": []
    },
    {
      "cell_type": "code",
      "metadata": {
        "id": "Rptl_yIcF0dc",
        "colab_type": "code",
        "outputId": "fc348fa2-8a13-4215-aa89-4fad5dd2a46a",
        "colab": {
          "base_uri": "https://localhost:8080/",
          "height": 211
        }
      },
      "source": [
        "!head Embeddingdata2.csv"
      ],
      "execution_count": 0,
      "outputs": [
        {
          "output_type": "stream",
          "text": [
            "D1,D2,D3,D4,D5,D6,D7,D8,D9,D10,D11,D12,D13,D14,D15,D16,D17,D18,D19,D20,D21,D22,D23,D24,D25,D26,D27,D28,D29,D30,D31,D32,D33,D34,D35,D36,D37,D38,D39,D40,D41,D42,D43,D44,D45,D46,D47,D48,D49,D50,D51,D52,D53,D54,D55,D56,D57,D58,D59,D60,D61,D62,D63,D64,D65,D66,D67,D68,D69,D70,D71,D72,D73,D74,D75,D76,D77,D78,D79,D80,D81,D82,D83,D84,D85,D86,D87,D88,D89,D90,D91,D92,D93,D94,D95,D96,D97,D98,D99,D100,D101,D102,D103,D104,D105,D106,D107,D108,D109,D110,D111,D112,D113,D114,D115,D116,D117,D118,D119,D120,D121,D122,D123,D124,D125,D126,D127,D128,D129,D130,D131,D132,D133,D134,D135,D136,D137,D138,D139,D140,D141,D142,D143,D144,D145,D146,D147,D148,D149,D150,D151,D152,D153,D154,D155,D156,D157,D158,D159,D160,D161,D162,D163,D164,D165,D166,D167,D168,D169,D170,D171,D172,D173,D174,D175,D176,D177,D178,D179,D180,D181,D182,D183,D184,D185,D186,D187,D188,D189,D190,D191,D192,D193,D194,D195,D196,D197,D198,D199,D200,D201,D202,D203,D204,D205,D206,D207,D208,D209,D210,D211,D212,D213,D214,D215,D216,D217,D218,D219,D220,D221,D222,D223,D224,D225,D226,D227,D228,D229,D230,D231,D232,D233,D234,D235,D236,D237,D238,D239,D240,D241,D242,D243,D244,D245,D246,D247,D248,D249,D250,D251,D252,D253,D254,D255,D256,D257,D258,D259,D260,D261,D262,D263,D264,D265,D266,D267,D268,D269,D270,D271,D272,D273,D274,D275,D276,D277,D278,D279,D280,D281,D282,D283,D284,D285,D286,D287,D288,D289,D290,D291,D292,D293,D294,D295,D296,D297,D298,D299,D300\n",
            "-0.004642,-0.083334,0.023629,-0.0081147,-0.021058,-0.012022,0.053491,0.0088438,-0.015699,0.0063386,0.003375,0.0080384,0.022835,-0.004325,0.0033066,0.012692,0.0016189,-0.021336,0.0020341,-0.087373,-0.014415,0.015928,0.031882,0.01003,-0.013861,-0.023968,-0.010219,0.011827,0.0060535,0.034185,0.037853,-0.022722,-0.0017498,-0.093172,-0.075882,-0.030392,0.0010724,0.25866,0.032114,-0.011374,-0.026876,0.034429,-0.0031979,-0.013366,-0.048258,-0.028378,-0.018881,0.055234,-0.010601,-0.0067363,-0.010446,0.020596,-0.054133,-0.012393,-0.016917,-0.091089,-0.068308,-0.066598,0.029001,-0.011575,-0.012718,-0.00012912,0.015652,-0.04296,0.001718,-0.015983,0.027766,-0.04565,-0.02121,0.0046424,-0.034501,-0.015068,0.028977,-0.0075556,-0.01386,-0.03578,0.025365,-0.001923,0.022577,-0.12622,-0.016148,-0.0045215,0.0013893,0.0090513,0.00058227,-0.025249,0.0062074,-0.0041683,-0.0087896,-0.00073717,-0.013128,-0.010763,0.033185,0.00026065,-0.12259,0.0047229,-0.16711,-0.018613,-0.010696,-0.0049714,0.022441,-0.0024658,-0.01704,-0.063422,0.0076292,0.0013604,-0.010004,0.0018826,0.024179,0.023858,0.0095349,-0.058355,0.0033834,0.17511,0.0043067,0.010978,-0.014705,0.016427,0.0072786,-0.026239,-0.01814,-0.0018037,0.0050159,-0.0064485,-0.060502,-0.028461,0.010803,-0.042157,-0.0058141,0.072472,-0.0050068,0.0067264,0.022495,-0.00010817,-0.10004,-0.019146,-0.035023,0.049813,0.00029956,0.072432,-0.026505,-0.00085354,-0.010069,-0.011111,0.081053,0.013697,-0.2714,0.0039618,-0.015622,0.017797,-0.1429,0.002039,0.079026,-0.0017404,0.0015332,0.00043251,0.17521,-0.081993,0.01868,0.020417,0.017618,-0.014525,-0.067709,0.0025434,0.010786,-0.010641,-0.0028229,-0.058573,-0.0034925,-0.041394,-0.0043289,0.0088174,0.016302,-0.026132,0.026635,0.014674,-0.0070017,0.11253,0.0017758,-0.028481,0.035161,0.043507,-0.016345,0.095137,-0.018014,0.076895,-0.025459,-0.029947,0.037165,0.033324,-0.036169,0.011259,-0.042125,0.0017757,0.0071502,-0.0027534,-0.020526,0.025357,-0.042226,-0.023806,0.0027406,0.2201,-0.0055476,0.015368,0.0020897,-0.002462,-0.0088384,-0.0026383,0.015936,-0.087757,0.05723,0.035018,0.0079871,0.035969,-0.02257,-0.0037654,0.040565,-0.023316,-0.038478,0.060298,-0.008625,0.035541,0.027084,-0.023667,-0.074065,0.022587,0.019347,0.012515,0.082973,-0.021683,0.012118,0.004754,-0.039883,0.017792,0.010895,0.050549,0.002339,-0.039531,0.0022015,-0.014929,-0.0088301,0.22685,0.013018,-0.020141,0.45296,-0.013587,0.00066438,0.035167,0.039083,-0.13369,0.014615,0.03428,0.024015,-0.027176,0.0056762,-0.026264,-0.026458,-0.009339,-0.033494,0.050249,0.012013,-0.060192,-0.043855,-0.037103,-0.0067188,-0.017627,-0.019906,0.02614,0.10352,0.10058,-0.031418,-0.039564,0.056768,0.086873,-0.044542,-0.10561,0.065429,-0.15438,0.040658,-0.17038,0.015563,-0.070061,-0.057571,-0.039804,0.00079867,-0.014347,-0.011357,-0.0046626,-0.017151,0.029062,0.034751,0.026898,-0.010675,0.032168,-0.0034654,0.003083,-0.0064799,0.045288,0.0014906,0.01088,\n",
            "-0.035324,0.036819,0.044501,0.10225,-0.10234,-0.039556,-0.0010241,-0.045159,-0.04212,-0.026889,-0.014005,0.0050125,0.016242,-0.0090026,-0.033018,-0.021603,0.014128,0.051987,-0.028838,0.116,0.044055,-0.0072457,-0.009969,0.020125,-0.10343,-0.022551,0.022268,-0.0054127,-0.019477,-0.026316,-0.0073256,-0.011943,0.0031161,-0.11151,0.016422,0.0075351,0.028466,-0.027187,0.010568,-0.009197,0.015711,0.0086635,-0.0035875,0.06083,0.08685,0.045138,0.0014927,0.058659,-0.0039749,0.012492,0.014364,-0.012559,-0.054978,-0.0184,-0.0043481,-0.0094465,-0.01464,-0.065716,-0.053864,-0.0097456,-0.054083,-0.04074,-0.029828,0.03105,-0.022813,0.007441,-0.045276,-0.0077026,-0.021871,-0.021099,-0.10593,-0.064104,0.041583,-0.039057,-0.032503,-0.04435,0.01936,0.019834,0.090434,-0.0079844,-0.031462,-0.0060813,-0.079119,0.038714,-0.10368,5.0769e-05,0.018309,-0.10659,0.071963,0.01083,-0.0051717,-0.0097051,0.052846,-0.020978,0.17088,-0.0014402,-0.013824,-0.015274,-0.027994,-0.00060721,0.027649,0.013185,0.02182,-0.12646,0.018897,0.0040205,-0.0051397,-0.036053,-0.044332,0.011917,0.021565,-0.023206,-0.016955,0.074584,-0.0013053,-0.061557,-0.056741,-0.0089993,0.021446,-0.028105,0.022522,0.031128,0.031326,0.0041926,0.041936,0.076266,-0.0032395,-0.052214,0.0031022,0.057256,-0.028515,-0.012571,0.012997,-0.032345,0.036623,0.0086366,-0.1011,-0.049677,0.015847,-0.0045245,-0.035086,0.0038808,0.029432,0.014145,-0.10485,-0.0027314,-0.27392,0.03135,-0.023059,-0.0072869,0.0062171,0.011469,0.020585,0.014131,0.0054726,0.022376,0.13263,-0.029254,0.018703,0.0507,-0.0025141,-0.00021838,0.089654,-0.032825,0.0082004,-0.043702,0.0069722,-0.028005,0.073722,0.025122,-0.0098245,-0.027047,0.065158,-0.029428,0.016023,0.018564,-0.0017295,-0.0453,-0.0018307,-0.0031369,-0.022514,0.096844,-0.050293,0.020012,0.012507,0.04245,-0.010138,-0.025034,-0.037821,-0.011205,-0.017931,0.046747,-0.038975,0.039445,0.026455,0.012813,-0.0063446,-0.0040015,0.0087445,0.056518,-0.062763,0.0093892,0.022341,-0.028684,-0.036711,0.015071,-0.14191,0.0065656,-0.04324,0.033387,0.045266,0.033305,-0.10977,-0.028677,0.01938,-0.046248,0.11995,0.022183,0.0094941,0.049575,0.069356,-0.017253,-0.019307,0.11473,0.011975,-0.052205,0.015271,0.04606,0.084617,-0.050156,-0.017713,-0.050005,0.074332,0.0062721,0.025517,-0.27053,0.0076178,0.053526,-0.029355,0.027286,0.0099893,0.060307,-0.055298,-0.17408,0.34325,0.0096781,0.010448,-0.031536,0.0198,0.034067,0.020293,-0.012967,-0.029179,0.0089903,0.0091248,0.051789,-0.067939,-0.043091,-0.017711,0.010766,-0.029545,-0.027942,-0.0018103,0.012851,-0.11935,-0.012127,-0.0018053,0.0096483,0.050897,-0.11352,0.0058055,-0.030047,-0.031991,-0.065641,0.060043,-0.0042116,-0.12882,0.005639,-0.089158,-0.0030579,-0.050518,-0.017923,-0.22339,-0.036676,0.016329,-0.043196,0.011481,-0.045469,-0.046277,-0.013552,0.034787,-0.022374,-0.10231,0.023897,0.00088244,0.0086674,-0.0038793,0.21608,0.026943,0.043907,\n",
            "0.051831,-0.0082765,-0.063624,0.011771,0.011986,-0.010644,0.018433,0.018789,-0.03641,-0.003334,0.032369,-0.057444,-0.0083108,-0.039912,-0.028866,0.10252,-0.028312,0.015421,-0.030213,-0.053344,0.019847,0.015994,0.01135,-0.031546,0.082863,-0.041706,-0.046461,-0.0014064,-0.022555,0.15418,-0.012666,-0.042745,-0.031784,-0.013719,0.043648,-0.076699,-0.023332,-0.017283,-0.014847,-0.015437,-0.0066853,0.025483,-0.025772,0.17133,-0.061474,-0.00029865,0.0091759,0.016033,-0.058256,-0.033013,0.021924,0.0085556,-0.03276,0.0049223,-0.053937,-0.077734,-0.070964,0.080274,-0.066385,0.03956,-0.025664,-0.0017839,0.014268,-0.035536,-0.028861,0.038719,-0.02908,-0.013596,0.018565,-0.042062,0.040178,-0.0031427,-0.013035,-0.049878,0.036989,-0.045577,-0.028603,-0.027863,0.074212,0.14354,-0.023706,-0.056596,-0.010631,0.030941,0.033203,-0.009654,0.0061456,0.067985,-0.033578,-0.053759,-0.054004,-0.02545,0.27677,-0.029978,-0.023868,-0.034945,0.11581,0.058273,0.012501,-0.0039922,0.043515,0.028662,-0.0077017,0.064703,0.047514,0.021146,0.0027188,0.024869,0.05224,0.011615,0.02112,-0.098227,0.017314,0.075625,-0.032551,-0.012924,-0.038213,0.054983,0.023238,0.020686,0.028768,0.025345,0.028005,-0.0032541,0.006115,0.12388,0.0015985,0.0091774,0.004329,0.071908,-0.0087791,0.0019335,0.025725,0.044615,-0.01998,-0.081657,0.0377,-0.0083164,-0.026919,0.018999,-0.028733,-0.012649,-0.019522,0.02192,0.081949,-0.01471,-0.17175,-0.033235,-0.0090343,0.055506,-0.1766,-0.0099262,0.066383,0.039602,-0.0062272,0.021179,0.10155,-0.019322,0.019095,0.043914,0.018437,0.041274,0.053148,-0.0044262,0.032578,-0.029387,0.011733,-0.028184,0.03076,-0.022345,0.024819,-0.017656,-0.031788,0.0081164,0.044427,-0.038095,0.054457,-0.0059633,0.052489,0.022214,0.062524,0.017092,0.014309,0.048347,0.024785,0.14336,-0.051432,-0.012228,0.019042,0.031307,0.0022238,0.028167,-0.0017271,-0.097506,-0.011827,-0.10014,-0.059099,-0.0064335,0.040961,0.053781,-0.03197,0.26101,0.016619,-0.024318,-0.046564,0.044168,-0.025721,-0.040944,0.03805,0.086465,-0.014934,-0.01145,0.0060862,0.028801,-0.021128,0.011734,0.018228,0.013446,0.046864,-0.043174,0.03589,-0.016773,-0.040282,-0.18951,-0.034913,-0.019729,-0.026021,-0.036842,-0.029748,-0.015,0.032989,0.041202,-0.11387,-0.057077,0.0019925,-0.024443,-0.0028671,0.0077293,0.080264,-0.054659,0.00048411,0.034076,-0.039318,-0.028927,0.3058,-0.012254,-0.011765,-0.010095,-0.016806,-0.062386,0.025002,0.047364,-0.032493,-0.038801,0.026153,-0.014734,0.064039,0.020674,-0.044473,0.076969,0.006254,-0.087479,0.020171,-1.4256e-06,0.093167,-0.03111,-0.070706,-0.014756,-0.0087232,-0.072056,-0.048199,0.0026606,0.02119,-0.045485,-0.0075639,-0.087872,0.045948,-0.044376,-0.0094167,-0.084187,0.038946,-0.059073,-0.14421,0.011163,0.027712,0.017487,0.050801,-0.17047,0.020039,-0.01578,0.02703,-0.014372,-0.10714,0.02996,-0.011949,0.00023695,0.018871,0.18251,-0.069199,0.010729,\n",
            "-0.024316,0.10093,0.063159,0.16436,-0.0098596,-0.016402,-0.045917,-0.038624,0.0078168,0.015913,-0.041978,0.00072367,-0.030461,-0.0032812,-0.047413,0.039005,0.010226,-0.019428,-0.0044954,0.011859,0.028065,0.01735,-0.01724,-0.04075,-0.0095944,-0.024026,0.019966,0.033824,-0.042875,0.0099262,-0.022239,0.011155,-0.0066098,-0.2408,-0.014698,0.018685,0.015654,0.027766,-0.014526,-0.02169,-0.010941,0.046887,0.0049483,0.0027765,0.030689,0.11873,-0.010676,0.15817,0.011467,0.0296,0.017403,-0.018808,-0.040814,-0.013879,0.028875,0.0042163,0.012122,-0.026735,-0.089226,-0.0067556,-0.01004,-0.0065134,-0.053296,0.028406,0.042341,0.050176,-0.0040829,-0.040696,0.046998,0.0004477,-0.021619,0.0030052,0.039673,-0.058371,-0.0017997,-0.00039234,0.063407,0.039573,0.088685,-0.024078,-0.052918,-0.033068,-0.0090028,0.069987,-0.0037509,-0.033515,0.046126,-0.057919,0.056173,0.25576,0.033019,0.0093637,0.073929,-0.010834,0.0070703,0.032445,-0.1069,-0.023142,-0.0083157,0.0069735,0.039402,-0.014236,0.00068778,-0.033208,-0.0037186,-0.0033701,0.055767,-0.015277,0.0015595,0.0011159,0.073213,0.029209,-0.017845,0.020714,-0.025264,-0.04933,-0.005041,0.0045859,0.0066419,0.018602,-0.055681,0.0037495,-0.002374,-0.015622,-0.0079604,0.081635,-0.012677,-0.10357,-0.02186,0.039522,-0.0062953,0.0098028,0.026124,0.14662,0.023923,-0.025794,0.00031862,-0.052266,0.0051891,-0.010374,-0.035349,0.043242,-0.015423,0.0067421,-0.10409,0.040985,-0.28606,-0.0059206,-0.00088057,-0.013947,-0.073424,0.0081679,0.047239,0.088604,-0.038708,0.034067,0.19337,0.0092482,-0.011249,0.015104,0.020004,0.043025,0.012414,-0.014821,-0.033699,0.012797,-0.0021995,0.032865,0.040453,-0.036512,0.016736,0.002885,0.019729,-0.033361,-0.01159,-0.0057356,-0.058362,0.0062706,-0.013322,0.0041882,0.0072939,0.077113,-0.0035811,0.057839,0.056024,-0.020025,0.08744,-0.051887,0.015204,0.029261,-0.029979,0.020811,-0.0088965,-0.04127,-0.012844,0.012806,-0.070426,0.069846,0.038517,0.083288,-0.13088,0.12472,0.040057,-0.015217,-0.051154,-0.017731,0.027574,-0.038552,0.011118,0.022292,-0.064566,0.054828,0.038189,-0.0031992,0.010227,-0.012774,0.01078,-0.035326,0.032666,-0.0033844,0.068383,0.023112,0.0032812,0.049398,-0.014668,-0.090787,0.00085558,0.014483,0.14862,-0.0092635,0.013349,-0.00078617,-0.050109,-0.00896,0.011971,-0.041479,0.0017336,0.022979,-0.059901,-0.0069391,-0.039977,0.072387,-0.10718,-0.088925,0.22443,-0.017161,0.019552,0.042696,-0.024647,-0.054272,0.040426,-0.00045724,0.00092732,-0.0087598,0.026281,0.075251,-0.018126,-0.048909,0.0044435,-0.00023964,-0.043933,-0.030878,0.044237,0.086187,-0.057242,-0.021891,0.0099703,0.016443,0.032068,-0.056676,0.042816,-0.049059,0.067174,-0.064978,-0.0076353,0.051348,-0.17981,-0.089315,-0.015666,-0.11943,-0.0053712,-0.0885,-0.13857,0.020192,0.010481,-0.032713,0.019485,-0.093972,-0.023863,-0.020584,0.097033,0.021279,-0.12351,0.0036432,0.030531,0.034935,-0.011335,0.23643,-0.032778,0.030381,\n",
            "-0.004955,0.031584,0.014314,0.13914,-0.13055,-0.045248,0.028588,-0.0203,-0.012828,-0.054478,-0.0055729,0.020397,-0.054217,-0.003356,0.018501,0.0049104,0.040757,-0.012242,-0.054108,0.021051,0.036678,0.014022,0.0038597,-0.064751,-0.053208,-0.062652,-0.010987,0.018452,0.015949,0.013004,0.028509,-0.02719,-0.032398,0.047762,-0.057441,-0.046621,-0.070701,-0.019178,-0.041371,-0.026952,0.016084,0.011012,-0.029226,0.051147,0.077764,0.095107,0.019351,0.002052,0.0031627,-0.0019049,0.00148,-0.018647,0.026583,-0.008306,0.0010329,0.026028,0.0099383,-0.01476,-0.12852,-0.0048111,-0.048449,-0.021697,-0.0037605,-0.033484,-0.010424,-0.029176,-0.049563,-0.014019,0.027601,-0.016138,-0.14522,-0.011206,0.020986,0.014173,0.032044,-0.011613,-0.0055603,0.048497,-0.070405,0.14215,-0.050498,-0.011717,-0.029342,0.032713,0.10551,0.00089712,-0.010154,-0.017253,0.030004,0.04412,0.0085472,0.00051443,0.10092,-0.0091305,0.078234,0.04909,0.12164,0.031249,-0.016328,-0.00034714,0.046959,0.037303,0.01795,-0.13185,0.013556,-0.037993,-0.0025413,-0.011822,-0.0060636,0.015917,0.044242,-0.049188,-0.029424,-0.0427,-0.026892,-0.062453,-0.05397,-0.0010642,0.028496,-0.0058256,0.0098826,0.010329,0.040362,0.024656,0.039429,0.064198,0.0035479,-0.045725,-0.016786,-0.0066803,-0.013634,-0.012368,-0.072351,0.15749,0.046626,-0.030635,-0.13132,0.054506,-0.0077638,0.010843,-0.020423,5.3403e-05,0.063642,0.006738,0.097657,0.058965,-0.24459,0.005407,-0.02266,0.019873,-0.10992,0.0086807,0.055932,0.017361,0.0072775,0.013699,0.048773,-0.01467,0.02069,0.0071945,0.014016,-0.0096115,0.00047435,-0.051002,-0.0030955,-0.0044303,-0.027898,0.043119,0.004801,-0.016742,-0.0041913,-0.0098655,0.044001,-0.035633,0.00099297,0.014583,-0.036874,-0.040924,0.030343,-0.020648,0.019269,0.025529,0.078707,-0.086149,0.067086,0.012091,0.076869,-0.074484,-0.052465,0.0053819,-0.024195,-0.0077748,0.0021313,-0.0095398,0.027155,0.010888,-0.054337,0.099712,-0.017309,0.11456,-0.090461,0.056318,0.01678,-0.017288,-0.030628,0.0080516,-0.010441,-0.028358,-0.021004,0.04777,-0.018208,0.020962,-0.012811,-0.032567,0.050047,-0.0083838,0.010119,-0.023448,0.00061983,0.022592,0.08852,-0.00075467,0.028828,0.083001,-0.017244,0.012944,-0.0041305,-0.012126,0.12328,-0.012589,0.0069226,-0.053715,-0.025136,0.015958,0.031327,-0.099468,-0.025596,-0.033129,0.011036,0.02173,-0.033364,-0.077136,-0.074573,-0.1147,0.28315,0.0091929,0.025797,-0.011246,-0.016829,0.1304,-0.017039,0.18771,-0.019143,-0.050434,0.00091119,0.029384,-0.07508,-0.053523,0.062281,0.030181,-0.013656,0.18027,0.0086902,0.031587,-0.083584,0.026869,-0.01612,0.0070252,0.016843,0.0071541,-0.018975,-0.037776,-0.12935,0.11545,0.0015688,0.022331,0.15731,0.18764,0.035922,0.14962,-0.10871,-0.016544,-0.1801,0.022396,0.023182,-0.014658,0.016149,-0.13234,-0.027277,-0.045909,-0.016469,0.011825,-0.063886,-0.091359,0.0028451,0.022979,-0.022206,0.05092,-0.0067904,0.01207,\n",
            "-0.016891,0.16321,0.039007,0.054239,-0.012139,-0.0018551,0.081935,-0.0058932,0.0054378,-0.0047688,-0.0024187,0.010717,-0.0045534,-0.0014647,-0.012406,0.011986,0.011935,-0.0079373,-0.033177,-0.082854,0.045711,0.039236,0.030441,-0.034378,0.18268,-0.018292,-0.030894,0.016715,0.0043685,0.049918,-0.00082088,-0.026156,-0.015617,-0.1388,0.014803,0.0080795,-0.054756,0.12199,-0.037134,0.0029145,0.002123,0.022859,0.022649,0.020968,0.037683,-0.020846,-0.029999,0.098562,-0.010338,0.015869,-0.017082,0.010364,-0.014136,-0.021277,0.012032,-0.0031841,-0.05815,-0.025222,-0.032911,-0.0038196,0.013351,-0.0028644,-0.038266,-0.076572,-0.020361,-0.0099941,-0.019406,-0.034748,0.032991,0.012582,0.038016,0.047665,0.02447,-0.03802,0.010892,-0.018118,0.044761,0.028564,0.034127,-0.027596,-0.00026655,-0.042186,-0.0088073,0.013559,-0.013644,0.0035897,0.015369,0.12722,0.014014,-0.044111,-0.054345,-0.011536,0.042792,-0.024581,-0.062765,-0.019617,0.011849,0.003968,0.012795,-0.020233,0.027507,0.016502,0.023816,0.10024,-0.013619,0.049442,0.0066541,0.0137,0.013674,-0.0052885,-0.094468,0.016144,0.01327,0.12804,-0.010388,0.0044762,-0.011596,-0.019532,-0.019357,0.021403,0.11138,-0.010324,0.044558,0.0081378,0.022144,-0.0045937,0.028048,0.14626,-0.0072185,0.035995,-0.025861,-0.033846,0.022099,-0.0087795,-0.052345,0.0058477,-0.074696,-0.01552,0.0078111,0.032883,-0.057867,-0.015612,-0.022025,0.0059014,0.09319,-0.12697,-0.26972,0.036274,-0.014158,-0.002511,-0.13744,0.022811,0.085412,0.026544,-0.0057397,-0.017431,0.15987,0.14918,0.024623,0.028758,0.045011,0.024506,-0.057885,-0.0042142,0.016567,0.00069296,0.05448,0.0072145,0.011577,-0.00569,0.021934,-0.00054216,-0.0076785,-0.022782,-0.0047479,-0.032634,-0.016333,-0.11977,0.014864,-0.013605,0.03645,0.034728,0.09852,0.073073,-0.010178,0.048152,-0.10614,-0.017037,-0.041126,0.046902,-0.020046,-0.012368,0.022036,-0.024348,0.0096395,-0.015656,-0.025816,-0.066584,0.051762,-0.07547,-0.0012179,0.24811,0.022628,-0.04625,0.020846,-0.035427,-0.072416,0.056004,0.039446,0.010456,-0.08705,0.016956,0.048156,0.049989,0.043079,0.0019612,-0.018287,0.048627,0.02224,-0.063917,-0.00062211,0.0044333,0.016167,0.011932,0.04991,0.049423,-0.028969,-0.012874,-0.0061639,-0.017864,0.012683,0.023937,0.007803,0.023709,-0.00069847,0.010581,0.010418,0.087131,-0.05013,-0.0009764,-0.044795,0.17584,0.042724,-0.0049894,0.38757,-0.050105,0.052992,0.073081,-0.046462,-0.086975,-0.015275,0.16321,0.025231,-0.0082147,0.0011966,0.014298,-0.035194,0.031836,-0.062019,-0.014721,-0.0012467,-0.019169,-0.026027,-0.020386,0.055106,-0.0338,0.017906,0.036221,-0.080721,0.092944,0.014107,-0.02517,-0.019112,-0.001096,0.015102,-0.10235,0.12123,-0.067973,0.023157,-0.12488,0.05387,-0.024075,-0.069967,0.0069415,0.0050425,-0.00986,0.0086828,-0.031002,-0.021863,0.040321,-0.030491,0.0008338,-0.053934,-0.052158,-0.023924,0.016683,0.025066,-0.0099373,-0.018846,-0.01799,\n",
            "-0.063201,-0.007899,0.0091272,-0.018714,-0.094402,0.030548,-0.042309,-0.039876,0.010108,0.025486,0.0036179,-0.014371,-0.032499,0.0055862,0.030293,0.077825,0.0019339,-0.046809,-0.056915,0.077016,0.0016236,0.056663,-0.030598,-0.08169,-0.03594,-0.1101,0.047584,0.033775,-0.033953,0.12434,-0.01689,-0.051105,-0.055363,0.0071016,0.014024,0.039556,0.029683,-0.013118,-0.04073,-0.033521,0.078129,-0.018461,-0.018274,0.12486,0.078072,0.057201,0.060169,0.10656,0.021862,0.040473,-0.0037789,-0.044605,0.013341,-0.060226,-0.056247,-0.040959,-0.030955,0.03997,-0.069045,0.028844,-0.0073655,-0.0054979,-0.0095253,-0.090632,0.0037781,0.013539,0.029322,-0.022772,-0.014016,-0.0049031,-0.029521,-0.015665,0.044941,0.0097227,0.077032,-0.027626,-0.05238,0.0089792,-0.066752,0.0056361,0.029265,-0.0016044,0.006535,0.030934,0.03549,-0.053903,-0.030311,-0.024908,-0.00046206,0.0017756,0.0088767,-0.049989,0.25816,0.034395,0.084597,-0.076505,-0.013662,-0.066043,0.011978,-0.040448,-0.017479,-0.025158,-0.0050011,-0.16534,-0.014305,0.0062029,0.028346,-0.10542,-0.0324,0.041889,-0.010359,-0.05354,0.019435,0.071853,0.0044755,0.049094,-0.011132,-0.015223,-0.057694,0.028467,-0.0048367,-0.0245,-0.02707,-0.012028,0.052655,-0.060902,0.070506,-0.061347,-0.014672,0.041549,-0.070414,-0.073967,0.023012,-0.041924,0.066369,-0.054013,-0.12612,0.0062096,-0.013983,0.014715,-0.06366,0.0040758,0.001884,-0.0072678,0.078088,0.064909,-0.24157,0.027875,-0.00088623,-0.043217,0.05027,0.024369,0.063131,0.0027459,0.031558,-0.048622,0.073356,0.038503,-0.088688,0.11153,-0.018294,-0.01166,0.022562,-0.031966,0.0082272,-0.034248,0.010595,-0.025697,0.0050583,0.0084404,-0.020697,-0.02717,0.10489,-0.0065482,-0.031634,0.010926,0.0051563,-0.038951,0.019044,-0.039397,-0.010435,0.15408,0.026002,0.099163,0.10535,0.029777,0.041449,-0.089031,-0.05254,0.022247,0.0060497,-0.026654,-0.042432,0.068299,-0.047864,-0.021021,-0.02595,0.010836,0.018978,-0.0046385,0.026145,0.0049859,-0.012793,-0.056803,0.067674,-0.037911,0.039512,-0.0065772,-0.017529,-0.021739,0.043661,0.00093347,-0.099939,0.02909,0.01886,0.0061833,-0.0098552,0.024456,0.040957,0.013599,-0.034732,0.021038,0.0074031,0.05402,-0.083386,-0.065915,-0.018886,0.011874,-0.027415,-0.029934,0.01403,-0.041411,-0.024342,0.012938,0.0028336,-0.094825,-0.022881,-0.029316,0.020438,-0.038293,0.028482,-0.021519,0.01115,-0.04496,0.28,-0.011227,0.019666,0.032853,0.032215,0.060887,0.045484,0.020073,-0.017139,-0.059559,9.627e-05,0.049847,0.027943,-0.016856,0.026296,0.077487,0.0092065,0.095545,-0.020877,-0.020044,-0.036943,0.053478,0.013185,0.025557,-0.055589,-0.098032,0.045387,-0.028594,-0.0070174,0.00064659,0.066532,0.00064421,-0.044327,0.036321,0.051477,0.0040328,-0.042994,0.017137,-0.28561,0.081137,0.026734,-0.096268,0.00019148,-0.0065378,0.018684,0.023898,0.041799,-0.0029407,-0.12942,-0.065736,-0.010751,0.06259,0.018591,0.23087,-0.037374,0.07337,\n",
            "0.014396,-0.11151,-0.024017,0.00024737,-0.055644,-0.00080643,0.073412,-0.0096031,-0.061141,-0.0065576,-0.013473,0.0041886,-0.10278,0.028809,-0.03087,-0.078218,0.0068773,-0.0030607,0.0013606,-0.049486,-0.06289,-0.0016078,-0.0038066,0.075363,0.073762,-0.042709,0.012336,0.0097611,0.050926,-0.047347,0.034726,0.011197,0.062153,0.043484,0.023341,0.028013,0.050988,0.015186,0.00029456,0.012532,0.026171,0.0021194,-0.095099,0.041019,-0.014589,-0.0081537,0.0009765,0.046193,-0.01194,0.035386,0.066526,0.030762,-0.077513,0.0072738,0.011841,-0.078361,0.11203,0.039286,-0.11744,-0.048302,0.047228,-0.010519,-0.0048837,0.0083914,-0.021685,-0.077672,-0.033331,-0.0020641,-0.0013566,-0.0072524,-0.071325,-0.035287,0.017393,-0.083518,-0.029869,-0.0068373,0.023648,0.050754,0.10825,-0.012286,-0.023427,0.011274,0.022354,0.019256,0.09381,0.011899,0.026297,0.074391,0.0068742,0.012161,0.011924,0.020462,-0.01511,0.0085294,-0.00064195,0.10138,0.048332,-0.0065434,0.0061041,0.007974,0.02869,0.012932,-0.039512,-0.017543,-0.0042413,-0.050214,-0.0052086,0.031289,-0.00065421,0.020278,0.048293,-0.11038,-0.034366,0.057716,0.035704,-0.043624,-0.0032279,-0.010165,0.026335,-0.039858,0.055595,0.030577,-0.095863,0.010676,0.0059273,0.048152,-0.0032614,-0.040644,-0.018225,-0.029674,-0.01147,-0.00027208,-0.068387,0.063901,0.031307,-0.019123,-0.070763,-0.069932,0.014785,-0.10074,-0.01168,0.027755,0.01777,-0.007226,0.098537,0.039063,-0.25615,0.036313,0.043467,-0.019828,-0.072223,0.0056101,0.017272,0.0074101,0.016265,0.036539,0.17158,-0.0023523,-0.047145,-0.01141,0.021328,-0.0059969,0.039345,0.0022625,0.0022797,-0.041151,0.035189,0.0075007,0.081849,-0.055552,0.045539,-0.016287,0.016322,-0.0023598,-0.094844,0.040271,-0.022607,0.11917,0.027349,-0.090609,0.00028252,-0.050168,-0.060888,-0.012679,0.0086431,-0.032348,-0.074846,-0.031222,-0.0064405,-0.088546,-0.018776,-0.023238,0.014664,0.013849,-0.0065474,0.011023,-0.01862,0.060748,0.0088807,-0.0021481,-0.04397,0.13248,0.048135,-0.023729,-0.032387,-0.004635,0.034588,-0.0035709,-0.0070666,0.071446,-0.13193,0.021161,0.081175,0.014553,-0.028203,0.023642,0.035806,0.00027479,-0.025961,-0.01592,0.12248,0.018965,-0.0017049,0.12122,0.033374,-0.042374,0.01858,0.0092996,-0.046938,-0.011187,-0.012919,0.0028137,0.10544,0.0099614,0.0019824,0.067427,-0.0014461,0.018368,-0.0026066,-0.0047716,0.0094661,0.064018,0.084388,-0.12543,0.37738,0.028323,0.064428,-0.00088399,0.011255,-0.099988,0.020472,0.049825,0.023397,-0.026685,-0.0051186,0.0096296,-0.057453,0.001246,0.038373,0.025842,0.024516,0.003089,-0.012723,-0.023831,0.11085,0.10249,-0.0026947,0.079386,-0.113,-0.081918,-0.020518,0.0098559,-0.096299,-0.15235,0.012611,-0.077094,0.17028,-0.14965,-0.19829,-0.020725,0.048595,-0.0048871,-0.069633,-0.010467,0.0054524,0.026342,0.0067526,-0.073902,-0.010089,-0.020985,0.057222,0.021781,0.023717,-0.01657,-0.010329,0.0071195,-0.030791,-0.025589,-0.02995,0.013858,\n",
            "-0.027771,-0.023614,-0.013759,0.042368,-0.064415,-0.023493,-0.075766,-0.0026479,0.027075,-0.00025448,-0.0037985,-0.024473,-0.015444,-0.0018128,-0.053533,0.066242,0.012343,0.013153,-0.0081096,0.15907,-0.020318,0.016711,0.011223,-0.00089262,0.033952,-0.052532,0.01979,0.011465,-0.03011,0.099598,-0.0016973,-0.024534,0.017905,0.085731,0.0077344,0.0086958,-0.028834,-0.044754,-0.035331,0.0018382,-0.040201,0.01828,-0.072511,0.015248,0.056234,-0.037694,-0.016497,0.079319,0.031436,-0.0267,-0.014982,-0.0019699,-0.023957,-0.044463,-0.0035988,0.039877,-0.010976,-0.093428,-0.035545,-0.0054787,-0.053811,-0.0066605,-0.0070614,-0.14242,-0.096051,-0.003099,0.0076033,0.0074684,0.03945,-0.051788,-0.068996,0.00013001,0.035289,-0.0046832,0.012209,-0.01975,0.024228,0.031718,-0.091839,-0.072309,0.024794,0.0092329,0.011619,0.026237,0.12297,-0.00019178,0.091273,0.0077894,0.052778,-0.070997,-0.058063,-0.02315,0.1156,-0.022109,-0.081115,-0.017429,-0.21278,0.020031,-0.012071,-0.039969,-0.03524,0.018887,0.022661,-0.12888,-0.012554,0.023041,-0.027321,0.016501,-0.026012,0.016242,-0.022111,-0.0059639,0.0071833,-0.12688,0.00016029,-0.020063,-0.0030428,-0.0064227,-0.012663,-0.030187,0.063187,-0.034581,-0.0071048,-0.013855,0.0057384,0.010308,-0.030381,-0.081299,-0.019543,0.040449,-0.015717,-0.028759,0.069666,0.091462,0.03197,0.015124,-0.2021,-0.046731,0.036622,0.064229,0.026552,-0.024679,-0.02077,-0.0085029,0.051066,-0.02806,-0.22452,0.01283,-0.0051139,-0.019278,-0.16195,0.03423,0.028388,-0.0073799,0.011286,0.014713,-0.0046404,0.018377,0.043156,0.036037,0.028211,0.02969,0.060835,0.0051122,-0.0041399,-0.020972,0.018085,-0.037168,-0.034811,-0.018247,0.023921,-0.0059663,0.029695,0.0021785,0.0042644,-0.029763,-0.018935,-0.10048,5.5447e-05,-0.028611,0.029366,0.017057,-0.027149,-0.081409,0.033606,-0.0014243,-0.077335,0.0072048,0.0093428,0.018905,0.0022015,0.0030166,-0.010022,-0.025617,0.031994,0.025016,0.060752,-0.013835,-0.014075,0.072374,-0.030166,0.16647,-0.012592,-0.044108,0.042368,0.020206,-0.092379,-0.018586,-0.021593,-0.13696,0.0086739,-0.026262,-0.084634,0.02525,0.061806,-0.027979,0.034668,-0.0030037,0.004725,-0.058499,0.0044603,0.015362,0.052837,0.1299,-0.052873,0.04113,0.012711,0.024478,-0.02358,-0.0083261,0.00038355,0.027148,-0.018966,-0.040768,0.025702,-0.099245,0.010615,-0.043011,0.0056267,0.013604,-0.014936,-0.067397,0.087573,-0.081407,0.37367,-0.020206,0.0061511,0.012685,-0.075404,0.039876,0.044814,0.097522,0.019514,-0.027585,0.0071736,0.030567,-0.020594,-0.056517,0.0082499,0.017096,0.026274,0.19979,-0.0095227,0.026079,-0.079683,-0.028366,0.055111,0.037095,0.050644,-0.019978,-0.058407,-0.077242,0.0097716,0.13546,-0.012666,-0.06013,-0.094653,0.056305,0.059004,0.038854,-0.020696,-0.00088124,-0.15196,-0.033206,0.0058697,-0.051083,0.041172,-0.025908,-0.026027,-0.01242,-0.034966,-0.041629,-0.086528,-0.026666,0.04335,0.0031889,0.048474,0.10162,-0.042624,0.0094771,\n"
          ],
          "name": "stdout"
        }
      ]
    },
    {
      "cell_type": "markdown",
      "metadata": {
        "id": "OnxzdLoaF_E5",
        "colab_type": "text"
      },
      "source": [
        "We now read the embedding as follows"
      ]
    },
    {
      "cell_type": "code",
      "metadata": {
        "id": "yWLqRq1LGA2X",
        "colab_type": "code",
        "outputId": "b23e9700-88af-41e2-87f6-1982f01296d4",
        "colab": {
          "base_uri": "https://localhost:8080/",
          "height": 350
        }
      },
      "source": [
        "Embeddings = pd.read_csv('Embeddingdata2.csv', sep=',', decimal = '.', \n",
        "                         low_memory = True, index_col = False)\n",
        "Embeddings.describe()"
      ],
      "execution_count": 0,
      "outputs": [
        {
          "output_type": "execute_result",
          "data": {
            "text/html": [
              "<div>\n",
              "<style scoped>\n",
              "    .dataframe tbody tr th:only-of-type {\n",
              "        vertical-align: middle;\n",
              "    }\n",
              "\n",
              "    .dataframe tbody tr th {\n",
              "        vertical-align: top;\n",
              "    }\n",
              "\n",
              "    .dataframe thead th {\n",
              "        text-align: right;\n",
              "    }\n",
              "</style>\n",
              "<table border=\"1\" class=\"dataframe\">\n",
              "  <thead>\n",
              "    <tr style=\"text-align: right;\">\n",
              "      <th></th>\n",
              "      <th>D1</th>\n",
              "      <th>D2</th>\n",
              "      <th>D3</th>\n",
              "      <th>D4</th>\n",
              "      <th>D5</th>\n",
              "      <th>D6</th>\n",
              "      <th>D7</th>\n",
              "      <th>D8</th>\n",
              "      <th>D9</th>\n",
              "      <th>D10</th>\n",
              "      <th>D11</th>\n",
              "      <th>D12</th>\n",
              "      <th>D13</th>\n",
              "      <th>D14</th>\n",
              "      <th>D15</th>\n",
              "      <th>D16</th>\n",
              "      <th>D17</th>\n",
              "      <th>D18</th>\n",
              "      <th>D19</th>\n",
              "      <th>D20</th>\n",
              "      <th>D21</th>\n",
              "      <th>D22</th>\n",
              "      <th>D23</th>\n",
              "      <th>D24</th>\n",
              "      <th>D25</th>\n",
              "      <th>D26</th>\n",
              "      <th>D27</th>\n",
              "      <th>D28</th>\n",
              "      <th>D29</th>\n",
              "      <th>D30</th>\n",
              "      <th>D31</th>\n",
              "      <th>D32</th>\n",
              "      <th>D33</th>\n",
              "      <th>D34</th>\n",
              "      <th>D35</th>\n",
              "      <th>D36</th>\n",
              "      <th>D37</th>\n",
              "      <th>D38</th>\n",
              "      <th>D39</th>\n",
              "      <th>D40</th>\n",
              "      <th>...</th>\n",
              "      <th>D261</th>\n",
              "      <th>D262</th>\n",
              "      <th>D263</th>\n",
              "      <th>D264</th>\n",
              "      <th>D265</th>\n",
              "      <th>D266</th>\n",
              "      <th>D267</th>\n",
              "      <th>D268</th>\n",
              "      <th>D269</th>\n",
              "      <th>D270</th>\n",
              "      <th>D271</th>\n",
              "      <th>D272</th>\n",
              "      <th>D273</th>\n",
              "      <th>D274</th>\n",
              "      <th>D275</th>\n",
              "      <th>D276</th>\n",
              "      <th>D277</th>\n",
              "      <th>D278</th>\n",
              "      <th>D279</th>\n",
              "      <th>D280</th>\n",
              "      <th>D281</th>\n",
              "      <th>D282</th>\n",
              "      <th>D283</th>\n",
              "      <th>D284</th>\n",
              "      <th>D285</th>\n",
              "      <th>D286</th>\n",
              "      <th>D287</th>\n",
              "      <th>D288</th>\n",
              "      <th>D289</th>\n",
              "      <th>D290</th>\n",
              "      <th>D291</th>\n",
              "      <th>D292</th>\n",
              "      <th>D293</th>\n",
              "      <th>D294</th>\n",
              "      <th>D295</th>\n",
              "      <th>D296</th>\n",
              "      <th>D297</th>\n",
              "      <th>D298</th>\n",
              "      <th>D299</th>\n",
              "      <th>D300</th>\n",
              "    </tr>\n",
              "  </thead>\n",
              "  <tbody>\n",
              "    <tr>\n",
              "      <th>count</th>\n",
              "      <td>64711.000000</td>\n",
              "      <td>64711.000000</td>\n",
              "      <td>64711.000000</td>\n",
              "      <td>64711.000000</td>\n",
              "      <td>64711.000000</td>\n",
              "      <td>64711.000000</td>\n",
              "      <td>64711.000000</td>\n",
              "      <td>64711.000000</td>\n",
              "      <td>64711.000000</td>\n",
              "      <td>64711.000000</td>\n",
              "      <td>64711.000000</td>\n",
              "      <td>64711.000000</td>\n",
              "      <td>64711.000000</td>\n",
              "      <td>64711.000000</td>\n",
              "      <td>64711.000000</td>\n",
              "      <td>64711.000000</td>\n",
              "      <td>64711.000000</td>\n",
              "      <td>64711.000000</td>\n",
              "      <td>64711.000000</td>\n",
              "      <td>64711.000000</td>\n",
              "      <td>64711.000000</td>\n",
              "      <td>64711.000000</td>\n",
              "      <td>64711.000000</td>\n",
              "      <td>64711.000000</td>\n",
              "      <td>64711.000000</td>\n",
              "      <td>64711.000000</td>\n",
              "      <td>64711.000000</td>\n",
              "      <td>64711.000000</td>\n",
              "      <td>64711.000000</td>\n",
              "      <td>64711.000000</td>\n",
              "      <td>64711.000000</td>\n",
              "      <td>64711.000000</td>\n",
              "      <td>64711.000000</td>\n",
              "      <td>64711.000000</td>\n",
              "      <td>64711.000000</td>\n",
              "      <td>64711.000000</td>\n",
              "      <td>64711.000000</td>\n",
              "      <td>64711.000000</td>\n",
              "      <td>64711.000000</td>\n",
              "      <td>64711.000000</td>\n",
              "      <td>...</td>\n",
              "      <td>64711.000000</td>\n",
              "      <td>64711.000000</td>\n",
              "      <td>64711.000000</td>\n",
              "      <td>64711.000000</td>\n",
              "      <td>64711.000000</td>\n",
              "      <td>64711.000000</td>\n",
              "      <td>64711.000000</td>\n",
              "      <td>64711.000000</td>\n",
              "      <td>64711.000000</td>\n",
              "      <td>64711.000000</td>\n",
              "      <td>64711.000000</td>\n",
              "      <td>64711.000000</td>\n",
              "      <td>64711.000000</td>\n",
              "      <td>64711.000000</td>\n",
              "      <td>64711.000000</td>\n",
              "      <td>64711.000000</td>\n",
              "      <td>64711.000000</td>\n",
              "      <td>64711.000000</td>\n",
              "      <td>64711.000000</td>\n",
              "      <td>64711.000000</td>\n",
              "      <td>64711.000000</td>\n",
              "      <td>64711.000000</td>\n",
              "      <td>64711.000000</td>\n",
              "      <td>64711.000000</td>\n",
              "      <td>64711.000000</td>\n",
              "      <td>64711.000000</td>\n",
              "      <td>64711.000000</td>\n",
              "      <td>64711.000000</td>\n",
              "      <td>64711.000000</td>\n",
              "      <td>64711.000000</td>\n",
              "      <td>64711.000000</td>\n",
              "      <td>64711.000000</td>\n",
              "      <td>64711.000000</td>\n",
              "      <td>64711.000000</td>\n",
              "      <td>64711.000000</td>\n",
              "      <td>64711.000000</td>\n",
              "      <td>64711.000000</td>\n",
              "      <td>64711.000000</td>\n",
              "      <td>64711.000000</td>\n",
              "      <td>64711.000000</td>\n",
              "    </tr>\n",
              "    <tr>\n",
              "      <th>mean</th>\n",
              "      <td>-0.006206</td>\n",
              "      <td>-0.002843</td>\n",
              "      <td>-0.007294</td>\n",
              "      <td>0.062160</td>\n",
              "      <td>-0.011528</td>\n",
              "      <td>-0.014130</td>\n",
              "      <td>0.004531</td>\n",
              "      <td>0.001950</td>\n",
              "      <td>-0.002097</td>\n",
              "      <td>-0.001760</td>\n",
              "      <td>-0.003869</td>\n",
              "      <td>-0.000934</td>\n",
              "      <td>0.007821</td>\n",
              "      <td>-0.008312</td>\n",
              "      <td>-0.005237</td>\n",
              "      <td>-0.023959</td>\n",
              "      <td>0.013233</td>\n",
              "      <td>0.004641</td>\n",
              "      <td>0.001125</td>\n",
              "      <td>0.013389</td>\n",
              "      <td>-0.011372</td>\n",
              "      <td>-0.001064</td>\n",
              "      <td>0.005683</td>\n",
              "      <td>0.002113</td>\n",
              "      <td>0.021857</td>\n",
              "      <td>0.000569</td>\n",
              "      <td>-0.008837</td>\n",
              "      <td>0.006165</td>\n",
              "      <td>-0.001524</td>\n",
              "      <td>0.075272</td>\n",
              "      <td>-0.003999</td>\n",
              "      <td>-0.005536</td>\n",
              "      <td>-0.000740</td>\n",
              "      <td>0.009360</td>\n",
              "      <td>0.013896</td>\n",
              "      <td>-0.000478</td>\n",
              "      <td>0.005503</td>\n",
              "      <td>0.029737</td>\n",
              "      <td>-0.006860</td>\n",
              "      <td>0.008903</td>\n",
              "      <td>...</td>\n",
              "      <td>0.000023</td>\n",
              "      <td>-0.008847</td>\n",
              "      <td>-0.029384</td>\n",
              "      <td>-0.002808</td>\n",
              "      <td>-0.022905</td>\n",
              "      <td>-0.009003</td>\n",
              "      <td>-0.002950</td>\n",
              "      <td>-0.005410</td>\n",
              "      <td>0.002370</td>\n",
              "      <td>0.026151</td>\n",
              "      <td>-0.011932</td>\n",
              "      <td>0.007631</td>\n",
              "      <td>-0.037115</td>\n",
              "      <td>-0.016121</td>\n",
              "      <td>0.007383</td>\n",
              "      <td>0.004149</td>\n",
              "      <td>-0.011075</td>\n",
              "      <td>0.010654</td>\n",
              "      <td>-0.028214</td>\n",
              "      <td>-0.001742</td>\n",
              "      <td>0.001660</td>\n",
              "      <td>-0.010488</td>\n",
              "      <td>-0.052292</td>\n",
              "      <td>0.007427</td>\n",
              "      <td>-0.005412</td>\n",
              "      <td>-0.000197</td>\n",
              "      <td>0.000046</td>\n",
              "      <td>-0.030382</td>\n",
              "      <td>0.004954</td>\n",
              "      <td>-0.014074</td>\n",
              "      <td>0.020223</td>\n",
              "      <td>-0.003980</td>\n",
              "      <td>-0.062589</td>\n",
              "      <td>0.013014</td>\n",
              "      <td>0.008391</td>\n",
              "      <td>-0.002899</td>\n",
              "      <td>0.002753</td>\n",
              "      <td>0.051520</td>\n",
              "      <td>0.001496</td>\n",
              "      <td>-0.008239</td>\n",
              "    </tr>\n",
              "    <tr>\n",
              "      <th>std</th>\n",
              "      <td>0.052567</td>\n",
              "      <td>0.050343</td>\n",
              "      <td>0.052431</td>\n",
              "      <td>0.059707</td>\n",
              "      <td>0.058987</td>\n",
              "      <td>0.060374</td>\n",
              "      <td>0.052143</td>\n",
              "      <td>0.055516</td>\n",
              "      <td>0.050757</td>\n",
              "      <td>0.053382</td>\n",
              "      <td>0.056277</td>\n",
              "      <td>0.052281</td>\n",
              "      <td>0.052270</td>\n",
              "      <td>0.052926</td>\n",
              "      <td>0.053011</td>\n",
              "      <td>0.065921</td>\n",
              "      <td>0.060140</td>\n",
              "      <td>0.052354</td>\n",
              "      <td>0.054833</td>\n",
              "      <td>0.059672</td>\n",
              "      <td>0.053196</td>\n",
              "      <td>0.054864</td>\n",
              "      <td>0.053230</td>\n",
              "      <td>0.050659</td>\n",
              "      <td>0.060392</td>\n",
              "      <td>0.057165</td>\n",
              "      <td>0.050639</td>\n",
              "      <td>0.054716</td>\n",
              "      <td>0.051105</td>\n",
              "      <td>0.099274</td>\n",
              "      <td>0.051683</td>\n",
              "      <td>0.051421</td>\n",
              "      <td>0.051404</td>\n",
              "      <td>0.065008</td>\n",
              "      <td>0.053856</td>\n",
              "      <td>0.050467</td>\n",
              "      <td>0.061136</td>\n",
              "      <td>0.063505</td>\n",
              "      <td>0.049034</td>\n",
              "      <td>0.055349</td>\n",
              "      <td>...</td>\n",
              "      <td>0.051633</td>\n",
              "      <td>0.060939</td>\n",
              "      <td>0.095410</td>\n",
              "      <td>0.054573</td>\n",
              "      <td>0.056373</td>\n",
              "      <td>0.052266</td>\n",
              "      <td>0.055349</td>\n",
              "      <td>0.049509</td>\n",
              "      <td>0.054008</td>\n",
              "      <td>0.065990</td>\n",
              "      <td>0.054802</td>\n",
              "      <td>0.059237</td>\n",
              "      <td>0.056729</td>\n",
              "      <td>0.053574</td>\n",
              "      <td>0.052071</td>\n",
              "      <td>0.051848</td>\n",
              "      <td>0.058939</td>\n",
              "      <td>0.053955</td>\n",
              "      <td>0.057016</td>\n",
              "      <td>0.056848</td>\n",
              "      <td>0.051788</td>\n",
              "      <td>0.051598</td>\n",
              "      <td>0.049197</td>\n",
              "      <td>0.055091</td>\n",
              "      <td>0.050865</td>\n",
              "      <td>0.056937</td>\n",
              "      <td>0.052430</td>\n",
              "      <td>0.075645</td>\n",
              "      <td>0.059043</td>\n",
              "      <td>0.056220</td>\n",
              "      <td>0.064701</td>\n",
              "      <td>0.052530</td>\n",
              "      <td>0.061962</td>\n",
              "      <td>0.054160</td>\n",
              "      <td>0.050440</td>\n",
              "      <td>0.052758</td>\n",
              "      <td>0.052654</td>\n",
              "      <td>0.046174</td>\n",
              "      <td>0.056282</td>\n",
              "      <td>0.054391</td>\n",
              "    </tr>\n",
              "    <tr>\n",
              "      <th>min</th>\n",
              "      <td>-0.258250</td>\n",
              "      <td>-0.258440</td>\n",
              "      <td>-0.264120</td>\n",
              "      <td>-0.220330</td>\n",
              "      <td>-0.318070</td>\n",
              "      <td>-0.313930</td>\n",
              "      <td>-0.303280</td>\n",
              "      <td>-0.277600</td>\n",
              "      <td>-0.253600</td>\n",
              "      <td>-0.247880</td>\n",
              "      <td>-0.248430</td>\n",
              "      <td>-0.259920</td>\n",
              "      <td>-0.226370</td>\n",
              "      <td>-0.259790</td>\n",
              "      <td>-0.246870</td>\n",
              "      <td>-0.401370</td>\n",
              "      <td>-0.220950</td>\n",
              "      <td>-0.217860</td>\n",
              "      <td>-0.256640</td>\n",
              "      <td>-0.325020</td>\n",
              "      <td>-0.231220</td>\n",
              "      <td>-0.227430</td>\n",
              "      <td>-0.227680</td>\n",
              "      <td>-0.206130</td>\n",
              "      <td>-0.244240</td>\n",
              "      <td>-0.231870</td>\n",
              "      <td>-0.206270</td>\n",
              "      <td>-0.234880</td>\n",
              "      <td>-0.238730</td>\n",
              "      <td>-0.424440</td>\n",
              "      <td>-0.231150</td>\n",
              "      <td>-0.243860</td>\n",
              "      <td>-0.219110</td>\n",
              "      <td>-0.443990</td>\n",
              "      <td>-0.223820</td>\n",
              "      <td>-0.257210</td>\n",
              "      <td>-0.300790</td>\n",
              "      <td>-0.347440</td>\n",
              "      <td>-0.228100</td>\n",
              "      <td>-0.233610</td>\n",
              "      <td>...</td>\n",
              "      <td>-0.232400</td>\n",
              "      <td>-0.346610</td>\n",
              "      <td>-0.442270</td>\n",
              "      <td>-0.244580</td>\n",
              "      <td>-0.353160</td>\n",
              "      <td>-0.249380</td>\n",
              "      <td>-0.246090</td>\n",
              "      <td>-0.194530</td>\n",
              "      <td>-0.278300</td>\n",
              "      <td>-0.312930</td>\n",
              "      <td>-0.263800</td>\n",
              "      <td>-0.239500</td>\n",
              "      <td>-0.354980</td>\n",
              "      <td>-0.363080</td>\n",
              "      <td>-0.224110</td>\n",
              "      <td>-0.255290</td>\n",
              "      <td>-0.316150</td>\n",
              "      <td>-0.279700</td>\n",
              "      <td>-0.323180</td>\n",
              "      <td>-0.356230</td>\n",
              "      <td>-0.244270</td>\n",
              "      <td>-0.285340</td>\n",
              "      <td>-0.325760</td>\n",
              "      <td>-0.228030</td>\n",
              "      <td>-0.273080</td>\n",
              "      <td>-0.307930</td>\n",
              "      <td>-0.230690</td>\n",
              "      <td>-0.338010</td>\n",
              "      <td>-0.286750</td>\n",
              "      <td>-0.246730</td>\n",
              "      <td>-0.285620</td>\n",
              "      <td>-0.236450</td>\n",
              "      <td>-0.378400</td>\n",
              "      <td>-0.217080</td>\n",
              "      <td>-0.217590</td>\n",
              "      <td>-0.245700</td>\n",
              "      <td>-0.245840</td>\n",
              "      <td>-0.194460</td>\n",
              "      <td>-0.266290</td>\n",
              "      <td>-0.241880</td>\n",
              "    </tr>\n",
              "    <tr>\n",
              "      <th>25%</th>\n",
              "      <td>-0.041028</td>\n",
              "      <td>-0.034393</td>\n",
              "      <td>-0.041231</td>\n",
              "      <td>0.024917</td>\n",
              "      <td>-0.048978</td>\n",
              "      <td>-0.055063</td>\n",
              "      <td>-0.029709</td>\n",
              "      <td>-0.034395</td>\n",
              "      <td>-0.035458</td>\n",
              "      <td>-0.037116</td>\n",
              "      <td>-0.040907</td>\n",
              "      <td>-0.033681</td>\n",
              "      <td>-0.025638</td>\n",
              "      <td>-0.042540</td>\n",
              "      <td>-0.040485</td>\n",
              "      <td>-0.059813</td>\n",
              "      <td>-0.026661</td>\n",
              "      <td>-0.029066</td>\n",
              "      <td>-0.033743</td>\n",
              "      <td>-0.024313</td>\n",
              "      <td>-0.046506</td>\n",
              "      <td>-0.036634</td>\n",
              "      <td>-0.029826</td>\n",
              "      <td>-0.031600</td>\n",
              "      <td>-0.016746</td>\n",
              "      <td>-0.038913</td>\n",
              "      <td>-0.042592</td>\n",
              "      <td>-0.029421</td>\n",
              "      <td>-0.035346</td>\n",
              "      <td>0.006127</td>\n",
              "      <td>-0.037872</td>\n",
              "      <td>-0.039274</td>\n",
              "      <td>-0.034749</td>\n",
              "      <td>-0.028177</td>\n",
              "      <td>-0.021662</td>\n",
              "      <td>-0.033827</td>\n",
              "      <td>-0.030765</td>\n",
              "      <td>-0.011086</td>\n",
              "      <td>-0.039228</td>\n",
              "      <td>-0.026874</td>\n",
              "      <td>...</td>\n",
              "      <td>-0.034347</td>\n",
              "      <td>-0.038652</td>\n",
              "      <td>-0.098017</td>\n",
              "      <td>-0.039262</td>\n",
              "      <td>-0.057141</td>\n",
              "      <td>-0.043659</td>\n",
              "      <td>-0.040453</td>\n",
              "      <td>-0.038815</td>\n",
              "      <td>-0.031255</td>\n",
              "      <td>-0.015923</td>\n",
              "      <td>-0.047916</td>\n",
              "      <td>-0.032008</td>\n",
              "      <td>-0.069087</td>\n",
              "      <td>-0.046433</td>\n",
              "      <td>-0.026839</td>\n",
              "      <td>-0.029256</td>\n",
              "      <td>-0.045338</td>\n",
              "      <td>-0.019134</td>\n",
              "      <td>-0.062686</td>\n",
              "      <td>-0.037562</td>\n",
              "      <td>-0.033025</td>\n",
              "      <td>-0.045506</td>\n",
              "      <td>-0.076134</td>\n",
              "      <td>-0.028483</td>\n",
              "      <td>-0.038183</td>\n",
              "      <td>-0.038117</td>\n",
              "      <td>-0.034125</td>\n",
              "      <td>-0.082920</td>\n",
              "      <td>-0.032784</td>\n",
              "      <td>-0.051725</td>\n",
              "      <td>-0.021718</td>\n",
              "      <td>-0.038628</td>\n",
              "      <td>-0.093179</td>\n",
              "      <td>-0.023692</td>\n",
              "      <td>-0.024297</td>\n",
              "      <td>-0.037353</td>\n",
              "      <td>-0.032156</td>\n",
              "      <td>0.021734</td>\n",
              "      <td>-0.035265</td>\n",
              "      <td>-0.043626</td>\n",
              "    </tr>\n",
              "    <tr>\n",
              "      <th>50%</th>\n",
              "      <td>-0.007160</td>\n",
              "      <td>-0.002166</td>\n",
              "      <td>-0.007228</td>\n",
              "      <td>0.055495</td>\n",
              "      <td>-0.011154</td>\n",
              "      <td>-0.015262</td>\n",
              "      <td>0.004083</td>\n",
              "      <td>0.001216</td>\n",
              "      <td>-0.002685</td>\n",
              "      <td>-0.002168</td>\n",
              "      <td>-0.001538</td>\n",
              "      <td>0.000163</td>\n",
              "      <td>0.008219</td>\n",
              "      <td>-0.008448</td>\n",
              "      <td>-0.006622</td>\n",
              "      <td>-0.013956</td>\n",
              "      <td>0.013707</td>\n",
              "      <td>0.004938</td>\n",
              "      <td>0.002037</td>\n",
              "      <td>0.008523</td>\n",
              "      <td>-0.010444</td>\n",
              "      <td>-0.001720</td>\n",
              "      <td>0.004243</td>\n",
              "      <td>0.000780</td>\n",
              "      <td>0.020159</td>\n",
              "      <td>-0.000719</td>\n",
              "      <td>-0.009676</td>\n",
              "      <td>0.005770</td>\n",
              "      <td>-0.000768</td>\n",
              "      <td>0.082898</td>\n",
              "      <td>-0.004883</td>\n",
              "      <td>-0.005965</td>\n",
              "      <td>-0.000509</td>\n",
              "      <td>0.010243</td>\n",
              "      <td>0.014481</td>\n",
              "      <td>-0.000354</td>\n",
              "      <td>0.003535</td>\n",
              "      <td>0.026798</td>\n",
              "      <td>-0.007081</td>\n",
              "      <td>0.009760</td>\n",
              "      <td>...</td>\n",
              "      <td>-0.000245</td>\n",
              "      <td>-0.009364</td>\n",
              "      <td>-0.017202</td>\n",
              "      <td>-0.003868</td>\n",
              "      <td>-0.023570</td>\n",
              "      <td>-0.009390</td>\n",
              "      <td>-0.004183</td>\n",
              "      <td>-0.005852</td>\n",
              "      <td>0.004735</td>\n",
              "      <td>0.016425</td>\n",
              "      <td>-0.012738</td>\n",
              "      <td>0.008656</td>\n",
              "      <td>-0.032734</td>\n",
              "      <td>-0.013279</td>\n",
              "      <td>0.007687</td>\n",
              "      <td>0.005297</td>\n",
              "      <td>-0.010405</td>\n",
              "      <td>0.010450</td>\n",
              "      <td>-0.025007</td>\n",
              "      <td>-0.005806</td>\n",
              "      <td>0.000000</td>\n",
              "      <td>-0.011927</td>\n",
              "      <td>-0.046351</td>\n",
              "      <td>0.008069</td>\n",
              "      <td>-0.005836</td>\n",
              "      <td>-0.001919</td>\n",
              "      <td>0.000332</td>\n",
              "      <td>-0.031088</td>\n",
              "      <td>0.004033</td>\n",
              "      <td>-0.013836</td>\n",
              "      <td>0.016494</td>\n",
              "      <td>-0.003223</td>\n",
              "      <td>-0.056099</td>\n",
              "      <td>0.010582</td>\n",
              "      <td>0.009547</td>\n",
              "      <td>-0.004037</td>\n",
              "      <td>0.002294</td>\n",
              "      <td>0.053959</td>\n",
              "      <td>0.003837</td>\n",
              "      <td>-0.008540</td>\n",
              "    </tr>\n",
              "    <tr>\n",
              "      <th>75%</th>\n",
              "      <td>0.027857</td>\n",
              "      <td>0.029459</td>\n",
              "      <td>0.026653</td>\n",
              "      <td>0.092893</td>\n",
              "      <td>0.027785</td>\n",
              "      <td>0.025966</td>\n",
              "      <td>0.039101</td>\n",
              "      <td>0.038199</td>\n",
              "      <td>0.030348</td>\n",
              "      <td>0.032701</td>\n",
              "      <td>0.034362</td>\n",
              "      <td>0.032962</td>\n",
              "      <td>0.042200</td>\n",
              "      <td>0.025145</td>\n",
              "      <td>0.029051</td>\n",
              "      <td>0.020790</td>\n",
              "      <td>0.051743</td>\n",
              "      <td>0.038706</td>\n",
              "      <td>0.036448</td>\n",
              "      <td>0.046338</td>\n",
              "      <td>0.024558</td>\n",
              "      <td>0.033923</td>\n",
              "      <td>0.040352</td>\n",
              "      <td>0.035100</td>\n",
              "      <td>0.058843</td>\n",
              "      <td>0.038885</td>\n",
              "      <td>0.023878</td>\n",
              "      <td>0.041083</td>\n",
              "      <td>0.032534</td>\n",
              "      <td>0.145870</td>\n",
              "      <td>0.028293</td>\n",
              "      <td>0.027655</td>\n",
              "      <td>0.032823</td>\n",
              "      <td>0.047898</td>\n",
              "      <td>0.049767</td>\n",
              "      <td>0.032842</td>\n",
              "      <td>0.040788</td>\n",
              "      <td>0.066950</td>\n",
              "      <td>0.025077</td>\n",
              "      <td>0.045738</td>\n",
              "      <td>...</td>\n",
              "      <td>0.034334</td>\n",
              "      <td>0.023334</td>\n",
              "      <td>0.025487</td>\n",
              "      <td>0.032822</td>\n",
              "      <td>0.011298</td>\n",
              "      <td>0.024841</td>\n",
              "      <td>0.033438</td>\n",
              "      <td>0.027008</td>\n",
              "      <td>0.038734</td>\n",
              "      <td>0.060405</td>\n",
              "      <td>0.024048</td>\n",
              "      <td>0.048299</td>\n",
              "      <td>0.000000</td>\n",
              "      <td>0.015777</td>\n",
              "      <td>0.042096</td>\n",
              "      <td>0.038372</td>\n",
              "      <td>0.024532</td>\n",
              "      <td>0.040215</td>\n",
              "      <td>0.009420</td>\n",
              "      <td>0.030593</td>\n",
              "      <td>0.034800</td>\n",
              "      <td>0.023038</td>\n",
              "      <td>-0.022609</td>\n",
              "      <td>0.043818</td>\n",
              "      <td>0.027064</td>\n",
              "      <td>0.036059</td>\n",
              "      <td>0.034767</td>\n",
              "      <td>0.022455</td>\n",
              "      <td>0.042527</td>\n",
              "      <td>0.023750</td>\n",
              "      <td>0.059333</td>\n",
              "      <td>0.031371</td>\n",
              "      <td>-0.022936</td>\n",
              "      <td>0.047714</td>\n",
              "      <td>0.042173</td>\n",
              "      <td>0.031183</td>\n",
              "      <td>0.037462</td>\n",
              "      <td>0.083309</td>\n",
              "      <td>0.039413</td>\n",
              "      <td>0.026686</td>\n",
              "    </tr>\n",
              "    <tr>\n",
              "      <th>max</th>\n",
              "      <td>0.209340</td>\n",
              "      <td>0.262040</td>\n",
              "      <td>0.275430</td>\n",
              "      <td>0.438000</td>\n",
              "      <td>0.355880</td>\n",
              "      <td>0.229150</td>\n",
              "      <td>0.260180</td>\n",
              "      <td>0.237870</td>\n",
              "      <td>0.220060</td>\n",
              "      <td>0.273980</td>\n",
              "      <td>0.260770</td>\n",
              "      <td>0.254930</td>\n",
              "      <td>0.280510</td>\n",
              "      <td>0.288870</td>\n",
              "      <td>0.220500</td>\n",
              "      <td>0.275020</td>\n",
              "      <td>0.507530</td>\n",
              "      <td>0.251360</td>\n",
              "      <td>0.279660</td>\n",
              "      <td>0.332070</td>\n",
              "      <td>0.217010</td>\n",
              "      <td>0.289310</td>\n",
              "      <td>0.220100</td>\n",
              "      <td>0.232260</td>\n",
              "      <td>0.300280</td>\n",
              "      <td>0.235330</td>\n",
              "      <td>0.220060</td>\n",
              "      <td>0.292070</td>\n",
              "      <td>0.259340</td>\n",
              "      <td>0.634600</td>\n",
              "      <td>0.241480</td>\n",
              "      <td>0.237070</td>\n",
              "      <td>0.235380</td>\n",
              "      <td>0.340430</td>\n",
              "      <td>0.251980</td>\n",
              "      <td>0.252700</td>\n",
              "      <td>0.351350</td>\n",
              "      <td>0.350530</td>\n",
              "      <td>0.219970</td>\n",
              "      <td>0.241810</td>\n",
              "      <td>...</td>\n",
              "      <td>0.226750</td>\n",
              "      <td>0.326840</td>\n",
              "      <td>0.545940</td>\n",
              "      <td>0.254840</td>\n",
              "      <td>0.346120</td>\n",
              "      <td>0.220760</td>\n",
              "      <td>0.243110</td>\n",
              "      <td>0.202340</td>\n",
              "      <td>0.258940</td>\n",
              "      <td>0.412060</td>\n",
              "      <td>0.219750</td>\n",
              "      <td>0.250870</td>\n",
              "      <td>0.229440</td>\n",
              "      <td>0.359520</td>\n",
              "      <td>0.254010</td>\n",
              "      <td>0.258790</td>\n",
              "      <td>0.330820</td>\n",
              "      <td>0.311940</td>\n",
              "      <td>0.303530</td>\n",
              "      <td>0.320150</td>\n",
              "      <td>0.283780</td>\n",
              "      <td>0.202820</td>\n",
              "      <td>0.237040</td>\n",
              "      <td>0.263880</td>\n",
              "      <td>0.220060</td>\n",
              "      <td>0.287210</td>\n",
              "      <td>0.271920</td>\n",
              "      <td>0.299410</td>\n",
              "      <td>0.302750</td>\n",
              "      <td>0.222990</td>\n",
              "      <td>0.364810</td>\n",
              "      <td>0.219100</td>\n",
              "      <td>0.228330</td>\n",
              "      <td>0.240600</td>\n",
              "      <td>0.199970</td>\n",
              "      <td>0.237280</td>\n",
              "      <td>0.243500</td>\n",
              "      <td>0.368230</td>\n",
              "      <td>0.270260</td>\n",
              "      <td>0.250450</td>\n",
              "    </tr>\n",
              "  </tbody>\n",
              "</table>\n",
              "<p>8 rows × 300 columns</p>\n",
              "</div>"
            ],
            "text/plain": [
              "                 D1            D2  ...          D299          D300\n",
              "count  64711.000000  64711.000000  ...  64711.000000  64711.000000\n",
              "mean      -0.006206     -0.002843  ...      0.001496     -0.008239\n",
              "std        0.052567      0.050343  ...      0.056282      0.054391\n",
              "min       -0.258250     -0.258440  ...     -0.266290     -0.241880\n",
              "25%       -0.041028     -0.034393  ...     -0.035265     -0.043626\n",
              "50%       -0.007160     -0.002166  ...      0.003837     -0.008540\n",
              "75%        0.027857      0.029459  ...      0.039413      0.026686\n",
              "max        0.209340      0.262040  ...      0.270260      0.250450\n",
              "\n",
              "[8 rows x 300 columns]"
            ]
          },
          "metadata": {
            "tags": []
          },
          "execution_count": 31
        }
      ]
    },
    {
      "cell_type": "markdown",
      "metadata": {
        "id": "hsUuLKZmGOhs",
        "colab_type": "text"
      },
      "source": [
        "We now create an embedding dictionnary"
      ]
    },
    {
      "cell_type": "code",
      "metadata": {
        "id": "FODpVdjiGRcA",
        "colab_type": "code",
        "colab": {}
      },
      "source": [
        "EmbeddingsDict = dict(zip(Vals, Embeddings.values))"
      ],
      "execution_count": 0,
      "outputs": []
    },
    {
      "cell_type": "markdown",
      "metadata": {
        "id": "m92JVH4rGddQ",
        "colab_type": "text"
      },
      "source": [
        "To create the optimal embedding layer, we perform a study of our texts as follows:"
      ]
    },
    {
      "cell_type": "code",
      "metadata": {
        "id": "_KFvHnWDGkMm",
        "colab_type": "code",
        "outputId": "25f1db3a-4094-4d40-ee40-0eaaa2be6cb2",
        "colab": {
          "base_uri": "https://localhost:8080/",
          "height": 317
        }
      },
      "source": [
        "import seaborn as sns\n",
        "import numpy as np\n",
        "%matplotlib inline\n",
        "\n",
        "wordDist = [len(w.split()) for w in data2.iloc[:,0]]\n",
        "print('Avg. no of words: ' + str(np.round(np.mean(wordDist), 2)))\n",
        "print('Std. deviation: ' + str(np.round(np.std(wordDist), 2)))\n",
        "print('Max words: ' + str(np.max(wordDist)))\n",
        "\n",
        "\n",
        "distIMDB = sns.distplot(wordDist)\n",
        "\n",
        "\n",
        "distIMDB.figure.savefig(\"wordDist.pdf\", format = \"pdf\")"
      ],
      "execution_count": 0,
      "outputs": [
        {
          "output_type": "stream",
          "text": [
            "Avg. no of words: 37.87\n",
            "Std. deviation: 28.49\n",
            "Max words: 1084\n"
          ],
          "name": "stdout"
        },
        {
          "output_type": "display_data",
          "data": {
            "image/png": "[encoded data removed]",
            "text/plain": [
              "<Figure size 432x288 with 1 Axes>"
            ]
          },
          "metadata": {
            "tags": []
          }
        }
      ]
    },
    {
      "cell_type": "markdown",
      "metadata": {
        "id": "hoMzp6rpHTQb",
        "colab_type": "text"
      },
      "source": [
        "We will use 300 as our maximum for the paddings"
      ]
    },
    {
      "cell_type": "code",
      "metadata": {
        "id": "D1h3K2AQHfsh",
        "colab_type": "code",
        "outputId": "d535b4d2-d16f-4a7e-83ed-b0063cf09369",
        "colab": {
          "base_uri": "https://localhost:8080/",
          "height": 69
        }
      },
      "source": [
        "sequences = tokenizer.texts_to_sequences(data2.iloc[:,0]) \n",
        "\n",
        "word_index = tokenizer.word_index\n",
        "print('Found %s unique tokens.' % len(word_index))\n",
        "\n",
        "\n",
        "data = pad_sequences(sequences, maxlen=300, \n",
        "                     padding = 'post') \n",
        "\n",
        "labels = data2.iloc[:,1]\n",
        "print('Shape of data tensor:', data.shape)\n",
        "print('Shape of label tensor:', labels.shape)"
      ],
      "execution_count": 0,
      "outputs": [
        {
          "output_type": "stream",
          "text": [
            "Found 64711 unique tokens.\n",
            "Shape of data tensor: (71644, 300)\n",
            "Shape of label tensor: (71644,)\n"
          ],
          "name": "stdout"
        }
      ]
    },
    {
      "cell_type": "markdown",
      "metadata": {
        "id": "FwnPEkRwIXDf",
        "colab_type": "text"
      },
      "source": [
        "We save our output as follows:"
      ]
    },
    {
      "cell_type": "code",
      "metadata": {
        "id": "G2BmtuijIZXy",
        "colab_type": "code",
        "colab": {}
      },
      "source": [
        "!mkdir data2_Preprocessed\n",
        "\n",
        "\n",
        "np.savetxt(\"data2_Preprocessed/data2_Padded.txt\", data)\n",
        "np.savetxt(\"data2_Preprocessed/data2_Labels.txt\", labels)"
      ],
      "execution_count": 0,
      "outputs": []
    },
    {
      "cell_type": "code",
      "metadata": {
        "id": "ibktSzmyJQj3",
        "colab_type": "code",
        "outputId": "d29a8986-9663-4809-acab-1acc2bb0e41f",
        "colab": {
          "base_uri": "https://localhost:8080/",
          "height": 607
        }
      },
      "source": [
        "data[0]"
      ],
      "execution_count": 0,
      "outputs": [
        {
          "output_type": "execute_result",
          "data": {
            "text/plain": [
              "array([  131,   146,   134,  1269,     4,    50,    56,    29, 10718,\n",
              "         140,   633,   134,  5415,   510,     6,  1651,    90,   640,\n",
              "          15,     4,   111,   227,     1,    43,  2510,    31,     0,\n",
              "           0,     0,     0,     0,     0,     0,     0,     0,     0,\n",
              "           0,     0,     0,     0,     0,     0,     0,     0,     0,\n",
              "           0,     0,     0,     0,     0,     0,     0,     0,     0,\n",
              "           0,     0,     0,     0,     0,     0,     0,     0,     0,\n",
              "           0,     0,     0,     0,     0,     0,     0,     0,     0,\n",
              "           0,     0,     0,     0,     0,     0,     0,     0,     0,\n",
              "           0,     0,     0,     0,     0,     0,     0,     0,     0,\n",
              "           0,     0,     0,     0,     0,     0,     0,     0,     0,\n",
              "           0,     0,     0,     0,     0,     0,     0,     0,     0,\n",
              "           0,     0,     0,     0,     0,     0,     0,     0,     0,\n",
              "           0,     0,     0,     0,     0,     0,     0,     0,     0,\n",
              "           0,     0,     0,     0,     0,     0,     0,     0,     0,\n",
              "           0,     0,     0,     0,     0,     0,     0,     0,     0,\n",
              "           0,     0,     0,     0,     0,     0,     0,     0,     0,\n",
              "           0,     0,     0,     0,     0,     0,     0,     0,     0,\n",
              "           0,     0,     0,     0,     0,     0,     0,     0,     0,\n",
              "           0,     0,     0,     0,     0,     0,     0,     0,     0,\n",
              "           0,     0,     0,     0,     0,     0,     0,     0,     0,\n",
              "           0,     0,     0,     0,     0,     0,     0,     0,     0,\n",
              "           0,     0,     0,     0,     0,     0,     0,     0,     0,\n",
              "           0,     0,     0,     0,     0,     0,     0,     0,     0,\n",
              "           0,     0,     0,     0,     0,     0,     0,     0,     0,\n",
              "           0,     0,     0,     0,     0,     0,     0,     0,     0,\n",
              "           0,     0,     0,     0,     0,     0,     0,     0,     0,\n",
              "           0,     0,     0,     0,     0,     0,     0,     0,     0,\n",
              "           0,     0,     0,     0,     0,     0,     0,     0,     0,\n",
              "           0,     0,     0,     0,     0,     0,     0,     0,     0,\n",
              "           0,     0,     0,     0,     0,     0,     0,     0,     0,\n",
              "           0,     0,     0,     0,     0,     0,     0,     0,     0,\n",
              "           0,     0,     0,     0,     0,     0,     0,     0,     0,\n",
              "           0,     0,     0], dtype=int32)"
            ]
          },
          "metadata": {
            "tags": []
          },
          "execution_count": 97
        }
      ]
    },
    {
      "cell_type": "markdown",
      "metadata": {
        "id": "9n4tOWgbJgrc",
        "colab_type": "text"
      },
      "source": [
        "We now move to constructing our embedding matrix"
      ]
    },
    {
      "cell_type": "code",
      "metadata": {
        "id": "Wz2BSYNVJjDC",
        "colab_type": "code",
        "outputId": "25946968-2a2a-4f2b-9a78-0166dd3d8741",
        "colab": {
          "base_uri": "https://localhost:8080/",
          "height": 243
        }
      },
      "source": [
        "embedding_matrix = np.zeros((len(word_index) + 1, 300))\n",
        "\n",
        "\n",
        "for word, i in word_index.items():\n",
        "    embedding_vector = EmbeddingsDict.get(word)\n",
        "    if embedding_vector is not None:\n",
        "\n",
        "        embedding_matrix[i] = embedding_vector\n",
        "\n",
        "\n",
        "embedding_matrix"
      ],
      "execution_count": 0,
      "outputs": [
        {
          "output_type": "execute_result",
          "data": {
            "text/plain": [
              "array([[ 0.       ,  0.       ,  0.       , ...,  0.       ,  0.       ,\n",
              "         0.       ],\n",
              "       [-0.004642 , -0.083334 ,  0.023629 , ...,  0.045288 ,  0.0014906,\n",
              "         0.01088  ],\n",
              "       [-0.035324 ,  0.036819 ,  0.044501 , ...,  0.21608  ,  0.026943 ,\n",
              "         0.043907 ],\n",
              "       ...,\n",
              "       [ 0.025399 , -0.0035609, -0.0026594, ...,  0.062831 , -0.059811 ,\n",
              "        -0.051558 ],\n",
              "       [-0.05492  ,  0.038278 , -0.014138 , ...,  0.031413 , -0.0369   ,\n",
              "        -0.042412 ],\n",
              "       [ 0.05704  ,  0.011737 , -0.057967 , ...,  0.038313 , -0.035208 ,\n",
              "        -0.004399 ]])"
            ]
          },
          "metadata": {
            "tags": []
          },
          "execution_count": 36
        }
      ]
    },
    {
      "cell_type": "code",
      "metadata": {
        "id": "g3UlYJKkKcl6",
        "colab_type": "code",
        "colab": {}
      },
      "source": [
        "np.savetxt(\"data2_EmbeddingMatrix.txt\", embedding_matrix)"
      ],
      "execution_count": 0,
      "outputs": []
    },
    {
      "cell_type": "code",
      "metadata": {
        "id": "qmwzUCdHKmTA",
        "colab_type": "code",
        "colab": {}
      },
      "source": [
        "import pickle\n",
        "f = open(\"WordDictionary.pkl\",\"wb\")\n",
        "pickle.dump(word_index, f)\n",
        "f.close()"
      ],
      "execution_count": 0,
      "outputs": []
    },
    {
      "cell_type": "code",
      "metadata": {
        "id": "p5RtpIVYKpV2",
        "colab_type": "code",
        "outputId": "a121f438-4776-489b-bc18-04a32dea4842",
        "colab": {
          "base_uri": "https://localhost:8080/",
          "height": 69
        }
      },
      "source": [
        "!zip -r data2_Preprocessed.zip data2_Preprocessed "
      ],
      "execution_count": 0,
      "outputs": [
        {
          "output_type": "stream",
          "text": [
            "  adding: data2_Preprocessed/ (stored 0%)\n",
            "  adding: data2_Preprocessed/data2_Padded.txt (deflated 98%)\n",
            "  adding: data2_Preprocessed/data2_Labels.txt (deflated 99%)\n"
          ],
          "name": "stdout"
        }
      ]
    },
    {
      "cell_type": "markdown",
      "metadata": {
        "id": "zKI5SxkjLLhW",
        "colab_type": "text"
      },
      "source": [
        "We are now ready to create our model and add the aove embedding layer to it"
      ]
    },
    {
      "cell_type": "markdown",
      "metadata": {
        "id": "F5FsrcBexa6r",
        "colab_type": "text"
      },
      "source": [
        "Glove"
      ]
    },
    {
      "cell_type": "code",
      "metadata": {
        "id": "VTPeMfsmxcXE",
        "colab_type": "code",
        "outputId": "093e7629-7378-4c44-d881-4da74d9b63e0",
        "colab": {
          "base_uri": "https://localhost:8080/",
          "height": 34
        }
      },
      "source": [
        "import pandas as pd\n",
        "import numpy as np\n",
        "import re\n",
        "import nltk\n",
        "from nltk.corpus import stopwords\n",
        "\n",
        "from numpy import array\n",
        "from keras.preprocessing.text import one_hot\n",
        "from keras.preprocessing.sequence import pad_sequences\n",
        "from keras.models import Sequential\n",
        "from keras.layers.core import Activation, Dropout, Dense\n",
        "from keras.layers import Flatten\n",
        "from keras.layers import GlobalMaxPooling1D\n",
        "from keras.layers.embeddings import Embedding\n",
        "from sklearn.model_selection import train_test_split\n",
        "from keras.preprocessing.text import Tokenizer"
      ],
      "execution_count": 0,
      "outputs": [
        {
          "output_type": "stream",
          "text": [
            "Using TensorFlow backend.\n"
          ],
          "name": "stderr"
        }
      ]
    },
    {
      "cell_type": "code",
      "metadata": {
        "id": "uGy-P03Jxl7n",
        "colab_type": "code",
        "outputId": "fcf6e8ad-98c8-4967-812d-ddae3e91ff7c",
        "colab": {
          "base_uri": "https://localhost:8080/",
          "height": 206
        }
      },
      "source": [
        "data2.head()"
      ],
      "execution_count": 0,
      "outputs": [
        {
          "output_type": "execute_result",
          "data": {
            "text/html": [
              "<div>\n",
              "<style scoped>\n",
              "    .dataframe tbody tr th:only-of-type {\n",
              "        vertical-align: middle;\n",
              "    }\n",
              "\n",
              "    .dataframe tbody tr th {\n",
              "        vertical-align: top;\n",
              "    }\n",
              "\n",
              "    .dataframe thead th {\n",
              "        text-align: right;\n",
              "    }\n",
              "</style>\n",
              "<table border=\"1\" class=\"dataframe\">\n",
              "  <thead>\n",
              "    <tr style=\"text-align: right;\">\n",
              "      <th></th>\n",
              "      <th>text</th>\n",
              "      <th>sentiment</th>\n",
              "      <th>confidence</th>\n",
              "      <th>Num_Count</th>\n",
              "      <th>Phrase_Length</th>\n",
              "      <th>Char_Num</th>\n",
              "      <th>Upper_Count</th>\n",
              "      <th>Lower_Count</th>\n",
              "    </tr>\n",
              "  </thead>\n",
              "  <tbody>\n",
              "    <tr>\n",
              "      <th>7</th>\n",
              "      <td>looking forward many uses this product am an e...</td>\n",
              "      <td>1</td>\n",
              "      <td>1.1</td>\n",
              "      <td>0</td>\n",
              "      <td>33</td>\n",
              "      <td>136</td>\n",
              "      <td>1</td>\n",
              "      <td>135</td>\n",
              "    </tr>\n",
              "    <tr>\n",
              "      <th>8</th>\n",
              "      <td>hi looking forward getting this product what s...</td>\n",
              "      <td>1</td>\n",
              "      <td>1.2</td>\n",
              "      <td>0</td>\n",
              "      <td>78</td>\n",
              "      <td>315</td>\n",
              "      <td>10</td>\n",
              "      <td>305</td>\n",
              "    </tr>\n",
              "    <tr>\n",
              "      <th>19</th>\n",
              "      <td>imran thank so much we are all so excited</td>\n",
              "      <td>1</td>\n",
              "      <td>1.3</td>\n",
              "      <td>0</td>\n",
              "      <td>10</td>\n",
              "      <td>36</td>\n",
              "      <td>3</td>\n",
              "      <td>33</td>\n",
              "    </tr>\n",
              "    <tr>\n",
              "      <th>29</th>\n",
              "      <td>received stencils in france there were no addi...</td>\n",
              "      <td>1</td>\n",
              "      <td>2.0</td>\n",
              "      <td>0</td>\n",
              "      <td>25</td>\n",
              "      <td>117</td>\n",
              "      <td>4</td>\n",
              "      <td>113</td>\n",
              "    </tr>\n",
              "    <tr>\n",
              "      <th>31</th>\n",
              "      <td>hi its great just received mine im pretty exit...</td>\n",
              "      <td>1</td>\n",
              "      <td>2.0</td>\n",
              "      <td>0</td>\n",
              "      <td>39</td>\n",
              "      <td>154</td>\n",
              "      <td>8</td>\n",
              "      <td>146</td>\n",
              "    </tr>\n",
              "  </tbody>\n",
              "</table>\n",
              "</div>"
            ],
            "text/plain": [
              "                                                 text  ...  Lower_Count\n",
              "7   looking forward many uses this product am an e...  ...          135\n",
              "8   hi looking forward getting this product what s...  ...          305\n",
              "19          imran thank so much we are all so excited  ...           33\n",
              "29  received stencils in france there were no addi...  ...          113\n",
              "31  hi its great just received mine im pretty exit...  ...          146\n",
              "\n",
              "[5 rows x 8 columns]"
            ]
          },
          "metadata": {
            "tags": []
          },
          "execution_count": 41
        }
      ]
    },
    {
      "cell_type": "code",
      "metadata": {
        "id": "yBkwmhjiyPaS",
        "colab_type": "code",
        "colab": {}
      },
      "source": [
        "X_train, X_test, y_train, y_test = train_test_split(data2['text'], data2['sentiment'], test_size=0.33, random_state=250620279)\n"
      ],
      "execution_count": 0,
      "outputs": []
    },
    {
      "cell_type": "markdown",
      "metadata": {
        "id": "CNxnfjYX0hKR",
        "colab_type": "text"
      },
      "source": [
        "We now move to writing the code to our Glove embedding layer which will convert our comments into numeric data"
      ]
    },
    {
      "cell_type": "code",
      "metadata": {
        "id": "Yk1XjsrX1BKE",
        "colab_type": "code",
        "colab": {}
      },
      "source": [
        "tokenizer = Tokenizer(num_words=5000)\n",
        "tokenizer.fit_on_texts(X_train)\n",
        "\n",
        "X_train = tokenizer.texts_to_sequences(X_train)\n",
        "X_test = tokenizer.texts_to_sequences(X_test)"
      ],
      "execution_count": 0,
      "outputs": []
    },
    {
      "cell_type": "markdown",
      "metadata": {
        "id": "BZ5uxZNY1I1B",
        "colab_type": "text"
      },
      "source": [
        "We then move to performing padding using 300 as our maximum length size"
      ]
    },
    {
      "cell_type": "code",
      "metadata": {
        "id": "7BOAZyJR1M_L",
        "colab_type": "code",
        "colab": {}
      },
      "source": [
        "vocab_size = len(tokenizer.word_index) + 1\n",
        "\n",
        "maxlen = 300\n",
        "\n",
        "X_train = pad_sequences(X_train, padding='post', maxlen=maxlen)\n",
        "X_test = pad_sequences(X_test, padding='post', maxlen=maxlen)"
      ],
      "execution_count": 0,
      "outputs": []
    },
    {
      "cell_type": "code",
      "metadata": {
        "id": "nUPtkzIoCf5T",
        "colab_type": "code",
        "outputId": "a68df56c-8ef2-4d15-8b05-2660616ad47f",
        "colab": {
          "base_uri": "https://localhost:8080/",
          "height": 124
        }
      },
      "source": [
        "from google.colab import drive\n",
        "drive.mount('/content/drive')"
      ],
      "execution_count": 0,
      "outputs": [
        {
          "output_type": "stream",
          "text": [
            "Go to this URL in a browser: https://accounts.google.com/o/oauth2/auth?client_id=947318989803-6bn6qk8qdgf4n4g3pfee6491hc0brc4i.apps.googleusercontent.com&redirect_uri=urn%3aietf%3awg%3aoauth%3a2.0%3aoob&response_type=code&scope=email%20https%3a%2f%2fwww.googleapis.com%2fauth%2fdocs.test%20https%3a%2f%2fwww.googleapis.com%2fauth%2fdrive%20https%3a%2f%2fwww.googleapis.com%2fauth%2fdrive.photos.readonly%20https%3a%2f%2fwww.googleapis.com%2fauth%2fpeopleapi.readonly\n",
            "\n",
            "Enter your authorization code:\n",
            "··········\n",
            "Mounted at /content/drive\n"
          ],
          "name": "stdout"
        }
      ]
    },
    {
      "cell_type": "code",
      "metadata": {
        "id": "OzpaWdr91UK2",
        "colab_type": "code",
        "colab": {}
      },
      "source": [
        "from numpy import array\n",
        "from numpy import asarray\n",
        "from numpy import zeros\n",
        "\n",
        "embeddings_dictionary = dict()\n",
        "glove_file = open(\"/content/drive/My Drive/Banking Analytics/Coursework #3/glove.6B.300d.txt\", encoding=\"utf8\")\n",
        "\n",
        "for line in glove_file:\n",
        "    records = line.split()\n",
        "    word = records[0]\n",
        "    vector_dimensions = asarray(records[1:], dtype='float32')\n",
        "    embeddings_dictionary [word] = vector_dimensions\n",
        "glove_file.close()"
      ],
      "execution_count": 0,
      "outputs": []
    },
    {
      "cell_type": "markdown",
      "metadata": {
        "id": "K68hw1LQK5dP",
        "colab_type": "text"
      },
      "source": [
        "We now move to creating our Embedding Matrix as follows:"
      ]
    },
    {
      "cell_type": "code",
      "metadata": {
        "id": "VLrGOQmgLS0f",
        "colab_type": "code",
        "colab": {}
      },
      "source": [
        "embedding_matrix1 = zeros((vocab_size, 300))\n",
        "for word, index in tokenizer.word_index.items():\n",
        "    embedding_vector1 = embeddings_dictionary.get(word)\n",
        "    if embedding_vector1 is not None:\n",
        "        embedding_matrix1[index] = embedding_vector1"
      ],
      "execution_count": 0,
      "outputs": []
    },
    {
      "cell_type": "code",
      "metadata": {
        "id": "-P_WAovFLe9x",
        "colab_type": "code",
        "outputId": "3d6cdcab-af75-4923-a22c-15a3896c150a",
        "colab": {
          "base_uri": "https://localhost:8080/",
          "height": 243
        }
      },
      "source": [
        "embedding_matrix1"
      ],
      "execution_count": 0,
      "outputs": [
        {
          "output_type": "execute_result",
          "data": {
            "text/plain": [
              "array([[ 0.        ,  0.        ,  0.        , ...,  0.        ,\n",
              "         0.        ,  0.        ],\n",
              "       [-0.44398999,  0.12817   , -0.25246999, ..., -0.20043001,\n",
              "        -0.082191  , -0.06255   ],\n",
              "       [-0.18256   ,  0.49851   , -0.1639    , ..., -0.27224001,\n",
              "        -0.19107001, -0.094104  ],\n",
              "       ...,\n",
              "       [ 0.11354   ,  0.020622  ,  0.22135   , ...,  0.33364001,\n",
              "        -0.067815  ,  0.59777999],\n",
              "       [ 0.        ,  0.        ,  0.        , ...,  0.        ,\n",
              "         0.        ,  0.        ],\n",
              "       [-0.35679999, -0.21089999, -0.45232999, ..., -0.21416   ,\n",
              "         0.31127   , -0.20138   ]])"
            ]
          },
          "metadata": {
            "tags": []
          },
          "execution_count": 48
        }
      ]
    },
    {
      "cell_type": "markdown",
      "metadata": {
        "id": "cpvcyfrbY6qt",
        "colab_type": "text"
      },
      "source": [
        "**Architectures**"
      ]
    },
    {
      "cell_type": "markdown",
      "metadata": {
        "id": "XsSaBc_1qwjI",
        "colab_type": "text"
      },
      "source": [
        "Kim's Model-With Softmax Embedding"
      ]
    },
    {
      "cell_type": "code",
      "metadata": {
        "id": "CNSOBhPQz0dK",
        "colab_type": "code",
        "outputId": "fa34966f-0df5-45c5-eeb4-4803cd41a6b9",
        "colab": {
          "base_uri": "https://localhost:8080/",
          "height": 34
        }
      },
      "source": [
        "\n",
        "%tensorflow_version 2.x\n",
        "\n",
        "\n",
        "import tensorflow as tf\n",
        "import tensorflow.keras as keras\n",
        "from tensorflow.keras.utils import get_file\n",
        "from tensorflow.keras.utils import to_categorical\n",
        "from tensorflow.keras.models import Sequential, Model\n",
        "from tensorflow.keras.layers import *\n",
        "from tensorflow.keras.optimizers import Adam\n",
        "from tensorflow.keras.metrics import categorical_accuracy\n",
        "from tensorflow.keras.preprocessing import image, sequence\n",
        "from tensorflow.keras.preprocessing.text import Tokenizer\n",
        "from tensorflow.keras.preprocessing.sequence import pad_sequences"
      ],
      "execution_count": 0,
      "outputs": [
        {
          "output_type": "stream",
          "text": [
            "TensorFlow is already loaded. Please restart the runtime to change versions.\n"
          ],
          "name": "stdout"
        }
      ]
    },
    {
      "cell_type": "code",
      "metadata": {
        "id": "CCyPMTViz3u6",
        "colab_type": "code",
        "colab": {}
      },
      "source": [
        "import numpy as np\n",
        "from sklearn.model_selection import train_test_split\n",
        "from sklearn.metrics import roc_curve, auc\n",
        "import matplotlib.pyplot as plt\n",
        "import seaborn as sns\n",
        "%matplotlib inline"
      ],
      "execution_count": 0,
      "outputs": []
    },
    {
      "cell_type": "code",
      "metadata": {
        "id": "PjE6JnM8zZyI",
        "colab_type": "code",
        "colab": {}
      },
      "source": [
        "X_train, X_test, y_train, y_test = train_test_split(data, labels, test_size=0.33,\n",
        "                                                    random_state=250620279, \n",
        "                                                    stratify = labels)"
      ],
      "execution_count": 0,
      "outputs": []
    },
    {
      "cell_type": "code",
      "metadata": {
        "id": "q1a2Ib4zszPK",
        "colab_type": "code",
        "outputId": "9805ca75-eb10-4b7b-8da2-f2c3c23fbe21",
        "colab": {
          "base_uri": "https://localhost:8080/",
          "height": 766
        }
      },
      "source": [
        "filter_sizes = (3,5,7,8)\n",
        "\n",
        "\n",
        "graph_in = Input(shape=(600, 300))\n",
        "convs = []\n",
        "avgs = []\n",
        "\n",
        "\n",
        "for fsz in filter_sizes:\n",
        "    conv = Conv1D(filters=64,\n",
        "                  kernel_size=fsz,\n",
        "                         padding='valid',\n",
        "                         activation='relu',\n",
        "                         strides=1)(graph_in) \n",
        "    pool = MaxPooling1D(pool_size=300 - fsz + 1)(conv) \n",
        "    flattenMax = Flatten()(pool) \n",
        "    convs.append(flattenMax) \n",
        "    \n",
        "\n",
        "if len(filter_sizes)>1:\n",
        "    out = Concatenate()(convs)\n",
        "else:\n",
        "    out = convs[0]\n",
        "\n",
        "graph = Model(inputs=graph_in, outputs=out, name=\"graphModel\")\n",
        "\n",
        "graph.summary()"
      ],
      "execution_count": 0,
      "outputs": [
        {
          "output_type": "stream",
          "text": [
            "WARNING:tensorflow:From /usr/local/lib/python3.6/dist-packages/tensorflow_core/python/ops/resource_variable_ops.py:1630: calling BaseResourceVariable.__init__ (from tensorflow.python.ops.resource_variable_ops) with constraint is deprecated and will be removed in a future version.\n",
            "Instructions for updating:\n",
            "If using Keras pass *_constraint arguments to layers.\n",
            "Model: \"graphModel\"\n",
            "__________________________________________________________________________________________________\n",
            "Layer (type)                    Output Shape         Param #     Connected to                     \n",
            "==================================================================================================\n",
            "input_1 (InputLayer)            [(None, 600, 300)]   0                                            \n",
            "__________________________________________________________________________________________________\n",
            "conv1d (Conv1D)                 (None, 598, 64)      57664       input_1[0][0]                    \n",
            "__________________________________________________________________________________________________\n",
            "conv1d_1 (Conv1D)               (None, 596, 64)      96064       input_1[0][0]                    \n",
            "__________________________________________________________________________________________________\n",
            "conv1d_2 (Conv1D)               (None, 594, 64)      134464      input_1[0][0]                    \n",
            "__________________________________________________________________________________________________\n",
            "conv1d_3 (Conv1D)               (None, 593, 64)      153664      input_1[0][0]                    \n",
            "__________________________________________________________________________________________________\n",
            "max_pooling1d (MaxPooling1D)    (None, 2, 64)        0           conv1d[0][0]                     \n",
            "__________________________________________________________________________________________________\n",
            "max_pooling1d_1 (MaxPooling1D)  (None, 2, 64)        0           conv1d_1[0][0]                   \n",
            "__________________________________________________________________________________________________\n",
            "max_pooling1d_2 (MaxPooling1D)  (None, 2, 64)        0           conv1d_2[0][0]                   \n",
            "__________________________________________________________________________________________________\n",
            "max_pooling1d_3 (MaxPooling1D)  (None, 2, 64)        0           conv1d_3[0][0]                   \n",
            "__________________________________________________________________________________________________\n",
            "flatten (Flatten)               (None, 128)          0           max_pooling1d[0][0]              \n",
            "__________________________________________________________________________________________________\n",
            "flatten_1 (Flatten)             (None, 128)          0           max_pooling1d_1[0][0]            \n",
            "__________________________________________________________________________________________________\n",
            "flatten_2 (Flatten)             (None, 128)          0           max_pooling1d_2[0][0]            \n",
            "__________________________________________________________________________________________________\n",
            "flatten_3 (Flatten)             (None, 128)          0           max_pooling1d_3[0][0]            \n",
            "__________________________________________________________________________________________________\n",
            "concatenate (Concatenate)       (None, 512)          0           flatten[0][0]                    \n",
            "                                                                 flatten_1[0][0]                  \n",
            "                                                                 flatten_2[0][0]                  \n",
            "                                                                 flatten_3[0][0]                  \n",
            "==================================================================================================\n",
            "Total params: 441,856\n",
            "Trainable params: 441,856\n",
            "Non-trainable params: 0\n",
            "__________________________________________________________________________________________________\n"
          ],
          "name": "stdout"
        }
      ]
    },
    {
      "cell_type": "code",
      "metadata": {
        "id": "xo1viBZbtzNE",
        "colab_type": "code",
        "outputId": "e710ca02-f49f-4293-cc97-f8cb4c89c283",
        "colab": {
          "base_uri": "https://localhost:8080/",
          "height": 275
        }
      },
      "source": [
        "import matplotlib.pyplot as plt\n",
        "from tensorflow.keras.utils import plot_model\n",
        "from IPython.display import Image\n",
        "%matplotlib inline\n",
        "\n",
        "plot_model(graph, show_shapes=True, show_layer_names=True, to_file='GraphModel.png')\n",
        "Image(retina=True, filename='GraphModel.png')"
      ],
      "execution_count": 0,
      "outputs": [
        {
          "output_type": "execute_result",
          "data": {
            "image/png": "[encoded data removed]",
            "text/plain": [
              "<IPython.core.display.Image object>"
            ]
          },
          "metadata": {
            "tags": [],
            "image/png": {
              "width": 999,
              "height": 258
            }
          },
          "execution_count": 53
        }
      ]
    },
    {
      "cell_type": "code",
      "metadata": {
        "id": "y88VQSY-uACY",
        "colab_type": "code",
        "outputId": "899578ff-fd46-4485-a87f-291a8aefcf5d",
        "colab": {
          "base_uri": "https://localhost:8080/",
          "height": 141
        }
      },
      "source": [
        "model = Sequential()\n",
        "embedding_layer = Embedding(len(embedding_matrix),          \n",
        "                            300,                           \n",
        "                            weights=[embedding_matrix],    \n",
        "                            input_length=300,             \n",
        "                            trainable=False)               \n",
        "\n",
        "model.add(embedding_layer)\n",
        "\n",
        "\n",
        "model.add(graph)\n",
        "\n",
        "\n",
        "model.add(Dense(64, activation='relu'))\n",
        "model.add(Dropout(0.5))\n",
        "model.add(Dense(1, activation='sigmoid'))\n",
        "\n",
        "\n",
        "model.compile(loss='binary_crossentropy',\n",
        "              optimizer='adam',\n",
        "              metrics=['acc'])"
      ],
      "execution_count": 0,
      "outputs": [
        {
          "output_type": "stream",
          "text": [
            "WARNING:tensorflow:From /usr/local/lib/python3.6/dist-packages/tensorflow_core/python/keras/initializers.py:119: calling RandomUniform.__init__ (from tensorflow.python.ops.init_ops) with dtype is deprecated and will be removed in a future version.\n",
            "Instructions for updating:\n",
            "Call initializer instance with the dtype argument instead of passing it to the constructor\n",
            "WARNING:tensorflow:From /usr/local/lib/python3.6/dist-packages/tensorflow_core/python/ops/nn_impl.py:183: where (from tensorflow.python.ops.array_ops) is deprecated and will be removed in a future version.\n",
            "Instructions for updating:\n",
            "Use tf.where in 2.0, which has the same broadcast rule as np.where\n"
          ],
          "name": "stdout"
        }
      ]
    },
    {
      "cell_type": "code",
      "metadata": {
        "id": "iTc2Lw-quTNn",
        "colab_type": "code",
        "outputId": "b94e321a-f9cf-4fa1-c251-4578fab7dcc6",
        "colab": {
          "base_uri": "https://localhost:8080/",
          "height": 330
        }
      },
      "source": [
        "model.summary()"
      ],
      "execution_count": 0,
      "outputs": [
        {
          "output_type": "stream",
          "text": [
            "Model: \"sequential\"\n",
            "_________________________________________________________________\n",
            "Layer (type)                 Output Shape              Param #   \n",
            "=================================================================\n",
            "embedding (Embedding)        (None, 300, 300)          19413600  \n",
            "_________________________________________________________________\n",
            "graphModel (Model)           multiple                  441856    \n",
            "_________________________________________________________________\n",
            "dense (Dense)                (None, 64)                16448     \n",
            "_________________________________________________________________\n",
            "dropout (Dropout)            (None, 64)                0         \n",
            "_________________________________________________________________\n",
            "dense_1 (Dense)              (None, 1)                 65        \n",
            "=================================================================\n",
            "Total params: 19,871,969\n",
            "Trainable params: 458,369\n",
            "Non-trainable params: 19,413,600\n",
            "_________________________________________________________________\n"
          ],
          "name": "stdout"
        }
      ]
    },
    {
      "cell_type": "code",
      "metadata": {
        "id": "kcyMm1B9uZk6",
        "colab_type": "code",
        "outputId": "9c46c4e2-5012-4764-c572-308cd9dc46e9",
        "colab": {
          "base_uri": "https://localhost:8080/",
          "height": 330
        }
      },
      "source": [
        "import matplotlib.pyplot as plt\n",
        "from tensorflow.keras.utils import plot_model\n",
        "from IPython.display import Image\n",
        "%matplotlib inline\n",
        "\n",
        "plot_model(model, show_shapes=True, show_layer_names=True, to_file='model.png')\n",
        "Image(retina=True, filename='model.png')"
      ],
      "execution_count": 0,
      "outputs": [
        {
          "output_type": "execute_result",
          "data": {
            "image/png": "[encoded data removed]",
            "text/plain": [
              "<IPython.core.display.Image object>"
            ]
          },
          "metadata": {
            "tags": [],
            "image/png": {
              "width": 218,
              "height": 313
            }
          },
          "execution_count": 56
        }
      ]
    },
    {
      "cell_type": "code",
      "metadata": {
        "id": "U2zT3Ib_udGT",
        "colab_type": "code",
        "outputId": "44e72dfb-95b0-43fe-e6d8-28979b04d42a",
        "colab": {
          "base_uri": "https://localhost:8080/",
          "height": 399
        }
      },
      "source": [
        "model.fit(X_train, y_train, validation_split=0.33, epochs=10, batch_size=5000)"
      ],
      "execution_count": 0,
      "outputs": [
        {
          "output_type": "stream",
          "text": [
            "Train on 32160 samples, validate on 15841 samples\n",
            "Epoch 1/10\n",
            "32160/32160 [==============================] - 26s 796us/sample - loss: 0.6073 - acc: 0.7009 - val_loss: 0.5531 - val_acc: 0.7003\n",
            "Epoch 2/10\n",
            "32160/32160 [==============================] - 14s 442us/sample - loss: 0.5190 - acc: 0.7095 - val_loss: 0.4642 - val_acc: 0.7140\n",
            "Epoch 3/10\n",
            "32160/32160 [==============================] - 14s 443us/sample - loss: 0.4320 - acc: 0.7730 - val_loss: 0.3835 - val_acc: 0.8370\n",
            "Epoch 4/10\n",
            "32160/32160 [==============================] - 14s 444us/sample - loss: 0.3633 - acc: 0.8494 - val_loss: 0.3290 - val_acc: 0.8636\n",
            "Epoch 5/10\n",
            "32160/32160 [==============================] - 14s 444us/sample - loss: 0.3192 - acc: 0.8687 - val_loss: 0.2953 - val_acc: 0.8728\n",
            "Epoch 6/10\n",
            "32160/32160 [==============================] - 14s 446us/sample - loss: 0.2905 - acc: 0.8794 - val_loss: 0.2772 - val_acc: 0.8791\n",
            "Epoch 7/10\n",
            "32160/32160 [==============================] - 14s 445us/sample - loss: 0.2689 - acc: 0.8896 - val_loss: 0.2649 - val_acc: 0.8844\n",
            "Epoch 8/10\n",
            "32160/32160 [==============================] - 14s 447us/sample - loss: 0.2494 - acc: 0.8988 - val_loss: 0.2555 - val_acc: 0.8890\n",
            "Epoch 9/10\n",
            "32160/32160 [==============================] - 14s 448us/sample - loss: 0.2330 - acc: 0.9063 - val_loss: 0.2452 - val_acc: 0.8933\n",
            "Epoch 10/10\n",
            "32160/32160 [==============================] - 14s 449us/sample - loss: 0.2175 - acc: 0.9135 - val_loss: 0.2385 - val_acc: 0.8958\n"
          ],
          "name": "stdout"
        },
        {
          "output_type": "execute_result",
          "data": {
            "text/plain": [
              "<tensorflow.python.keras.callbacks.History at 0x7f706239fba8>"
            ]
          },
          "metadata": {
            "tags": []
          },
          "execution_count": 57
        }
      ]
    },
    {
      "cell_type": "code",
      "metadata": {
        "id": "jN5AVjZM43Er",
        "colab_type": "code",
        "outputId": "54f773c0-5613-4397-9a79-a8a8e6369087",
        "colab": {
          "base_uri": "https://localhost:8080/",
          "height": 545
        }
      },
      "source": [
        "sns.set_style(\"darkgrid\")\n",
        "plt.plot(model.history.history['loss'])\n",
        "plt.title('Training Loss')\n",
        "\n",
        "plt.show()\n",
        "\n",
        "sns.set_style(\"darkgrid\")\n",
        "plt.plot(model.history.history['val_loss'])\n",
        "plt.title('Validation Loss')\n",
        "\n",
        "plt.show()"
      ],
      "execution_count": 0,
      "outputs": [
        {
          "output_type": "display_data",
          "data": {
            "image/png": "[encoded data removed]",
            "text/plain": [
              "<Figure size 432x288 with 1 Axes>"
            ]
          },
          "metadata": {
            "tags": []
          }
        },
        {
          "output_type": "display_data",
          "data": {
            "image/png": "[encoded data removed]",
            "text/plain": [
              "<Figure size 432x288 with 1 Axes>"
            ]
          },
          "metadata": {
            "tags": []
          }
        }
      ]
    },
    {
      "cell_type": "code",
      "metadata": {
        "id": "uXL8USUK5AL7",
        "colab_type": "code",
        "outputId": "6d93486d-2949-46cd-c2cf-92e171a35bea",
        "colab": {
          "base_uri": "https://localhost:8080/",
          "height": 408
        }
      },
      "source": [
        "prob_test = model.predict(X_test, verbose = 1)\n",
        "prob_train = model.predict(X_train, verbose = 1)\n",
        "\n",
        "\n",
        "fpr, tpr, _ = roc_curve(y_train, prob_train)\n",
        "roc_auc = auc(fpr, tpr)\n",
        "print('\\nAUC train: ', roc_auc)\n",
        "\n",
        "\n",
        "fpr, tpr, _ = roc_curve(y_test, prob_test)\n",
        "roc_auc = auc(fpr, tpr)\n",
        "print('AUC test: ', roc_auc)\n",
        "\n",
        "sns.set('talk', 'darkgrid', 'dark', font_scale=1, \\\n",
        "        rc={\"lines.linewidth\": 2, 'grid.linestyle': '--'})\n",
        "\n",
        "lw = 2\n",
        "plt.figure()\n",
        "plt.plot(fpr, tpr, color='darkorange',\n",
        "         lw=lw, label='ROC curve (AUC = %0.2f)' % roc_auc)\n",
        "plt.plot([0, 1], [0, 1], color='navy', lw=lw, linestyle='--')\n",
        "plt.xlim([0.0, 1.0])\n",
        "plt.ylim([0.0, 1.05])\n",
        "plt.xlabel('False Positive Rate')\n",
        "plt.ylabel('True Positive Rate')\n",
        "plt.title('Receiver Operating Characteristic curve')\n",
        "plt.legend(loc=\"lower right\")\n",
        "plt.savefig('roc_auc.pdf', format = \"pdf\")\n",
        "plt.show()"
      ],
      "execution_count": 0,
      "outputs": [
        {
          "output_type": "stream",
          "text": [
            "23643/23643 [==============================] - 4s 171us/sample\n",
            "48001/48001 [==============================] - 8s 163us/sample\n",
            "\n",
            "AUC train:  0.9696332753515531\n",
            "AUC test:  0.9633731872178599\n"
          ],
          "name": "stdout"
        },
        {
          "output_type": "display_data",
          "data": {
            "image/png": "[encoded data removed]",
            "text/plain": [
              "<Figure size 432x288 with 1 Axes>"
            ]
          },
          "metadata": {
            "tags": []
          }
        }
      ]
    },
    {
      "cell_type": "code",
      "metadata": {
        "id": "rhPh7nSgj0N1",
        "colab_type": "code",
        "outputId": "10bc8b1e-df39-42ac-9902-881d9b0606cf",
        "colab": {
          "base_uri": "https://localhost:8080/",
          "height": 52
        }
      },
      "source": [
        "predicted_val = pd.DataFrame(prob_test)\n",
        "y = predicted_val.round()\n",
        "\n",
        "from sklearn.metrics import confusion_matrix\n",
        "confusion_matrix(y_true = y_test,\n",
        "                 y_pred = y)"
      ],
      "execution_count": 0,
      "outputs": [
        {
          "output_type": "execute_result",
          "data": {
            "text/plain": [
              "array([[ 5801,  1210],\n",
              "       [ 1078, 15554]])"
            ]
          },
          "metadata": {
            "tags": []
          },
          "execution_count": 60
        }
      ]
    },
    {
      "cell_type": "code",
      "metadata": {
        "id": "0SsmW7JPloYD",
        "colab_type": "code",
        "outputId": "04ed2aa7-f401-478d-fa17-a591f130a54e",
        "colab": {
          "base_uri": "https://localhost:8080/",
          "height": 424
        }
      },
      "source": [
        "predicted_val"
      ],
      "execution_count": 0,
      "outputs": [
        {
          "output_type": "execute_result",
          "data": {
            "text/html": [
              "<div>\n",
              "<style scoped>\n",
              "    .dataframe tbody tr th:only-of-type {\n",
              "        vertical-align: middle;\n",
              "    }\n",
              "\n",
              "    .dataframe tbody tr th {\n",
              "        vertical-align: top;\n",
              "    }\n",
              "\n",
              "    .dataframe thead th {\n",
              "        text-align: right;\n",
              "    }\n",
              "</style>\n",
              "<table border=\"1\" class=\"dataframe\">\n",
              "  <thead>\n",
              "    <tr style=\"text-align: right;\">\n",
              "      <th></th>\n",
              "      <th>0</th>\n",
              "    </tr>\n",
              "  </thead>\n",
              "  <tbody>\n",
              "    <tr>\n",
              "      <th>0</th>\n",
              "      <td>0.257327</td>\n",
              "    </tr>\n",
              "    <tr>\n",
              "      <th>1</th>\n",
              "      <td>0.925486</td>\n",
              "    </tr>\n",
              "    <tr>\n",
              "      <th>2</th>\n",
              "      <td>0.923907</td>\n",
              "    </tr>\n",
              "    <tr>\n",
              "      <th>3</th>\n",
              "      <td>0.997901</td>\n",
              "    </tr>\n",
              "    <tr>\n",
              "      <th>4</th>\n",
              "      <td>0.999285</td>\n",
              "    </tr>\n",
              "    <tr>\n",
              "      <th>...</th>\n",
              "      <td>...</td>\n",
              "    </tr>\n",
              "    <tr>\n",
              "      <th>23638</th>\n",
              "      <td>0.479196</td>\n",
              "    </tr>\n",
              "    <tr>\n",
              "      <th>23639</th>\n",
              "      <td>0.996230</td>\n",
              "    </tr>\n",
              "    <tr>\n",
              "      <th>23640</th>\n",
              "      <td>0.997941</td>\n",
              "    </tr>\n",
              "    <tr>\n",
              "      <th>23641</th>\n",
              "      <td>0.998426</td>\n",
              "    </tr>\n",
              "    <tr>\n",
              "      <th>23642</th>\n",
              "      <td>0.999908</td>\n",
              "    </tr>\n",
              "  </tbody>\n",
              "</table>\n",
              "<p>23643 rows × 1 columns</p>\n",
              "</div>"
            ],
            "text/plain": [
              "              0\n",
              "0      0.257327\n",
              "1      0.925486\n",
              "2      0.923907\n",
              "3      0.997901\n",
              "4      0.999285\n",
              "...         ...\n",
              "23638  0.479196\n",
              "23639  0.996230\n",
              "23640  0.997941\n",
              "23641  0.998426\n",
              "23642  0.999908\n",
              "\n",
              "[23643 rows x 1 columns]"
            ]
          },
          "metadata": {
            "tags": []
          },
          "execution_count": 72
        }
      ]
    },
    {
      "cell_type": "markdown",
      "metadata": {
        "id": "tUBqlhkfNA1X",
        "colab_type": "text"
      },
      "source": [
        "Kim's Model with GloVe Embedding"
      ]
    },
    {
      "cell_type": "code",
      "metadata": {
        "id": "HGxq-kqeDfM0",
        "colab_type": "code",
        "outputId": "e6a87ed2-4101-45d9-b05a-5de32a1f3a8f",
        "colab": {
          "base_uri": "https://localhost:8080/",
          "height": 34
        }
      },
      "source": [
        "\n",
        "\n",
        "%tensorflow_version 2.x\n",
        "\n",
        "\n",
        "import tensorflow as tf\n",
        "import tensorflow.keras as keras\n",
        "from tensorflow.keras.utils import get_file\n",
        "from tensorflow.keras.utils import to_categorical\n",
        "from tensorflow.keras.models import Sequential, Model\n",
        "from tensorflow.keras.layers import *\n",
        "from tensorflow.keras.optimizers import Adam\n",
        "from tensorflow.keras.metrics import categorical_accuracy\n",
        "from tensorflow.keras.preprocessing import image, sequence\n",
        "from tensorflow.keras.preprocessing.text import Tokenizer\n",
        "from tensorflow.keras.preprocessing.sequence import pad_sequences"
      ],
      "execution_count": 0,
      "outputs": [
        {
          "output_type": "stream",
          "text": [
            "TensorFlow is already loaded. Please restart the runtime to change versions.\n"
          ],
          "name": "stdout"
        }
      ]
    },
    {
      "cell_type": "code",
      "metadata": {
        "id": "eFz8CzBBDjKV",
        "colab_type": "code",
        "colab": {}
      },
      "source": [
        "import numpy as np\n",
        "from sklearn.model_selection import train_test_split\n",
        "from sklearn.metrics import roc_curve, auc\n",
        "import matplotlib.pyplot as plt\n",
        "import seaborn as sns\n",
        "%matplotlib inline"
      ],
      "execution_count": 0,
      "outputs": []
    },
    {
      "cell_type": "code",
      "metadata": {
        "id": "2shBTPNxDnna",
        "colab_type": "code",
        "colab": {}
      },
      "source": [
        "X_train, X_test, y_train, y_test = train_test_split(data, labels, test_size=0.33,\n",
        "                                                    random_state=250620279, \n",
        "                                                    stratify = labels)"
      ],
      "execution_count": 0,
      "outputs": []
    },
    {
      "cell_type": "code",
      "metadata": {
        "id": "hlH8EbuvNLm4",
        "colab_type": "code",
        "outputId": "a254deca-692e-4ab2-e05b-a2f395ccf495",
        "colab": {
          "base_uri": "https://localhost:8080/",
          "height": 694
        }
      },
      "source": [
        "filter_sizes = (3,5,7,8)\n",
        "\n",
        "\n",
        "graph_in = Input(shape=(600, 300))\n",
        "convs = []\n",
        "avgs = []\n",
        "\n",
        "\n",
        "for fsz in filter_sizes:\n",
        "    conv = Conv1D(filters=64,\n",
        "                  kernel_size=fsz,\n",
        "                         padding='valid',\n",
        "                         activation='relu',\n",
        "                         strides=1)(graph_in) \n",
        "    pool = MaxPooling1D(pool_size=300 - fsz + 1)(conv) \n",
        "    flattenMax = Flatten()(pool) \n",
        "    convs.append(flattenMax) \n",
        "    \n",
        "\n",
        "if len(filter_sizes)>1:\n",
        "    out = Concatenate()(convs)\n",
        "else:\n",
        "    out = convs[0]\n",
        "\n",
        "graph = Model(inputs=graph_in, outputs=out, name=\"graphModel\")\n",
        "\n",
        "graph.summary()"
      ],
      "execution_count": 0,
      "outputs": [
        {
          "output_type": "stream",
          "text": [
            "Model: \"graphModel\"\n",
            "__________________________________________________________________________________________________\n",
            "Layer (type)                    Output Shape         Param #     Connected to                     \n",
            "==================================================================================================\n",
            "input_2 (InputLayer)            [(None, 600, 300)]   0                                            \n",
            "__________________________________________________________________________________________________\n",
            "conv1d_4 (Conv1D)               (None, 598, 64)      57664       input_2[0][0]                    \n",
            "__________________________________________________________________________________________________\n",
            "conv1d_5 (Conv1D)               (None, 596, 64)      96064       input_2[0][0]                    \n",
            "__________________________________________________________________________________________________\n",
            "conv1d_6 (Conv1D)               (None, 594, 64)      134464      input_2[0][0]                    \n",
            "__________________________________________________________________________________________________\n",
            "conv1d_7 (Conv1D)               (None, 593, 64)      153664      input_2[0][0]                    \n",
            "__________________________________________________________________________________________________\n",
            "max_pooling1d_4 (MaxPooling1D)  (None, 2, 64)        0           conv1d_4[0][0]                   \n",
            "__________________________________________________________________________________________________\n",
            "max_pooling1d_5 (MaxPooling1D)  (None, 2, 64)        0           conv1d_5[0][0]                   \n",
            "__________________________________________________________________________________________________\n",
            "max_pooling1d_6 (MaxPooling1D)  (None, 2, 64)        0           conv1d_6[0][0]                   \n",
            "__________________________________________________________________________________________________\n",
            "max_pooling1d_7 (MaxPooling1D)  (None, 2, 64)        0           conv1d_7[0][0]                   \n",
            "__________________________________________________________________________________________________\n",
            "flatten_4 (Flatten)             (None, 128)          0           max_pooling1d_4[0][0]            \n",
            "__________________________________________________________________________________________________\n",
            "flatten_5 (Flatten)             (None, 128)          0           max_pooling1d_5[0][0]            \n",
            "__________________________________________________________________________________________________\n",
            "flatten_6 (Flatten)             (None, 128)          0           max_pooling1d_6[0][0]            \n",
            "__________________________________________________________________________________________________\n",
            "flatten_7 (Flatten)             (None, 128)          0           max_pooling1d_7[0][0]            \n",
            "__________________________________________________________________________________________________\n",
            "concatenate_1 (Concatenate)     (None, 512)          0           flatten_4[0][0]                  \n",
            "                                                                 flatten_5[0][0]                  \n",
            "                                                                 flatten_6[0][0]                  \n",
            "                                                                 flatten_7[0][0]                  \n",
            "==================================================================================================\n",
            "Total params: 441,856\n",
            "Trainable params: 441,856\n",
            "Non-trainable params: 0\n",
            "__________________________________________________________________________________________________\n"
          ],
          "name": "stdout"
        }
      ]
    },
    {
      "cell_type": "code",
      "metadata": {
        "id": "awAZbB1eDv-Q",
        "colab_type": "code",
        "outputId": "6ab0432d-bf83-4b61-a767-bf4233fea537",
        "colab": {
          "base_uri": "https://localhost:8080/",
          "height": 275
        }
      },
      "source": [
        "import matplotlib.pyplot as plt\n",
        "from tensorflow.keras.utils import plot_model\n",
        "from IPython.display import Image\n",
        "%matplotlib inline\n",
        "\n",
        "plot_model(graph, show_shapes=True, show_layer_names=True, to_file='GraphModel.png')\n",
        "Image(retina=True, filename='GraphModel.png')"
      ],
      "execution_count": 0,
      "outputs": [
        {
          "output_type": "execute_result",
          "data": {
            "image/png": "[encoded data removed]",
            "text/plain": [
              "<IPython.core.display.Image object>"
            ]
          },
          "metadata": {
            "tags": [],
            "image/png": {
              "width": 1009,
              "height": 258
            }
          },
          "execution_count": 65
        }
      ]
    },
    {
      "cell_type": "code",
      "metadata": {
        "id": "IHZRfC45D9hj",
        "colab_type": "code",
        "colab": {}
      },
      "source": [
        "model_0 = Sequential()\n",
        "embedding_layer1 = Embedding(len(embedding_matrix1),          \n",
        "                            300,                           \n",
        "                            weights=[embedding_matrix1],    \n",
        "                            input_length=300,             \n",
        "                            trainable=False)               \n",
        "\n",
        "model_0.add(embedding_layer1)\n",
        "\n",
        "\n",
        "model_0.add(graph)\n",
        "\n",
        "\n",
        "model_0.add(Dense(64, activation='relu'))\n",
        "model_0.add(Dropout(0.5))\n",
        "model_0.add(Dense(1, activation='sigmoid'))\n",
        "\n",
        "\n",
        "model_0.compile(loss='binary_crossentropy',\n",
        "              optimizer='adam',\n",
        "              metrics=['acc'])"
      ],
      "execution_count": 0,
      "outputs": []
    },
    {
      "cell_type": "code",
      "metadata": {
        "id": "Q9L9uW1XEiHM",
        "colab_type": "code",
        "outputId": "68aa8515-79a6-4f27-fa8e-b4b371fd5870",
        "colab": {
          "base_uri": "https://localhost:8080/",
          "height": 330
        }
      },
      "source": [
        "model_0.summary()"
      ],
      "execution_count": 0,
      "outputs": [
        {
          "output_type": "stream",
          "text": [
            "Model: \"sequential_1\"\n",
            "_________________________________________________________________\n",
            "Layer (type)                 Output Shape              Param #   \n",
            "=================================================================\n",
            "embedding_1 (Embedding)      (None, 300, 300)          15657600  \n",
            "_________________________________________________________________\n",
            "graphModel (Model)           multiple                  441856    \n",
            "_________________________________________________________________\n",
            "dense_2 (Dense)              (None, 64)                16448     \n",
            "_________________________________________________________________\n",
            "dropout_1 (Dropout)          (None, 64)                0         \n",
            "_________________________________________________________________\n",
            "dense_3 (Dense)              (None, 1)                 65        \n",
            "=================================================================\n",
            "Total params: 16,115,969\n",
            "Trainable params: 458,369\n",
            "Non-trainable params: 15,657,600\n",
            "_________________________________________________________________\n"
          ],
          "name": "stdout"
        }
      ]
    },
    {
      "cell_type": "code",
      "metadata": {
        "id": "Vj1ZTQloEk3e",
        "colab_type": "code",
        "outputId": "57c484c7-d92c-44cb-ddbd-67518781a404",
        "colab": {
          "base_uri": "https://localhost:8080/",
          "height": 330
        }
      },
      "source": [
        "import matplotlib.pyplot as plt\n",
        "from tensorflow.keras.utils import plot_model\n",
        "from IPython.display import Image\n",
        "%matplotlib inline\n",
        "\n",
        "plot_model(model_0, show_shapes=True, show_layer_names=True, to_file='model.png')\n",
        "Image(retina=True, filename='model.png')"
      ],
      "execution_count": 0,
      "outputs": [
        {
          "output_type": "execute_result",
          "data": {
            "image/png": "[encoded data removed]",
            "text/plain": [
              "<IPython.core.display.Image object>"
            ]
          },
          "metadata": {
            "tags": [],
            "image/png": {
              "width": 228,
              "height": 313
            }
          },
          "execution_count": 68
        }
      ]
    },
    {
      "cell_type": "code",
      "metadata": {
        "id": "FUCrEnfwE0IM",
        "colab_type": "code",
        "outputId": "909680df-f7f2-4ad8-d1fa-164bcbdef96b",
        "colab": {
          "base_uri": "https://localhost:8080/",
          "height": 399
        }
      },
      "source": [
        "model_0.fit(X_train, y_train, validation_split=0.33, epochs=10, batch_size=5000)"
      ],
      "execution_count": 0,
      "outputs": [
        {
          "output_type": "stream",
          "text": [
            "Train on 32160 samples, validate on 15841 samples\n",
            "Epoch 1/10\n",
            "32160/32160 [==============================] - 15s 453us/sample - loss: 0.8185 - acc: 0.6317 - val_loss: 0.6393 - val_acc: 0.7157\n",
            "Epoch 2/10\n",
            "32160/32160 [==============================] - 14s 444us/sample - loss: 0.6170 - acc: 0.6732 - val_loss: 0.5823 - val_acc: 0.7003\n",
            "Epoch 3/10\n",
            "32160/32160 [==============================] - 14s 445us/sample - loss: 0.5683 - acc: 0.7070 - val_loss: 0.5413 - val_acc: 0.7017\n",
            "Epoch 4/10\n",
            "32160/32160 [==============================] - 14s 445us/sample - loss: 0.5265 - acc: 0.7187 - val_loss: 0.4996 - val_acc: 0.7592\n",
            "Epoch 5/10\n",
            "32160/32160 [==============================] - 14s 448us/sample - loss: 0.4880 - acc: 0.7507 - val_loss: 0.4654 - val_acc: 0.7705\n",
            "Epoch 6/10\n",
            "32160/32160 [==============================] - 14s 448us/sample - loss: 0.4500 - acc: 0.7793 - val_loss: 0.4378 - val_acc: 0.7903\n",
            "Epoch 7/10\n",
            "32160/32160 [==============================] - 14s 449us/sample - loss: 0.4223 - acc: 0.7983 - val_loss: 0.4207 - val_acc: 0.7988\n",
            "Epoch 8/10\n",
            "32160/32160 [==============================] - 14s 451us/sample - loss: 0.3946 - acc: 0.8172 - val_loss: 0.4036 - val_acc: 0.8099\n",
            "Epoch 9/10\n",
            "32160/32160 [==============================] - 15s 452us/sample - loss: 0.3718 - acc: 0.8312 - val_loss: 0.3889 - val_acc: 0.8192\n",
            "Epoch 10/10\n",
            "32160/32160 [==============================] - 15s 453us/sample - loss: 0.3486 - acc: 0.8456 - val_loss: 0.3776 - val_acc: 0.8246\n"
          ],
          "name": "stdout"
        },
        {
          "output_type": "execute_result",
          "data": {
            "text/plain": [
              "<tensorflow.python.keras.callbacks.History at 0x7f706fe49748>"
            ]
          },
          "metadata": {
            "tags": []
          },
          "execution_count": 69
        }
      ]
    },
    {
      "cell_type": "code",
      "metadata": {
        "id": "8XCU_GHYGpLE",
        "colab_type": "code",
        "outputId": "7d0ce61a-9f80-4123-f019-0674b8c49748",
        "colab": {
          "base_uri": "https://localhost:8080/",
          "height": 581
        }
      },
      "source": [
        "sns.set_style(\"darkgrid\")\n",
        "plt.plot(model_0.history.history['loss'])\n",
        "plt.title('Training Loss')\n",
        "\n",
        "plt.show()\n",
        "\n",
        "sns.set_style(\"darkgrid\")\n",
        "plt.plot(model_0.history.history['val_loss'])\n",
        "plt.title('Validation Loss')\n",
        "\n",
        "plt.show()"
      ],
      "execution_count": 0,
      "outputs": [
        {
          "output_type": "display_data",
          "data": {
            "image/png": "[encoded data removed]",
            "text/plain": [
              "<Figure size 432x288 with 1 Axes>"
            ]
          },
          "metadata": {
            "tags": []
          }
        },
        {
          "output_type": "display_data",
          "data": {
            "image/png": "[encoded data removed]",
            "text/plain": [
              "<Figure size 432x288 with 1 Axes>"
            ]
          },
          "metadata": {
            "tags": []
          }
        }
      ]
    },
    {
      "cell_type": "code",
      "metadata": {
        "id": "Y7VuzKikGytu",
        "colab_type": "code",
        "outputId": "8402b59d-3937-49e1-a12c-6de5294d3aa0",
        "colab": {
          "base_uri": "https://localhost:8080/",
          "height": 408
        }
      },
      "source": [
        "prob_test = model_0.predict(X_test, verbose = 1)\n",
        "prob_train = model_0.predict(X_train, verbose = 1)\n",
        "\n",
        "\n",
        "fpr, tpr, _ = roc_curve(y_train, prob_train)\n",
        "roc_auc = auc(fpr, tpr)\n",
        "print('\\nAUC train: ', roc_auc)\n",
        "\n",
        "\n",
        "fpr, tpr, _ = roc_curve(y_test, prob_test)\n",
        "roc_auc = auc(fpr, tpr)\n",
        "print('AUC test: ', roc_auc)\n",
        "\n",
        "sns.set('talk', 'darkgrid', 'dark', font_scale=1, \\\n",
        "        rc={\"lines.linewidth\": 2, 'grid.linestyle': '--'})\n",
        "\n",
        "lw = 2\n",
        "plt.figure()\n",
        "plt.plot(fpr, tpr, color='darkorange',\n",
        "         lw=lw, label='ROC curve (AUC = %0.2f)' % roc_auc)\n",
        "plt.plot([0, 1], [0, 1], color='navy', lw=lw, linestyle='--')\n",
        "plt.xlim([0.0, 1.0])\n",
        "plt.ylim([0.0, 1.05])\n",
        "plt.xlabel('False Positive Rate')\n",
        "plt.ylabel('True Positive Rate')\n",
        "plt.title('Receiver Operating Characteristic curve')\n",
        "plt.legend(loc=\"lower right\")\n",
        "plt.savefig('roc_auc.pdf', format = \"pdf\")\n",
        "plt.show()"
      ],
      "execution_count": 0,
      "outputs": [
        {
          "output_type": "stream",
          "text": [
            "23643/23643 [==============================] - 4s 168us/sample\n",
            "48001/48001 [==============================] - 8s 165us/sample\n",
            "\n",
            "AUC train:  0.9251066316548862\n",
            "AUC test:  0.8979082525028181\n"
          ],
          "name": "stdout"
        },
        {
          "output_type": "display_data",
          "data": {
            "image/png": "[encoded data removed]",
            "text/plain": [
              "<Figure size 432x288 with 1 Axes>"
            ]
          },
          "metadata": {
            "tags": []
          }
        }
      ]
    },
    {
      "cell_type": "code",
      "metadata": {
        "id": "kizGfvGko22s",
        "colab_type": "code",
        "outputId": "d5773317-664d-4b6f-8c09-881e3d2cde20",
        "colab": {
          "base_uri": "https://localhost:8080/",
          "height": 52
        }
      },
      "source": [
        "predicted_val = pd.DataFrame(prob_test)\n",
        "y = predicted_val.round()\n",
        "\n",
        "from sklearn.metrics import confusion_matrix\n",
        "confusion_matrix(y_true = y_test,\n",
        "                 y_pred = y)"
      ],
      "execution_count": 0,
      "outputs": [
        {
          "output_type": "execute_result",
          "data": {
            "text/plain": [
              "array([[ 4463,  2548],\n",
              "       [ 1385, 15247]])"
            ]
          },
          "metadata": {
            "tags": []
          },
          "execution_count": 72
        }
      ]
    },
    {
      "cell_type": "markdown",
      "metadata": {
        "id": "lU-PNg4HIBHE",
        "colab_type": "text"
      },
      "source": [
        "**Sequential Architecture with FastText**"
      ]
    },
    {
      "cell_type": "code",
      "metadata": {
        "id": "Dp__Rx42II-F",
        "colab_type": "code",
        "colab": {}
      },
      "source": [
        "model1 = Sequential()\n",
        "embedding_layer = Embedding(len(embedding_matrix),           \n",
        "                            300,                          \n",
        "                            weights=[embedding_matrix],    \n",
        "                            input_length=300,              \n",
        "                            trainable=False)              \n",
        "\n",
        "model1.add(embedding_layer)"
      ],
      "execution_count": 0,
      "outputs": []
    },
    {
      "cell_type": "code",
      "metadata": {
        "id": "IreC_WFmIVvz",
        "colab_type": "code",
        "colab": {}
      },
      "source": [
        "model1.add(Conv1D(filters=64,           \n",
        "                 kernel_size=3,         \n",
        "                 padding='valid',      \n",
        "                 activation='relu',     \n",
        "                 strides=1)             \n",
        "         )"
      ],
      "execution_count": 0,
      "outputs": []
    },
    {
      "cell_type": "code",
      "metadata": {
        "id": "MOvZ2ppPIcyE",
        "colab_type": "code",
        "colab": {}
      },
      "source": [
        "model1.add(Conv1D(filters=64,           \n",
        "                 kernel_size=3,         \n",
        "                 padding='valid',       \n",
        "                 activation='relu',     \n",
        "                 strides=1)             \n",
        "         )"
      ],
      "execution_count": 0,
      "outputs": []
    },
    {
      "cell_type": "code",
      "metadata": {
        "id": "SAdyM8qTIgN4",
        "colab_type": "code",
        "colab": {}
      },
      "source": [
        "model1.add(Conv1D(filters=64,           \n",
        "                 kernel_size=3,         \n",
        "                 padding='valid',       \n",
        "                 activation='relu',     \n",
        "                 strides=1)             \n",
        "         )"
      ],
      "execution_count": 0,
      "outputs": []
    },
    {
      "cell_type": "code",
      "metadata": {
        "id": "ZodoUNPgI5JY",
        "colab_type": "code",
        "colab": {}
      },
      "source": [
        "model1.add(MaxPooling1D(pool_size = 3))"
      ],
      "execution_count": 0,
      "outputs": []
    },
    {
      "cell_type": "code",
      "metadata": {
        "id": "BGt3MRw8I8QK",
        "colab_type": "code",
        "colab": {}
      },
      "source": [
        "model1.add(Flatten())\n",
        "\n",
        "\n",
        "model1.add(Dense(64, activation = 'relu'))\n",
        "model1.add(Dropout(0.5))\n",
        "\n",
        "\n",
        "model1.add(Dense(1, activation = 'sigmoid'))"
      ],
      "execution_count": 0,
      "outputs": []
    },
    {
      "cell_type": "code",
      "metadata": {
        "id": "y34vRyc4JBg6",
        "colab_type": "code",
        "outputId": "6cee507d-581c-4b57-dba1-112f3575db77",
        "colab": {
          "base_uri": "https://localhost:8080/",
          "height": 469
        }
      },
      "source": [
        "model1.summary()"
      ],
      "execution_count": 0,
      "outputs": [
        {
          "output_type": "stream",
          "text": [
            "Model: \"sequential_2\"\n",
            "_________________________________________________________________\n",
            "Layer (type)                 Output Shape              Param #   \n",
            "=================================================================\n",
            "embedding_2 (Embedding)      (None, 300, 300)          19413600  \n",
            "_________________________________________________________________\n",
            "conv1d_8 (Conv1D)            (None, 298, 64)           57664     \n",
            "_________________________________________________________________\n",
            "conv1d_9 (Conv1D)            (None, 296, 64)           12352     \n",
            "_________________________________________________________________\n",
            "conv1d_10 (Conv1D)           (None, 294, 64)           12352     \n",
            "_________________________________________________________________\n",
            "max_pooling1d_8 (MaxPooling1 (None, 98, 64)            0         \n",
            "_________________________________________________________________\n",
            "flatten_8 (Flatten)          (None, 6272)              0         \n",
            "_________________________________________________________________\n",
            "dense_4 (Dense)              (None, 64)                401472    \n",
            "_________________________________________________________________\n",
            "dropout_2 (Dropout)          (None, 64)                0         \n",
            "_________________________________________________________________\n",
            "dense_5 (Dense)              (None, 1)                 65        \n",
            "=================================================================\n",
            "Total params: 19,897,505\n",
            "Trainable params: 483,905\n",
            "Non-trainable params: 19,413,600\n",
            "_________________________________________________________________\n"
          ],
          "name": "stdout"
        }
      ]
    },
    {
      "cell_type": "code",
      "metadata": {
        "id": "A9gLlyRFJEat",
        "colab_type": "code",
        "colab": {}
      },
      "source": [
        "model1.compile(loss='binary_crossentropy',\n",
        "              optimizer='adam',\n",
        "              metrics=['acc'])"
      ],
      "execution_count": 0,
      "outputs": []
    },
    {
      "cell_type": "code",
      "metadata": {
        "id": "LlzVGmT-JJkM",
        "colab_type": "code",
        "outputId": "ab2c1e19-0670-47b0-aa13-ae6d6a2918aa",
        "colab": {
          "base_uri": "https://localhost:8080/",
          "height": 399
        }
      },
      "source": [
        "model1.fit(X_train, y_train, validation_split=0.33, epochs=10, batch_size=5000)"
      ],
      "execution_count": 0,
      "outputs": [
        {
          "output_type": "stream",
          "text": [
            "Train on 32160 samples, validate on 15841 samples\n",
            "Epoch 1/10\n",
            "32160/32160 [==============================] - 6s 190us/sample - loss: 0.6543 - acc: 0.6806 - val_loss: 0.6151 - val_acc: 0.7003\n",
            "Epoch 2/10\n",
            "32160/32160 [==============================] - 3s 103us/sample - loss: 0.6064 - acc: 0.7050 - val_loss: 0.5944 - val_acc: 0.7003\n",
            "Epoch 3/10\n",
            "32160/32160 [==============================] - 3s 104us/sample - loss: 0.5733 - acc: 0.7050 - val_loss: 0.5261 - val_acc: 0.7003\n",
            "Epoch 4/10\n",
            "32160/32160 [==============================] - 3s 104us/sample - loss: 0.4856 - acc: 0.7050 - val_loss: 0.4361 - val_acc: 0.7003\n",
            "Epoch 5/10\n",
            "32160/32160 [==============================] - 3s 104us/sample - loss: 0.4160 - acc: 0.7051 - val_loss: 0.3990 - val_acc: 0.7004\n",
            "Epoch 6/10\n",
            "32160/32160 [==============================] - 3s 104us/sample - loss: 0.3864 - acc: 0.7424 - val_loss: 0.3750 - val_acc: 0.8564\n",
            "Epoch 7/10\n",
            "32160/32160 [==============================] - 3s 104us/sample - loss: 0.3597 - acc: 0.8359 - val_loss: 0.3347 - val_acc: 0.8648\n",
            "Epoch 8/10\n",
            "32160/32160 [==============================] - 3s 104us/sample - loss: 0.3453 - acc: 0.8470 - val_loss: 0.3271 - val_acc: 0.8599\n",
            "Epoch 9/10\n",
            "32160/32160 [==============================] - 3s 104us/sample - loss: 0.3289 - acc: 0.8624 - val_loss: 0.3195 - val_acc: 0.8725\n",
            "Epoch 10/10\n",
            "32160/32160 [==============================] - 3s 104us/sample - loss: 0.3158 - acc: 0.8685 - val_loss: 0.3048 - val_acc: 0.8763\n"
          ],
          "name": "stdout"
        },
        {
          "output_type": "execute_result",
          "data": {
            "text/plain": [
              "<tensorflow.python.keras.callbacks.History at 0x7f706cd97160>"
            ]
          },
          "metadata": {
            "tags": []
          },
          "execution_count": 81
        }
      ]
    },
    {
      "cell_type": "code",
      "metadata": {
        "id": "spjiHbTOJ82X",
        "colab_type": "code",
        "outputId": "3547374b-d0cd-4712-ba53-5c6145ea057f",
        "colab": {
          "base_uri": "https://localhost:8080/",
          "height": 581
        }
      },
      "source": [
        "sns.set_style(\"darkgrid\")\n",
        "plt.plot(model1.history.history['loss'])\n",
        "plt.title('Training Loss')\n",
        "\n",
        "plt.show()\n",
        "\n",
        "sns.set_style(\"darkgrid\")\n",
        "plt.plot(model1.history.history['val_loss'])\n",
        "plt.title('Validation Loss')\n",
        "\n",
        "plt.show()"
      ],
      "execution_count": 0,
      "outputs": [
        {
          "output_type": "display_data",
          "data": {
            "image/png": "[encoded data removed]",
            "text/plain": [
              "<Figure size 432x288 with 1 Axes>"
            ]
          },
          "metadata": {
            "tags": []
          }
        },
        {
          "output_type": "display_data",
          "data": {
            "image/png": "[encoded data removed]",
            "text/plain": [
              "<Figure size 432x288 with 1 Axes>"
            ]
          },
          "metadata": {
            "tags": []
          }
        }
      ]
    },
    {
      "cell_type": "code",
      "metadata": {
        "id": "bBRcTHrNKFte",
        "colab_type": "code",
        "outputId": "5bb2c4bc-3b1e-4836-aa5f-39e296017147",
        "colab": {
          "base_uri": "https://localhost:8080/",
          "height": 408
        }
      },
      "source": [
        "prob_test = model1.predict(X_test, verbose = 1)\n",
        "prob_train = model1.predict(X_train, verbose = 1)\n",
        "\n",
        "\n",
        "fpr, tpr, _ = roc_curve(y_train, prob_train)\n",
        "roc_auc = auc(fpr, tpr)\n",
        "print('\\nAUC train: ', roc_auc)\n",
        "\n",
        "\n",
        "fpr, tpr, _ = roc_curve(y_test, prob_test)\n",
        "roc_auc = auc(fpr, tpr)\n",
        "print('AUC test: ', roc_auc)\n",
        "\n",
        "sns.set('talk', 'darkgrid', 'dark', font_scale=1, \\\n",
        "        rc={\"lines.linewidth\": 2, 'grid.linestyle': '--'})\n",
        "\n",
        "lw = 2\n",
        "plt.figure()\n",
        "plt.plot(fpr, tpr, color='darkorange',\n",
        "         lw=lw, label='ROC curve (AUC = %0.2f)' % roc_auc)\n",
        "plt.plot([0, 1], [0, 1], color='navy', lw=lw, linestyle='--')\n",
        "plt.xlim([0.0, 1.0])\n",
        "plt.ylim([0.0, 1.05])\n",
        "plt.xlabel('False Positive Rate')\n",
        "plt.ylabel('True Positive Rate')\n",
        "plt.title('Receiver Operating Characteristic curve')\n",
        "plt.legend(loc=\"lower right\")\n",
        "plt.savefig('roc_auc.pdf', format = \"pdf\")\n",
        "plt.show()"
      ],
      "execution_count": 0,
      "outputs": [
        {
          "output_type": "stream",
          "text": [
            "23643/23643 [==============================] - 2s 71us/sample\n",
            "48001/48001 [==============================] - 3s 69us/sample\n",
            "\n",
            "AUC train:  0.9438606390832587\n",
            "AUC test:  0.9448907385899256\n"
          ],
          "name": "stdout"
        },
        {
          "output_type": "display_data",
          "data": {
            "image/png": "[encoded data removed]",
            "text/plain": [
              "<Figure size 432x288 with 1 Axes>"
            ]
          },
          "metadata": {
            "tags": []
          }
        }
      ]
    },
    {
      "cell_type": "code",
      "metadata": {
        "id": "mDHC5hshp1vv",
        "colab_type": "code",
        "outputId": "dd95c6ea-6365-4bc2-9828-3e324d369179",
        "colab": {
          "base_uri": "https://localhost:8080/",
          "height": 52
        }
      },
      "source": [
        "predicted_val = pd.DataFrame(prob_test)\n",
        "y = predicted_val.round()\n",
        "\n",
        "from sklearn.metrics import confusion_matrix\n",
        "confusion_matrix(y_true = y_test,\n",
        "                 y_pred = y)"
      ],
      "execution_count": 0,
      "outputs": [
        {
          "output_type": "execute_result",
          "data": {
            "text/plain": [
              "array([[ 5645,  1366],\n",
              "       [ 1331, 15301]])"
            ]
          },
          "metadata": {
            "tags": []
          },
          "execution_count": 86
        }
      ]
    },
    {
      "cell_type": "markdown",
      "metadata": {
        "id": "UjEhLmRsuFGt",
        "colab_type": "text"
      },
      "source": [
        "**Sequential Architecture with GloVe**"
      ]
    },
    {
      "cell_type": "code",
      "metadata": {
        "id": "vZMuFMLeRbKZ",
        "colab_type": "code",
        "colab": {}
      },
      "source": [
        "\n",
        "model1_0 = Sequential()\n",
        "embedding_layer1 = Embedding(len(embedding_matrix1),           \n",
        "                            300,                           \n",
        "                            weights=[embedding_matrix1],   \n",
        "                            input_length=300,              \n",
        "                            trainable=False)               \n",
        "\n",
        "model1_0.add(embedding_layer1)"
      ],
      "execution_count": 0,
      "outputs": []
    },
    {
      "cell_type": "code",
      "metadata": {
        "id": "gYmf9dnrRrbN",
        "colab_type": "code",
        "colab": {}
      },
      "source": [
        "model1_0.add(Conv1D(filters=64,           \n",
        "                 kernel_size=3,         \n",
        "                 padding='valid',       \n",
        "                 activation='relu',     \n",
        "                 strides=1)             \n",
        "         )"
      ],
      "execution_count": 0,
      "outputs": []
    },
    {
      "cell_type": "code",
      "metadata": {
        "id": "E22GQjTSR1VR",
        "colab_type": "code",
        "colab": {}
      },
      "source": [
        "model1_0.add(Conv1D(filters=64,           \n",
        "                 kernel_size=3,         \n",
        "                 padding='valid',       \n",
        "                 activation='relu',     \n",
        "                 strides=1)             \n",
        "         )"
      ],
      "execution_count": 0,
      "outputs": []
    },
    {
      "cell_type": "code",
      "metadata": {
        "id": "MLO81fL8JkBg",
        "colab_type": "code",
        "colab": {}
      },
      "source": [
        "model1_0.add(Conv1D(filters=64,           \n",
        "                 kernel_size=3,         \n",
        "                 padding='valid',       \n",
        "                 activation='relu',     \n",
        "                 strides=1)             \n",
        "         )"
      ],
      "execution_count": 0,
      "outputs": []
    },
    {
      "cell_type": "code",
      "metadata": {
        "id": "hN0-yBczR7ka",
        "colab_type": "code",
        "colab": {}
      },
      "source": [
        "model1_0.add(MaxPooling1D(pool_size = 3))"
      ],
      "execution_count": 0,
      "outputs": []
    },
    {
      "cell_type": "code",
      "metadata": {
        "id": "KahHORFySAB0",
        "colab_type": "code",
        "colab": {}
      },
      "source": [
        "model1_0.add(Flatten())\n",
        "\n",
        "\n",
        "model1_0.add(Dense(128, activation = 'relu'))\n",
        "model1_0.add(Dropout(0.5))\n",
        "\n",
        "\n",
        "model1_0.add(Dense(1, activation = 'sigmoid'))"
      ],
      "execution_count": 0,
      "outputs": []
    },
    {
      "cell_type": "code",
      "metadata": {
        "id": "I-jIMgF5SGpA",
        "colab_type": "code",
        "outputId": "dfc2ff23-e7d1-4685-b961-8aa7d0bc898b",
        "colab": {
          "base_uri": "https://localhost:8080/",
          "height": 469
        }
      },
      "source": [
        "model1_0.summary()"
      ],
      "execution_count": 0,
      "outputs": [
        {
          "output_type": "stream",
          "text": [
            "Model: \"sequential_3\"\n",
            "_________________________________________________________________\n",
            "Layer (type)                 Output Shape              Param #   \n",
            "=================================================================\n",
            "embedding_3 (Embedding)      (None, 300, 300)          15657600  \n",
            "_________________________________________________________________\n",
            "conv1d_11 (Conv1D)           (None, 298, 64)           57664     \n",
            "_________________________________________________________________\n",
            "conv1d_12 (Conv1D)           (None, 296, 64)           12352     \n",
            "_________________________________________________________________\n",
            "conv1d_13 (Conv1D)           (None, 294, 64)           12352     \n",
            "_________________________________________________________________\n",
            "max_pooling1d_9 (MaxPooling1 (None, 98, 64)            0         \n",
            "_________________________________________________________________\n",
            "flatten_9 (Flatten)          (None, 6272)              0         \n",
            "_________________________________________________________________\n",
            "dense_6 (Dense)              (None, 128)               802944    \n",
            "_________________________________________________________________\n",
            "dropout_3 (Dropout)          (None, 128)               0         \n",
            "_________________________________________________________________\n",
            "dense_7 (Dense)              (None, 1)                 129       \n",
            "=================================================================\n",
            "Total params: 16,543,041\n",
            "Trainable params: 885,441\n",
            "Non-trainable params: 15,657,600\n",
            "_________________________________________________________________\n"
          ],
          "name": "stdout"
        }
      ]
    },
    {
      "cell_type": "code",
      "metadata": {
        "id": "b0Uwp6SHSZ0Y",
        "colab_type": "code",
        "colab": {}
      },
      "source": [
        "model1_0.compile(loss='binary_crossentropy',\n",
        "              optimizer='adam',\n",
        "              metrics=['acc'])"
      ],
      "execution_count": 0,
      "outputs": []
    },
    {
      "cell_type": "code",
      "metadata": {
        "id": "yvGh2p1WScm1",
        "colab_type": "code",
        "outputId": "fc0aa1c2-38b2-40b3-ba34-99640e364b3b",
        "colab": {
          "base_uri": "https://localhost:8080/",
          "height": 399
        }
      },
      "source": [
        "model1_0.fit(X_train, y_train, validation_split=0.33, epochs=10, batch_size=5000)"
      ],
      "execution_count": 0,
      "outputs": [
        {
          "output_type": "stream",
          "text": [
            "Train on 32160 samples, validate on 15841 samples\n",
            "Epoch 1/10\n",
            "32160/32160 [==============================] - 4s 113us/sample - loss: 0.6525 - acc: 0.6698 - val_loss: 0.6112 - val_acc: 0.7003\n",
            "Epoch 2/10\n",
            "32160/32160 [==============================] - 3s 104us/sample - loss: 0.6037 - acc: 0.7050 - val_loss: 0.5940 - val_acc: 0.7003\n",
            "Epoch 3/10\n",
            "32160/32160 [==============================] - 3s 103us/sample - loss: 0.5841 - acc: 0.7050 - val_loss: 0.5751 - val_acc: 0.7003\n",
            "Epoch 4/10\n",
            "32160/32160 [==============================] - 3s 104us/sample - loss: 0.5618 - acc: 0.7050 - val_loss: 0.5471 - val_acc: 0.7003\n",
            "Epoch 5/10\n",
            "32160/32160 [==============================] - 3s 103us/sample - loss: 0.5336 - acc: 0.7050 - val_loss: 0.5162 - val_acc: 0.7003\n",
            "Epoch 6/10\n",
            "32160/32160 [==============================] - 3s 104us/sample - loss: 0.4996 - acc: 0.7050 - val_loss: 0.4852 - val_acc: 0.7003\n",
            "Epoch 7/10\n",
            "32160/32160 [==============================] - 3s 105us/sample - loss: 0.4666 - acc: 0.7050 - val_loss: 0.4597 - val_acc: 0.7003\n",
            "Epoch 8/10\n",
            "32160/32160 [==============================] - 3s 104us/sample - loss: 0.4452 - acc: 0.7160 - val_loss: 0.4450 - val_acc: 0.7582\n",
            "Epoch 9/10\n",
            "32160/32160 [==============================] - 3s 105us/sample - loss: 0.4387 - acc: 0.7807 - val_loss: 0.4550 - val_acc: 0.7991\n",
            "Epoch 10/10\n",
            "32160/32160 [==============================] - 3s 105us/sample - loss: 0.4278 - acc: 0.7987 - val_loss: 0.4387 - val_acc: 0.7787\n"
          ],
          "name": "stdout"
        },
        {
          "output_type": "execute_result",
          "data": {
            "text/plain": [
              "<tensorflow.python.keras.callbacks.History at 0x7f706c7b4048>"
            ]
          },
          "metadata": {
            "tags": []
          },
          "execution_count": 95
        }
      ]
    },
    {
      "cell_type": "code",
      "metadata": {
        "id": "GSnwcvZYS5Rn",
        "colab_type": "code",
        "outputId": "81328f72-d814-4205-f419-93c9dc498fe6",
        "colab": {
          "base_uri": "https://localhost:8080/",
          "height": 598
        }
      },
      "source": [
        "print(model1_0.history.history.keys())\n",
        "\n",
        "sns.set_style(\"darkgrid\")\n",
        "plt.plot(model1_0.history.history['loss'])\n",
        "plt.title('Training Loss')\n",
        "\n",
        "plt.show()\n",
        "\n",
        "sns.set_style(\"darkgrid\")\n",
        "plt.plot(model1_0.history.history['val_loss'])\n",
        "plt.title('Validation Loss')\n",
        "\n",
        "plt.show()"
      ],
      "execution_count": 0,
      "outputs": [
        {
          "output_type": "stream",
          "text": [
            "dict_keys(['loss', 'acc', 'val_loss', 'val_acc'])\n"
          ],
          "name": "stdout"
        },
        {
          "output_type": "display_data",
          "data": {
            "image/png": "[encoded data removed]",
            "text/plain": [
              "<Figure size 432x288 with 1 Axes>"
            ]
          },
          "metadata": {
            "tags": []
          }
        },
        {
          "output_type": "display_data",
          "data": {
            "image/png": "[encoded data removed]",
            "text/plain": [
              "<Figure size 432x288 with 1 Axes>"
            ]
          },
          "metadata": {
            "tags": []
          }
        }
      ]
    },
    {
      "cell_type": "code",
      "metadata": {
        "id": "tb1tSAenI59-",
        "colab_type": "code",
        "outputId": "6c4e2aed-f120-493c-ca0f-4a63f0cb9ba6",
        "colab": {
          "base_uri": "https://localhost:8080/",
          "height": 104
        }
      },
      "source": [
        "\n",
        "prob_test = model1_0.predict(X_test, verbose = 1)\n",
        "prob_train = model1_0.predict(X_train, verbose = 1)\n",
        "\n",
        "\n",
        "fpr, tpr, _ = roc_curve(y_train, prob_train)\n",
        "roc_auc = auc(fpr, tpr)\n",
        "print('\\nAUC train: ', roc_auc)\n",
        "\n",
        "\n",
        "fpr, tpr, _ = roc_curve(y_test, prob_test)\n",
        "roc_auc = auc(fpr, tpr)\n",
        "print('AUC test: ', roc_auc)"
      ],
      "execution_count": 0,
      "outputs": [
        {
          "output_type": "stream",
          "text": [
            "23643/23643 [==============================] - 2s 71us/sample\n",
            "48001/48001 [==============================] - 3s 71us/sample\n",
            "\n",
            "AUC train:  0.8879070694577751\n",
            "AUC test:  0.8793220450526826\n"
          ],
          "name": "stdout"
        }
      ]
    },
    {
      "cell_type": "code",
      "metadata": {
        "id": "7ukBiIaigOTR",
        "colab_type": "code",
        "outputId": "1480bb7c-68ce-4a1f-f19a-ea6b4cf93c7e",
        "colab": {
          "base_uri": "https://localhost:8080/",
          "height": 408
        }
      },
      "source": [
        "prob_test = model1_0.predict(X_test, verbose = 1)\n",
        "prob_train = model1_0.predict(X_train, verbose = 1)\n",
        "\n",
        "\n",
        "fpr, tpr, _ = roc_curve(y_train, prob_train)\n",
        "roc_auc = auc(fpr, tpr)\n",
        "print('\\nAUC train: ', roc_auc)\n",
        "\n",
        "\n",
        "fpr, tpr, _ = roc_curve(y_test, prob_test)\n",
        "roc_auc = auc(fpr, tpr)\n",
        "print('AUC test: ', roc_auc)\n",
        "\n",
        "sns.set('talk', 'darkgrid', 'dark', font_scale=1, \\\n",
        "        rc={\"lines.linewidth\": 2, 'grid.linestyle': '--'})\n",
        "\n",
        "lw = 2\n",
        "plt.figure()\n",
        "plt.plot(fpr, tpr, color='darkorange',\n",
        "         lw=lw, label='ROC curve (AUC = %0.2f)' % roc_auc)\n",
        "plt.plot([0, 1], [0, 1], color='navy', lw=lw, linestyle='--')\n",
        "plt.xlim([0.0, 1.0])\n",
        "plt.ylim([0.0, 1.05])\n",
        "plt.xlabel('False Positive Rate')\n",
        "plt.ylabel('True Positive Rate')\n",
        "plt.title('Receiver Operating Characteristic curve')\n",
        "plt.legend(loc=\"lower right\")\n",
        "plt.savefig('roc_auc.pdf', format = \"pdf\")\n",
        "plt.show()"
      ],
      "execution_count": 0,
      "outputs": [
        {
          "output_type": "stream",
          "text": [
            "23643/23643 [==============================] - 2s 73us/sample\n",
            "48001/48001 [==============================] - 3s 71us/sample\n",
            "\n",
            "AUC train:  0.8879070694577751\n",
            "AUC test:  0.8793220450526826\n"
          ],
          "name": "stdout"
        },
        {
          "output_type": "display_data",
          "data": {
            "image/png": "[encoded data removed]",
            "text/plain": [
              "<Figure size 432x288 with 1 Axes>"
            ]
          },
          "metadata": {
            "tags": []
          }
        }
      ]
    },
    {
      "cell_type": "code",
      "metadata": {
        "id": "xn8JgGPZqr8V",
        "colab_type": "code",
        "outputId": "ceb27806-e96c-449d-e9b6-b7721ddccbce",
        "colab": {
          "base_uri": "https://localhost:8080/",
          "height": 52
        }
      },
      "source": [
        "predicted_val = pd.DataFrame(prob_test)\n",
        "y = predicted_val.round()\n",
        "\n",
        "from sklearn.metrics import confusion_matrix\n",
        "confusion_matrix(y_true = y_test,\n",
        "                 y_pred = y)"
      ],
      "execution_count": 0,
      "outputs": [
        {
          "output_type": "execute_result",
          "data": {
            "text/plain": [
              "array([[ 2405,  4606],\n",
              "       [  474, 16158]])"
            ]
          },
          "metadata": {
            "tags": []
          },
          "execution_count": 101
        }
      ]
    }
  ]
}